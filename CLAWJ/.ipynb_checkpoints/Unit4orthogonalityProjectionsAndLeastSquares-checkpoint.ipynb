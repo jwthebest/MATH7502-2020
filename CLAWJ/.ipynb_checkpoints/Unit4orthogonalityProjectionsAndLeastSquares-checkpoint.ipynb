{
 "cells": [
  {
   "cell_type": "markdown",
   "metadata": {},
   "source": [
    "# Unit 4: Orthogonality, Projections, and Least Squares\n",
    "\n",
    "In this unit:\n",
    "1. Orthogonal and orthonormal vectors\n",
    "1. Orthogonal vector spaces and relations for the fundamental subspaces\n",
    "1. Grahm-Schmidt\n",
    "1. QR factorization.\n",
    "1. Projections\n",
    "1. Least Squares"
   ]
  },
  {
   "cell_type": "code",
   "execution_count": 325,
   "metadata": {},
   "outputs": [
    {
     "data": {
      "text/plain": [
       "10×10 Array{Float64,2}:\n",
       " 10.0  10.0  13.0  16.0  13.5  14.0  12.5  17.5   8.5  19.0\n",
       " 10.0  15.0   9.0  19.0  16.0   2.5  12.0  11.5  10.5   7.5\n",
       " 13.0   9.0   1.0   9.0  14.0   8.0  11.0  12.5   3.5   8.0\n",
       " 16.0  19.0   9.0  12.0   2.5  12.5  17.0   5.5  10.0   8.5\n",
       " 13.5  16.0  14.0   2.5  18.0   6.0   9.5  17.0   8.5  11.0\n",
       " 14.0   2.5   8.0  12.5   6.0   2.0  15.0  15.5   8.0  11.5\n",
       " 12.5  12.0  11.0  17.0   9.5  15.0  19.0  14.5  10.5  18.0\n",
       " 17.5  11.5  12.5   5.5  17.0  15.5  14.5   3.0   9.0   4.0\n",
       "  8.5  10.5   3.5  10.0   8.5   8.0  10.5   9.0  13.0  15.0\n",
       " 19.0   7.5   8.0   8.5  11.0  11.5  18.0   4.0  15.0  11.0"
      ]
     },
     "execution_count": 325,
     "metadata": {},
     "output_type": "execute_result"
    }
   ],
   "source": [
    "using LinearAlgebra\n",
    "A = rand(1:20,10,10)\n",
    "A = (A+A')/2"
   ]
  },
  {
   "cell_type": "code",
   "execution_count": 379,
   "metadata": {},
   "outputs": [
    {
     "data": {
      "text/plain": [
       "10-element Array{Float64,1}:\n",
       " 113.72950559988396\n",
       "  19.73155563757156\n",
       "  14.153365059086607\n",
       "   9.800374890532522\n",
       "   2.0302948894023394\n",
       "   0.6283185383131713\n",
       "  -9.157409102362998\n",
       " -10.875731026290122\n",
       " -13.340771005489133\n",
       " -22.69950348064795"
      ]
     },
     "execution_count": 379,
     "metadata": {},
     "output_type": "execute_result"
    }
   ],
   "source": [
    "ev = reverse(eigvals(A))"
   ]
  },
  {
   "cell_type": "code",
   "execution_count": 402,
   "metadata": {},
   "outputs": [],
   "source": [
    "At = copy(A);"
   ]
  },
  {
   "cell_type": "code",
   "execution_count": 481,
   "metadata": {},
   "outputs": [
    {
     "data": {
      "text/plain": [
       "0.00048665705060361666"
      ]
     },
     "execution_count": 481,
     "metadata": {},
     "output_type": "execute_result"
    }
   ],
   "source": [
    "Q, R = qr(At)\n",
    "At = R*Q\n",
    "norm(sort(diag(At),rev=true) - ev)"
   ]
  }
 ],
 "metadata": {
  "kernelspec": {
   "display_name": "JuliaPro_v1.4.2-1 1.4.2",
   "language": "julia",
   "name": "juliapro_v1.4.2-1-1.4"
  },
  "language_info": {
   "file_extension": ".jl",
   "mimetype": "application/julia",
   "name": "julia",
   "version": "1.4.2"
  }
 },
 "nbformat": 4,
 "nbformat_minor": 4
}
