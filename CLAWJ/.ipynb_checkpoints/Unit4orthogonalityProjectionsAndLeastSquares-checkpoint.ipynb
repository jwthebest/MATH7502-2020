{
 "cells": [
  {
   "cell_type": "markdown",
   "metadata": {},
   "source": [
    "# Unit 4: Orthogonality, Projections, and Least Squares\n",
    "\n",
    "In this unit:\n",
    "1. Orthogonal and orthonormal vectors\n",
    "1. Orthogonal vector spaces and relations for the fundamental subspaces\n",
    "1. Grahm-Schmidt\n",
    "1. QR factorization.\n",
    "1. Projections\n",
    "1. Least Squares"
   ]
  },
  {
   "cell_type": "markdown",
   "metadata": {},
   "source": [
    "Two vectors $u$ and $v$ are said to be **orthogonal** if $u \\cdot v = 0$."
   ]
  },
  {
   "cell_type": "code",
   "execution_count": 3,
   "metadata": {},
   "outputs": [
    {
     "data": {
      "text/plain": [
       "(0, 0, 0, 0)"
      ]
     },
     "execution_count": 3,
     "metadata": {},
     "output_type": "execute_result"
    }
   ],
   "source": [
    "using LinearAlgebra\n",
    "u = [1,1];\n",
    "v =[-1,1];\n",
    "u⋅ v, u'v,u'*v,dot(u,v)  #\\cdot +[TAB]"
   ]
  },
  {
   "cell_type": "markdown",
   "metadata": {},
   "source": [
    "A collection of vectors $\\{v_1,\\ldots,v_k\\}$ is said to be orthogonal if every pair $v_i$ and $v_j$ for $i \\neq j$ is orthogonal."
   ]
  },
  {
   "cell_type": "markdown",
   "metadata": {},
   "source": [
    "Further the collection is called **orthonormal** if $||v_i|| = 1$ for each $i$."
   ]
  },
  {
   "cell_type": "markdown",
   "metadata": {},
   "source": [
    "Hence for an orthonormal collection of vectors,\n",
    "$$\n",
    "v_i^Tv_j =\n",
    "\\begin{cases}\n",
    "1 & i=j \\\\\n",
    "0 & i \\neq j \\\\\n",
    "\\end{cases}\n",
    "$$\n"
   ]
  },
  {
   "cell_type": "markdown",
   "metadata": {},
   "source": [
    "Example: The standard $n$-vectors $e_1,\\ldots,e_n$ are orthonormal. But we can also rotate them or flip them and still keep orthonormal vectors."
   ]
  },
  {
   "cell_type": "markdown",
   "metadata": {},
   "source": [
    "**Claim:** Orthonormal vectors are linearly indepednent (also true for orthogonal vectors)."
   ]
  },
  {
   "cell_type": "markdown",
   "metadata": {},
   "source": [
    "## Orthogonal Vector Spaces"
   ]
  },
  {
   "cell_type": "markdown",
   "metadata": {},
   "source": [
    "Vector spaces ${\\cal V}$ and ${\\cal W}$ are orthogonal if $v^Tw = 0$ for every $v \\in {\\cal V}$ and $w \\in {\\cal W}$."
   ]
  },
  {
   "cell_type": "markdown",
   "metadata": {},
   "source": [
    "## Gram - Schmidt"
   ]
  },
  {
   "cell_type": "markdown",
   "metadata": {},
   "source": [
    "(Alg 5.1, pp 97 [VMLS]):\n",
    "\n",
    "Given $n$-vectors $v_1,\\ldots,v_k$, for $i=1,\\ldots,k$:\n",
    "\n",
    "1. Orthogonalization: Set\n",
    "$$\n",
    "\\tilde{q}_i = v_i - (q_1^T v_i) q_1 - \\ldots - (q_{i-1}^T v_i) q_{i-1}\n",
    "$$\n",
    "\n",
    "1. If $\\tilde{q}_i = 0$ quit saying \"linearly dependent\".\n",
    "1. Normalization: Set $q_i = \\tilde{q}_i/||\\tilde{q}_i||$."
   ]
  },
  {
   "cell_type": "code",
   "execution_count": 2,
   "metadata": {},
   "outputs": [
    {
     "data": {
      "text/plain": [
       "3×2 Array{Float64,2}:\n",
       " 0.267261  -0.57735\n",
       " 0.534522  -0.57735\n",
       " 0.801784   0.57735"
      ]
     },
     "execution_count": 2,
     "metadata": {},
     "output_type": "execute_result"
    }
   ],
   "source": [
    "using LinearAlgebra\n",
    "#warm up implemintation for n=3, k=2\n",
    "v1 = [1,2,3]\n",
    "v2 = [0,1,4] #[2,4,6]\n",
    "#output will be q1 and q2 (or a claim \"NOT Linearly Independent\")\n",
    "\n",
    "#Step 1 in iteration i=1\n",
    "qT = v1 - zeros(3)\n",
    "\n",
    "#Step 2 qT \\neq 0 so won't quit\n",
    "\n",
    "#step 3\n",
    "q1 = qT/norm(qT)\n",
    "\n",
    "#iteration i = 2\n",
    "#Step 1\n",
    "qT = v2 - (q1'v2)*q1\n",
    "\n",
    "#Step 2\n",
    "#If qT was 0 then quit\n",
    "\n",
    "#Step 3\n",
    "q2 = qT/norm(qT)\n",
    "\n",
    "#output\n",
    "Q = [q1 q2]"
   ]
  },
  {
   "cell_type": "code",
   "execution_count": 3,
   "metadata": {},
   "outputs": [
    {
     "data": {
      "text/plain": [
       "1.0"
      ]
     },
     "execution_count": 3,
     "metadata": {},
     "output_type": "execute_result"
    }
   ],
   "source": [
    "norm(Q[:,1])"
   ]
  },
  {
   "cell_type": "code",
   "execution_count": 4,
   "metadata": {},
   "outputs": [
    {
     "data": {
      "text/plain": [
       "1.0"
      ]
     },
     "execution_count": 4,
     "metadata": {},
     "output_type": "execute_result"
    }
   ],
   "source": [
    "norm(Q[:,2])"
   ]
  },
  {
   "cell_type": "code",
   "execution_count": 5,
   "metadata": {},
   "outputs": [
    {
     "data": {
      "text/plain": [
       "-3.3306690738754696e-16"
      ]
     },
     "execution_count": 5,
     "metadata": {},
     "output_type": "execute_result"
    }
   ],
   "source": [
    "Q[:,1]'Q[:,2]"
   ]
  },
  {
   "cell_type": "code",
   "execution_count": 6,
   "metadata": {},
   "outputs": [
    {
     "data": {
      "text/plain": [
       "2×2 Array{Float64,2}:\n",
       "  1.0          -3.29667e-16\n",
       " -3.29667e-16   1.0"
      ]
     },
     "execution_count": 6,
     "metadata": {},
     "output_type": "execute_result"
    }
   ],
   "source": [
    "Q'Q "
   ]
  },
  {
   "cell_type": "markdown",
   "metadata": {},
   "source": [
    "We see that $Q^T Q = I$. So is $Q^{-1} = Q^{T}$? (Only if $k=n$)"
   ]
  },
  {
   "cell_type": "markdown",
   "metadata": {},
   "source": [
    "**todo**: Implement Gram-Schmidt"
   ]
  },
  {
   "cell_type": "code",
   "execution_count": 12,
   "metadata": {},
   "outputs": [
    {
     "ename": "MethodError",
     "evalue": "MethodError: no method matching zero(::Type{Any})\nClosest candidates are:\n  zero(::Type{Union{Missing, T}}) where T at missing.jl:105\n  zero(!Matched::Type{Missing}) at missing.jl:103\n  zero(!Matched::Type{LibGit2.GitHash}) at /Users/vagrant/worker/juliapro-release-osx1011-0_6/build/tmp_julia/Julia-1.4.app/Contents/Resources/julia/share/julia/stdlib/v1.4/LibGit2/src/oid.jl:220\n  ...",
     "output_type": "error",
     "traceback": [
      "MethodError: no method matching zero(::Type{Any})\nClosest candidates are:\n  zero(::Type{Union{Missing, T}}) where T at missing.jl:105\n  zero(!Matched::Type{Missing}) at missing.jl:103\n  zero(!Matched::Type{LibGit2.GitHash}) at /Users/vagrant/worker/juliapro-release-osx1011-0_6/build/tmp_julia/Julia-1.4.app/Contents/Resources/julia/share/julia/stdlib/v1.4/LibGit2/src/oid.jl:220\n  ...",
      "",
      "Stacktrace:",
      " [1] zero(::Type{Any}) at ./missing.jl:105",
      " [2] reduce_empty(::typeof(+), ::Type{T} where T) at ./reduce.jl:306",
      " [3] reduce_empty(::typeof(Base.add_sum), ::Type{T} where T) at ./reduce.jl:313",
      " [4] mapreduce_empty(::typeof(identity), ::Function, ::Type{T} where T) at ./reduce.jl:335",
      " [5] _mapreduce(::typeof(identity), ::typeof(Base.add_sum), ::IndexLinear, ::Array{Any,1}) at ./reduce.jl:392",
      " [6] _mapreduce_dim at ./reducedim.jl:312 [inlined]",
      " [7] #mapreduce#580 at ./reducedim.jl:307 [inlined]",
      " [8] mapreduce at ./reducedim.jl:307 [inlined]",
      " [9] _sum at ./reducedim.jl:657 [inlined]",
      " [10] _sum at ./reducedim.jl:656 [inlined]",
      " [11] #sum#583 at ./reducedim.jl:652 [inlined]",
      " [12] sum(::Array{Any,1}) at ./reducedim.jl:652",
      " [13] top-level scope at In[12]:1"
     ]
    }
   ],
   "source": [
    "sum([])"
   ]
  },
  {
   "cell_type": "code",
   "execution_count": 25,
   "metadata": {},
   "outputs": [
    {
     "data": {
      "text/plain": [
       "myGramSchmidt (generic function with 1 method)"
      ]
     },
     "execution_count": 25,
     "metadata": {},
     "output_type": "execute_result"
    }
   ],
   "source": [
    "function myGramSchmidt(v)\n",
    "    n = length(v[1])\n",
    "    k = length(v)\n",
    "    if norm(v[1]) < 10^-8\n",
    "        error(\"linearly dependent\")\n",
    "    end\n",
    "    q = [v[1]/norm(v[1])] #start with first q \n",
    "    for i in 2:k\n",
    "        qT = v[i] - sum([(q[j]'v[i])*q[j] for j in 1:i-1])\n",
    "        if norm(qT) < 10^-8 #almost zero \n",
    "            error(\"linearly dependent\")\n",
    "        end\n",
    "        qi = qT/norm(qT)\n",
    "        push!(q,qi)\n",
    "    end\n",
    "    return q\n",
    "end"
   ]
  },
  {
   "cell_type": "code",
   "execution_count": 37,
   "metadata": {},
   "outputs": [
    {
     "data": {
      "text/plain": [
       "3-element Array{Array{Float64,1},1}:\n",
       " [0.18257418583505536, 0.3651483716701107, 0.5477225575051661, 0.7302967433402214]\n",
       " [-0.8809855213552419, -0.2729814291523284, -0.03722474033895375, 0.38465565016919023]\n",
       " [-0.02369753079705554, -0.5059422825171476, 0.7938672817013798, -0.3365049373181967]"
      ]
     },
     "execution_count": 37,
     "metadata": {},
     "output_type": "execute_result"
    }
   ],
   "source": [
    "v1 = [1,2,3,4]\n",
    "v2 = [-4,0,2,5]\n",
    "v3 = [2,1,4,2]\n",
    "#k=n=3\n",
    "vList = [v1,v2,v3]\n",
    "qList = myGramSchmidt(vList)"
   ]
  },
  {
   "cell_type": "code",
   "execution_count": 38,
   "metadata": {},
   "outputs": [
    {
     "data": {
      "text/plain": [
       "3-element Array{Float64,1}:\n",
       " 0.9999999999999999\n",
       " 1.0\n",
       " 0.9999999999999999"
      ]
     },
     "execution_count": 38,
     "metadata": {},
     "output_type": "execute_result"
    }
   ],
   "source": [
    "norm.(qList)"
   ]
  },
  {
   "cell_type": "code",
   "execution_count": 31,
   "metadata": {},
   "outputs": [
    {
     "data": {
      "text/plain": [
       "1.6653345369377348e-16"
      ]
     },
     "execution_count": 31,
     "metadata": {},
     "output_type": "execute_result"
    }
   ],
   "source": [
    "qList[2]'qList[3]"
   ]
  },
  {
   "cell_type": "code",
   "execution_count": 39,
   "metadata": {},
   "outputs": [
    {
     "data": {
      "text/plain": [
       "4×3 Array{Float64,2}:\n",
       " 0.182574  -0.880986   -0.0236975\n",
       " 0.365148  -0.272981   -0.505942\n",
       " 0.547723  -0.0372247   0.793867\n",
       " 0.730297   0.384656   -0.336505"
      ]
     },
     "execution_count": 39,
     "metadata": {},
     "output_type": "execute_result"
    }
   ],
   "source": [
    "Q = hcat(qList...) #hcat(qList[1],qList[2],qList[3])  splat operator"
   ]
  },
  {
   "cell_type": "code",
   "execution_count": 40,
   "metadata": {},
   "outputs": [
    {
     "data": {
      "text/plain": [
       "3×3 Array{Float64,2}:\n",
       " 1.0           2.04527e-16   3.49122e-16\n",
       " 2.04527e-16   1.0          -5.21202e-16\n",
       " 3.49122e-16  -5.21202e-16   1.0"
      ]
     },
     "execution_count": 40,
     "metadata": {},
     "output_type": "execute_result"
    }
   ],
   "source": [
    "Q'Q"
   ]
  },
  {
   "cell_type": "code",
   "execution_count": 36,
   "metadata": {},
   "outputs": [
    {
     "data": {
      "text/plain": [
       "3×3 Array{Float64,2}:\n",
       "  1.11022e-16  -3.33067e-16   1.11022e-16\n",
       " -1.11022e-16   1.249e-16    -5.55112e-17\n",
       "  2.77556e-16   1.11022e-16   2.77556e-16"
      ]
     },
     "execution_count": 36,
     "metadata": {},
     "output_type": "execute_result"
    }
   ],
   "source": [
    "inv(Q) - Q'"
   ]
  },
  {
   "cell_type": "markdown",
   "metadata": {},
   "source": [
    "A matrix with orthonormal columns $A$ satisfies,\n",
    "\n",
    "$$\n",
    "A^TA = I\n",
    "$$\n",
    "\n",
    "This of $A$ as $n \\times k$ so the $I$ is $k \\times k$.\n",
    "\n",
    "If $A$ is in addition square then it is called an orthogonal matrix and $A^T = A^{-1}$."
   ]
  },
  {
   "cell_type": "markdown",
   "metadata": {},
   "source": [
    "1. $|| A x|| = ||x||$\n",
    "1. $(Ax)^T(Ay) = x^Ty$\n",
    "1. $\\angle (Ax, Ay) = \\angle (x,y)$"
   ]
  },
  {
   "cell_type": "markdown",
   "metadata": {},
   "source": [
    "## QR Factorization"
   ]
  },
  {
   "cell_type": "markdown",
   "metadata": {},
   "source": [
    "$$\n",
    "A = QR\n",
    "$$"
   ]
  },
  {
   "cell_type": "markdown",
   "metadata": {},
   "source": [
    "Expresses the \"result\" of Gram-Schmidt."
   ]
  },
  {
   "cell_type": "markdown",
   "metadata": {},
   "source": [
    "In Gram-Schmidt:\n",
    "$$\n",
    "q_{i} ||\\tilde{q_i}|| = \\tilde{q}_i = v_i - (q_1^T v_i) q_1 - \\ldots - (q_{i-1}^T v_i) q_{i-1}\n",
    "$$\n",
    "\n",
    "Or\n",
    "$$\n",
    "v_i = (q_1^T v_i) q_1 + \\ldots + (q_{i-1}^T v_i) q_{i-1} + q_{i} ||\\tilde{q_i}||\n",
    "$$\n",
    "Or\n",
    "$$\n",
    "v_i = R_{1i} q_1 + \\ldots + R_{ii} q_i\n",
    "$$\n",
    "where\n",
    "$$\n",
    "R_{ij} = q_i^T v_j\n",
    "\\qquad\n",
    "\\text{for}~~i<j\n",
    "$$\n",
    "and\n",
    "$$\n",
    "R_{ii} = ||\\tilde{q}_i||\n",
    "$$\n",
    "and\n",
    "$$\n",
    "R_{ij} = 0\n",
    "\\qquad\n",
    "\\text{for}~~i>j\n",
    "$$\n",
    "Hence,\n",
    "$$\n",
    "A = QR\n",
    "$$"
   ]
  },
  {
   "cell_type": "code",
   "execution_count": 41,
   "metadata": {},
   "outputs": [
    {
     "data": {
      "text/plain": [
       "3"
      ]
     },
     "execution_count": 41,
     "metadata": {},
     "output_type": "execute_result"
    }
   ],
   "source": [
    "using LinearAlgebra\n",
    "A =[1 0 1;\n",
    "    2 0 1;\n",
    "    1 1 1;\n",
    "    2 3 4]\n",
    "rank(A)"
   ]
  },
  {
   "cell_type": "code",
   "execution_count": 44,
   "metadata": {},
   "outputs": [
    {
     "data": {
      "text/plain": [
       "4×7 Array{Int64,2}:\n",
       " 1  0  1  1  0  0  0\n",
       " 2  0  1  0  1  0  0\n",
       " 1  1  1  0  0  1  0\n",
       " 2  3  4  0  0  0  1"
      ]
     },
     "execution_count": 44,
     "metadata": {},
     "output_type": "execute_result"
    }
   ],
   "source": [
    "[A I]"
   ]
  },
  {
   "cell_type": "code",
   "execution_count": 45,
   "metadata": {},
   "outputs": [
    {
     "data": {
      "text/plain": [
       "4"
      ]
     },
     "execution_count": 45,
     "metadata": {},
     "output_type": "execute_result"
    }
   ],
   "source": [
    "rank([A I])"
   ]
  },
  {
   "cell_type": "code",
   "execution_count": 46,
   "metadata": {},
   "outputs": [
    {
     "data": {
      "text/plain": [
       "4×7 Array{Int64,2}:\n",
       " 1  0  1  1  0  0  0\n",
       " 2  0  1  0  1  0  0\n",
       " 1  1  1  0  0  1  0\n",
       " 2  3  4  0  0  0  1"
      ]
     },
     "execution_count": 46,
     "metadata": {},
     "output_type": "execute_result"
    }
   ],
   "source": [
    "B = [A I]"
   ]
  },
  {
   "cell_type": "code",
   "execution_count": 50,
   "metadata": {},
   "outputs": [
    {
     "ename": "ErrorException",
     "evalue": "linearly dependent",
     "output_type": "error",
     "traceback": [
      "linearly dependent",
      "",
      "Stacktrace:",
      " [1] error(::String) at /Applications/JuliaPro-1.4.2-1.app/Contents/Resources/julia/Contents/Resources/julia/lib/julia/sys.dylib:?",
      " [2] myGramSchmidt(::Array{Array{Int64,1},1}) at ./In[25]:11",
      " [3] top-level scope at In[50]:1"
     ]
    }
   ],
   "source": [
    "myGramSchmidt([B[:,i] for i in 1:(size(B)[2])])"
   ]
  },
  {
   "cell_type": "code",
   "execution_count": 42,
   "metadata": {},
   "outputs": [
    {
     "name": "stdout",
     "output_type": "stream",
     "text": [
      "search: \u001b[0m\u001b[1mq\u001b[22m\u001b[0m\u001b[1mr\u001b[22m \u001b[0m\u001b[1mq\u001b[22m\u001b[0m\u001b[1mr\u001b[22m! \u001b[0m\u001b[1mQ\u001b[22m\u001b[0m\u001b[1mR\u001b[22m \u001b[0m\u001b[1mQ\u001b[22m\u001b[0m\u001b[1mR\u001b[22mPivoted s\u001b[0m\u001b[1mq\u001b[22m\u001b[0m\u001b[1mr\u001b[22mt is\u001b[0m\u001b[1mq\u001b[22m\u001b[0m\u001b[1mr\u001b[22mt \u001b[0m\u001b[1mQ\u001b[22muickSo\u001b[0m\u001b[1mr\u001b[22mt Partial\u001b[0m\u001b[1mQ\u001b[22muickSo\u001b[0m\u001b[1mr\u001b[22mt\n",
      "\n"
     ]
    },
    {
     "data": {
      "text/latex": [
       "\\begin{verbatim}\n",
       "qr(A, pivot=Val(false); blocksize) -> F\n",
       "\\end{verbatim}\n",
       "Compute the QR factorization of the matrix \\texttt{A}: an orthogonal (or unitary if \\texttt{A} is complex-valued) matrix \\texttt{Q}, and an upper triangular matrix \\texttt{R} such that\n",
       "\n",
       "$$A = Q R$$\n",
       "The returned object \\texttt{F} stores the factorization in a packed format:\n",
       "\n",
       "\\begin{itemize}\n",
       "\\item if \\texttt{pivot == Val(true)} then \\texttt{F} is a \\href{@ref}{\\texttt{QRPivoted}} object,\n",
       "\n",
       "\n",
       "\\item otherwise if the element type of \\texttt{A} is a BLAS type (\\href{@ref}{\\texttt{Float32}}, \\href{@ref}{\\texttt{Float64}}, \\texttt{ComplexF32} or \\texttt{ComplexF64}), then \\texttt{F} is a \\href{@ref}{\\texttt{QRCompactWY}} object,\n",
       "\n",
       "\n",
       "\\item otherwise \\texttt{F} is a \\href{@ref}{\\texttt{QR}} object.\n",
       "\n",
       "\\end{itemize}\n",
       "The individual components of the decomposition \\texttt{F} can be retrieved via property accessors:\n",
       "\n",
       "\\begin{itemize}\n",
       "\\item \\texttt{F.Q}: the orthogonal/unitary matrix \\texttt{Q}\n",
       "\n",
       "\n",
       "\\item \\texttt{F.R}: the upper triangular matrix \\texttt{R}\n",
       "\n",
       "\n",
       "\\item \\texttt{F.p}: the permutation vector of the pivot (\\href{@ref}{\\texttt{QRPivoted}} only)\n",
       "\n",
       "\n",
       "\\item \\texttt{F.P}: the permutation matrix of the pivot (\\href{@ref}{\\texttt{QRPivoted}} only)\n",
       "\n",
       "\\end{itemize}\n",
       "Iterating the decomposition produces the components \\texttt{Q}, \\texttt{R}, and if extant \\texttt{p}.\n",
       "\n",
       "The following functions are available for the \\texttt{QR} objects: \\href{@ref}{\\texttt{inv}}, \\href{@ref}{\\texttt{size}}, and \\href{@ref}{\\texttt{{\\textbackslash}}}. When \\texttt{A} is rectangular, \\texttt{{\\textbackslash}} will return a least squares solution and if the solution is not unique, the one with smallest norm is returned. When \\texttt{A} is not full rank, factorization with (column) pivoting is required to obtain a minimum norm solution.\n",
       "\n",
       "Multiplication with respect to either full/square or non-full/square \\texttt{Q} is allowed, i.e. both \\texttt{F.Q*F.R} and \\texttt{F.Q*A} are supported. A \\texttt{Q} matrix can be converted into a regular matrix with \\href{@ref}{\\texttt{Matrix}}.  This operation returns the \"thin\" Q factor, i.e., if \\texttt{A} is \\texttt{m}×\\texttt{n} with \\texttt{m>=n}, then \\texttt{Matrix(F.Q)} yields an \\texttt{m}×\\texttt{n} matrix with orthonormal columns.  To retrieve the \"full\" Q factor, an \\texttt{m}×\\texttt{m} orthogonal matrix, use \\texttt{F.Q*Matrix(I,m,m)}.  If \\texttt{m<=n}, then \\texttt{Matrix(F.Q)} yields an \\texttt{m}×\\texttt{m} orthogonal matrix.\n",
       "\n",
       "The block size for QR decomposition can be specified by keyword argument \\texttt{blocksize :: Integer} when \\texttt{pivot == Val(false)} and \\texttt{A isa StridedMatrix\\{<:BlasFloat\\}}. It is ignored when \\texttt{blocksize > minimum(size(A))}.  See \\href{@ref}{\\texttt{QRCompactWY}}.\n",
       "\n",
       "\\begin{quote}\n",
       "\\textbf{compat}\n",
       "\n",
       "Julia 1.4\n",
       "\n",
       "The \\texttt{blocksize} keyword argument requires Julia 1.4 or later.\n",
       "\n",
       "\\end{quote}\n",
       "\\section{Examples}\n",
       "\\begin{verbatim}\n",
       "julia> A = [3.0 -6.0; 4.0 -8.0; 0.0 1.0]\n",
       "3×2 Array{Float64,2}:\n",
       " 3.0  -6.0\n",
       " 4.0  -8.0\n",
       " 0.0   1.0\n",
       "\n",
       "julia> F = qr(A)\n",
       "LinearAlgebra.QRCompactWY{Float64,Array{Float64,2}}\n",
       "Q factor:\n",
       "3×3 LinearAlgebra.QRCompactWYQ{Float64,Array{Float64,2}}:\n",
       " -0.6   0.0   0.8\n",
       " -0.8   0.0  -0.6\n",
       "  0.0  -1.0   0.0\n",
       "R factor:\n",
       "2×2 Array{Float64,2}:\n",
       " -5.0  10.0\n",
       "  0.0  -1.0\n",
       "\n",
       "julia> F.Q * F.R == A\n",
       "true\n",
       "\\end{verbatim}\n",
       "\\begin{quote}\n",
       "\\textbf{note}\n",
       "\n",
       "Note\n",
       "\n",
       "\\texttt{qr} returns multiple types because LAPACK uses several representations that minimize the memory storage requirements of products of Householder elementary reflectors, so that the \\texttt{Q} and \\texttt{R} matrices can be stored compactly rather as two separate dense matrices.\n",
       "\n",
       "\\end{quote}\n",
       "\\rule{\\textwidth}{1pt}\n",
       "\\begin{verbatim}\n",
       "qr(A) -> QRSparse\n",
       "\\end{verbatim}\n",
       "Compute the \\texttt{QR} factorization of a sparse matrix \\texttt{A}. Fill-reducing row and column permutations are used such that \\texttt{F.R = F.Q'*A[F.prow,F.pcol]}. The main application of this type is to solve least squares or underdetermined problems with \\href{@ref}{\\texttt{{\\textbackslash}}}. The function calls the C library SPQR.\n",
       "\n",
       "\\begin{quote}\n",
       "\\textbf{note}\n",
       "\n",
       "Note\n",
       "\n",
       "\\texttt{qr(A::SparseMatrixCSC)} uses the SPQR library that is part of SuiteSparse. As this library only supports sparse matrices with \\href{@ref}{\\texttt{Float64}} or \\texttt{ComplexF64} elements, as of Julia v1.4 \\texttt{qr} converts \\texttt{A} into a copy that is of type \\texttt{SparseMatrixCSC\\{Float64\\}} or \\texttt{SparseMatrixCSC\\{ComplexF64\\}} as appropriate.\n",
       "\n",
       "\\end{quote}\n",
       "\\section{Examples}\n",
       "\\begin{verbatim}\n",
       "julia> A = sparse([1,2,3,4], [1,1,2,2], [1.0,1.0,1.0,1.0])\n",
       "4×2 SparseMatrixCSC{Float64,Int64} with 4 stored entries:\n",
       "  [1, 1]  =  1.0\n",
       "  [2, 1]  =  1.0\n",
       "  [3, 2]  =  1.0\n",
       "  [4, 2]  =  1.0\n",
       "\n",
       "julia> qr(A)\n",
       "Base.SparseArrays.SPQR.QRSparse{Float64,Int64}\n",
       "Q factor:\n",
       "4×4 Base.SparseArrays.SPQR.QRSparseQ{Float64,Int64}:\n",
       " -0.707107   0.0        0.0       -0.707107\n",
       "  0.0       -0.707107  -0.707107   0.0\n",
       "  0.0       -0.707107   0.707107   0.0\n",
       " -0.707107   0.0        0.0        0.707107\n",
       "R factor:\n",
       "2×2 SparseMatrixCSC{Float64,Int64} with 2 stored entries:\n",
       "  [1, 1]  =  -1.41421\n",
       "  [2, 2]  =  -1.41421\n",
       "Row permutation:\n",
       "4-element Array{Int64,1}:\n",
       " 1\n",
       " 3\n",
       " 4\n",
       " 2\n",
       "Column permutation:\n",
       "2-element Array{Int64,1}:\n",
       " 1\n",
       " 2\n",
       "\\end{verbatim}\n"
      ],
      "text/markdown": [
       "```\n",
       "qr(A, pivot=Val(false); blocksize) -> F\n",
       "```\n",
       "\n",
       "Compute the QR factorization of the matrix `A`: an orthogonal (or unitary if `A` is complex-valued) matrix `Q`, and an upper triangular matrix `R` such that\n",
       "\n",
       "$$\n",
       "A = Q R\n",
       "$$\n",
       "\n",
       "The returned object `F` stores the factorization in a packed format:\n",
       "\n",
       "  * if `pivot == Val(true)` then `F` is a [`QRPivoted`](@ref) object,\n",
       "  * otherwise if the element type of `A` is a BLAS type ([`Float32`](@ref), [`Float64`](@ref), `ComplexF32` or `ComplexF64`), then `F` is a [`QRCompactWY`](@ref) object,\n",
       "  * otherwise `F` is a [`QR`](@ref) object.\n",
       "\n",
       "The individual components of the decomposition `F` can be retrieved via property accessors:\n",
       "\n",
       "  * `F.Q`: the orthogonal/unitary matrix `Q`\n",
       "  * `F.R`: the upper triangular matrix `R`\n",
       "  * `F.p`: the permutation vector of the pivot ([`QRPivoted`](@ref) only)\n",
       "  * `F.P`: the permutation matrix of the pivot ([`QRPivoted`](@ref) only)\n",
       "\n",
       "Iterating the decomposition produces the components `Q`, `R`, and if extant `p`.\n",
       "\n",
       "The following functions are available for the `QR` objects: [`inv`](@ref), [`size`](@ref), and [`\\`](@ref). When `A` is rectangular, `\\` will return a least squares solution and if the solution is not unique, the one with smallest norm is returned. When `A` is not full rank, factorization with (column) pivoting is required to obtain a minimum norm solution.\n",
       "\n",
       "Multiplication with respect to either full/square or non-full/square `Q` is allowed, i.e. both `F.Q*F.R` and `F.Q*A` are supported. A `Q` matrix can be converted into a regular matrix with [`Matrix`](@ref).  This operation returns the \"thin\" Q factor, i.e., if `A` is `m`×`n` with `m>=n`, then `Matrix(F.Q)` yields an `m`×`n` matrix with orthonormal columns.  To retrieve the \"full\" Q factor, an `m`×`m` orthogonal matrix, use `F.Q*Matrix(I,m,m)`.  If `m<=n`, then `Matrix(F.Q)` yields an `m`×`m` orthogonal matrix.\n",
       "\n",
       "The block size for QR decomposition can be specified by keyword argument `blocksize :: Integer` when `pivot == Val(false)` and `A isa StridedMatrix{<:BlasFloat}`. It is ignored when `blocksize > minimum(size(A))`.  See [`QRCompactWY`](@ref).\n",
       "\n",
       "!!! compat \"Julia 1.4\"\n",
       "    The `blocksize` keyword argument requires Julia 1.4 or later.\n",
       "\n",
       "\n",
       "# Examples\n",
       "\n",
       "```jldoctest\n",
       "julia> A = [3.0 -6.0; 4.0 -8.0; 0.0 1.0]\n",
       "3×2 Array{Float64,2}:\n",
       " 3.0  -6.0\n",
       " 4.0  -8.0\n",
       " 0.0   1.0\n",
       "\n",
       "julia> F = qr(A)\n",
       "LinearAlgebra.QRCompactWY{Float64,Array{Float64,2}}\n",
       "Q factor:\n",
       "3×3 LinearAlgebra.QRCompactWYQ{Float64,Array{Float64,2}}:\n",
       " -0.6   0.0   0.8\n",
       " -0.8   0.0  -0.6\n",
       "  0.0  -1.0   0.0\n",
       "R factor:\n",
       "2×2 Array{Float64,2}:\n",
       " -5.0  10.0\n",
       "  0.0  -1.0\n",
       "\n",
       "julia> F.Q * F.R == A\n",
       "true\n",
       "```\n",
       "\n",
       "!!! note\n",
       "    `qr` returns multiple types because LAPACK uses several representations that minimize the memory storage requirements of products of Householder elementary reflectors, so that the `Q` and `R` matrices can be stored compactly rather as two separate dense matrices.\n",
       "\n",
       "\n",
       "---\n",
       "\n",
       "```\n",
       "qr(A) -> QRSparse\n",
       "```\n",
       "\n",
       "Compute the `QR` factorization of a sparse matrix `A`. Fill-reducing row and column permutations are used such that `F.R = F.Q'*A[F.prow,F.pcol]`. The main application of this type is to solve least squares or underdetermined problems with [`\\`](@ref). The function calls the C library SPQR.\n",
       "\n",
       "!!! note\n",
       "    `qr(A::SparseMatrixCSC)` uses the SPQR library that is part of SuiteSparse. As this library only supports sparse matrices with [`Float64`](@ref) or `ComplexF64` elements, as of Julia v1.4 `qr` converts `A` into a copy that is of type `SparseMatrixCSC{Float64}` or `SparseMatrixCSC{ComplexF64}` as appropriate.\n",
       "\n",
       "\n",
       "# Examples\n",
       "\n",
       "```jldoctest\n",
       "julia> A = sparse([1,2,3,4], [1,1,2,2], [1.0,1.0,1.0,1.0])\n",
       "4×2 SparseMatrixCSC{Float64,Int64} with 4 stored entries:\n",
       "  [1, 1]  =  1.0\n",
       "  [2, 1]  =  1.0\n",
       "  [3, 2]  =  1.0\n",
       "  [4, 2]  =  1.0\n",
       "\n",
       "julia> qr(A)\n",
       "Base.SparseArrays.SPQR.QRSparse{Float64,Int64}\n",
       "Q factor:\n",
       "4×4 Base.SparseArrays.SPQR.QRSparseQ{Float64,Int64}:\n",
       " -0.707107   0.0        0.0       -0.707107\n",
       "  0.0       -0.707107  -0.707107   0.0\n",
       "  0.0       -0.707107   0.707107   0.0\n",
       " -0.707107   0.0        0.0        0.707107\n",
       "R factor:\n",
       "2×2 SparseMatrixCSC{Float64,Int64} with 2 stored entries:\n",
       "  [1, 1]  =  -1.41421\n",
       "  [2, 2]  =  -1.41421\n",
       "Row permutation:\n",
       "4-element Array{Int64,1}:\n",
       " 1\n",
       " 3\n",
       " 4\n",
       " 2\n",
       "Column permutation:\n",
       "2-element Array{Int64,1}:\n",
       " 1\n",
       " 2\n",
       "```\n"
      ],
      "text/plain": [
       "\u001b[36m  qr(A, pivot=Val(false); blocksize) -> F\u001b[39m\n",
       "\n",
       "  Compute the QR factorization of the matrix \u001b[36mA\u001b[39m: an orthogonal (or unitary if \u001b[36mA\u001b[39m\n",
       "  is complex-valued) matrix \u001b[36mQ\u001b[39m, and an upper triangular matrix \u001b[36mR\u001b[39m such that\n",
       "\n",
       "\u001b[35mA = Q R\u001b[39m\n",
       "\n",
       "  The returned object \u001b[36mF\u001b[39m stores the factorization in a packed format:\n",
       "\n",
       "    •    if \u001b[36mpivot == Val(true)\u001b[39m then \u001b[36mF\u001b[39m is a \u001b[36mQRPivoted\u001b[39m object,\n",
       "\n",
       "    •    otherwise if the element type of \u001b[36mA\u001b[39m is a BLAS type (\u001b[36mFloat32\u001b[39m,\n",
       "        \u001b[36mFloat64\u001b[39m, \u001b[36mComplexF32\u001b[39m or \u001b[36mComplexF64\u001b[39m), then \u001b[36mF\u001b[39m is a \u001b[36mQRCompactWY\u001b[39m\n",
       "        object,\n",
       "\n",
       "    •    otherwise \u001b[36mF\u001b[39m is a \u001b[36mQR\u001b[39m object.\n",
       "\n",
       "  The individual components of the decomposition \u001b[36mF\u001b[39m can be retrieved via\n",
       "  property accessors:\n",
       "\n",
       "    •    \u001b[36mF.Q\u001b[39m: the orthogonal/unitary matrix \u001b[36mQ\u001b[39m\n",
       "\n",
       "    •    \u001b[36mF.R\u001b[39m: the upper triangular matrix \u001b[36mR\u001b[39m\n",
       "\n",
       "    •    \u001b[36mF.p\u001b[39m: the permutation vector of the pivot (\u001b[36mQRPivoted\u001b[39m only)\n",
       "\n",
       "    •    \u001b[36mF.P\u001b[39m: the permutation matrix of the pivot (\u001b[36mQRPivoted\u001b[39m only)\n",
       "\n",
       "  Iterating the decomposition produces the components \u001b[36mQ\u001b[39m, \u001b[36mR\u001b[39m, and if extant \u001b[36mp\u001b[39m.\n",
       "\n",
       "  The following functions are available for the \u001b[36mQR\u001b[39m objects: \u001b[36minv\u001b[39m, \u001b[36msize\u001b[39m, and \u001b[36m\\\u001b[39m.\n",
       "  When \u001b[36mA\u001b[39m is rectangular, \u001b[36m\\\u001b[39m will return a least squares solution and if the\n",
       "  solution is not unique, the one with smallest norm is returned. When \u001b[36mA\u001b[39m is\n",
       "  not full rank, factorization with (column) pivoting is required to obtain a\n",
       "  minimum norm solution.\n",
       "\n",
       "  Multiplication with respect to either full/square or non-full/square \u001b[36mQ\u001b[39m is\n",
       "  allowed, i.e. both \u001b[36mF.Q*F.R\u001b[39m and \u001b[36mF.Q*A\u001b[39m are supported. A \u001b[36mQ\u001b[39m matrix can be\n",
       "  converted into a regular matrix with \u001b[36mMatrix\u001b[39m. This operation returns the\n",
       "  \"thin\" Q factor, i.e., if \u001b[36mA\u001b[39m is \u001b[36mm\u001b[39m×\u001b[36mn\u001b[39m with \u001b[36mm>=n\u001b[39m, then \u001b[36mMatrix(F.Q)\u001b[39m yields an \u001b[36mm\u001b[39m×\u001b[36mn\u001b[39m\n",
       "  matrix with orthonormal columns. To retrieve the \"full\" Q factor, an \u001b[36mm\u001b[39m×\u001b[36mm\u001b[39m\n",
       "  orthogonal matrix, use \u001b[36mF.Q*Matrix(I,m,m)\u001b[39m. If \u001b[36mm<=n\u001b[39m, then \u001b[36mMatrix(F.Q)\u001b[39m yields\n",
       "  an \u001b[36mm\u001b[39m×\u001b[36mm\u001b[39m orthogonal matrix.\n",
       "\n",
       "  The block size for QR decomposition can be specified by keyword argument\n",
       "  \u001b[36mblocksize :: Integer\u001b[39m when \u001b[36mpivot == Val(false)\u001b[39m and \u001b[36mA isa\n",
       "  StridedMatrix{<:BlasFloat}\u001b[39m. It is ignored when \u001b[36mblocksize > minimum(size(A))\u001b[39m.\n",
       "  See \u001b[36mQRCompactWY\u001b[39m.\n",
       "\n",
       "\u001b[39m\u001b[1m  │ \u001b[22m\u001b[39m\u001b[1mJulia 1.4\u001b[22m\n",
       "\u001b[39m\u001b[1m  │\u001b[22m\n",
       "\u001b[39m\u001b[1m  │\u001b[22m  The \u001b[36mblocksize\u001b[39m keyword argument requires Julia 1.4 or later.\n",
       "\n",
       "\u001b[1m  Examples\u001b[22m\n",
       "\u001b[1m  ≡≡≡≡≡≡≡≡≡≡\u001b[22m\n",
       "\n",
       "\u001b[36m  julia> A = [3.0 -6.0; 4.0 -8.0; 0.0 1.0]\u001b[39m\n",
       "\u001b[36m  3×2 Array{Float64,2}:\u001b[39m\n",
       "\u001b[36m   3.0  -6.0\u001b[39m\n",
       "\u001b[36m   4.0  -8.0\u001b[39m\n",
       "\u001b[36m   0.0   1.0\u001b[39m\n",
       "\u001b[36m  \u001b[39m\n",
       "\u001b[36m  julia> F = qr(A)\u001b[39m\n",
       "\u001b[36m  LinearAlgebra.QRCompactWY{Float64,Array{Float64,2}}\u001b[39m\n",
       "\u001b[36m  Q factor:\u001b[39m\n",
       "\u001b[36m  3×3 LinearAlgebra.QRCompactWYQ{Float64,Array{Float64,2}}:\u001b[39m\n",
       "\u001b[36m   -0.6   0.0   0.8\u001b[39m\n",
       "\u001b[36m   -0.8   0.0  -0.6\u001b[39m\n",
       "\u001b[36m    0.0  -1.0   0.0\u001b[39m\n",
       "\u001b[36m  R factor:\u001b[39m\n",
       "\u001b[36m  2×2 Array{Float64,2}:\u001b[39m\n",
       "\u001b[36m   -5.0  10.0\u001b[39m\n",
       "\u001b[36m    0.0  -1.0\u001b[39m\n",
       "\u001b[36m  \u001b[39m\n",
       "\u001b[36m  julia> F.Q * F.R == A\u001b[39m\n",
       "\u001b[36m  true\u001b[39m\n",
       "\n",
       "\u001b[36m\u001b[1m  │ \u001b[22m\u001b[39m\u001b[36m\u001b[1mNote\u001b[22m\u001b[39m\n",
       "\u001b[36m\u001b[1m  │\u001b[22m\u001b[39m\n",
       "\u001b[36m\u001b[1m  │\u001b[22m\u001b[39m  \u001b[36mqr\u001b[39m returns multiple types because LAPACK uses several\n",
       "\u001b[36m\u001b[1m  │\u001b[22m\u001b[39m  representations that minimize the memory storage requirements of\n",
       "\u001b[36m\u001b[1m  │\u001b[22m\u001b[39m  products of Householder elementary reflectors, so that the \u001b[36mQ\u001b[39m and \u001b[36mR\u001b[39m\n",
       "\u001b[36m\u001b[1m  │\u001b[22m\u001b[39m  matrices can be stored compactly rather as two separate dense\n",
       "\u001b[36m\u001b[1m  │\u001b[22m\u001b[39m  matrices.\n",
       "\n",
       "  ────────────────────────────────────────────────────────────────────────────\n",
       "\n",
       "\u001b[36m  qr(A) -> QRSparse\u001b[39m\n",
       "\n",
       "  Compute the \u001b[36mQR\u001b[39m factorization of a sparse matrix \u001b[36mA\u001b[39m. Fill-reducing row and\n",
       "  column permutations are used such that \u001b[36mF.R = F.Q'*A[F.prow,F.pcol]\u001b[39m. The main\n",
       "  application of this type is to solve least squares or underdetermined\n",
       "  problems with \u001b[36m\\\u001b[39m. The function calls the C library SPQR.\n",
       "\n",
       "\u001b[36m\u001b[1m  │ \u001b[22m\u001b[39m\u001b[36m\u001b[1mNote\u001b[22m\u001b[39m\n",
       "\u001b[36m\u001b[1m  │\u001b[22m\u001b[39m\n",
       "\u001b[36m\u001b[1m  │\u001b[22m\u001b[39m  \u001b[36mqr(A::SparseMatrixCSC)\u001b[39m uses the SPQR library that is part of\n",
       "\u001b[36m\u001b[1m  │\u001b[22m\u001b[39m  SuiteSparse. As this library only supports sparse matrices with\n",
       "\u001b[36m\u001b[1m  │\u001b[22m\u001b[39m  \u001b[36mFloat64\u001b[39m or \u001b[36mComplexF64\u001b[39m elements, as of Julia v1.4 \u001b[36mqr\u001b[39m converts \u001b[36mA\u001b[39m\n",
       "\u001b[36m\u001b[1m  │\u001b[22m\u001b[39m  into a copy that is of type \u001b[36mSparseMatrixCSC{Float64}\u001b[39m or\n",
       "\u001b[36m\u001b[1m  │\u001b[22m\u001b[39m  \u001b[36mSparseMatrixCSC{ComplexF64}\u001b[39m as appropriate.\n",
       "\n",
       "\u001b[1m  Examples\u001b[22m\n",
       "\u001b[1m  ≡≡≡≡≡≡≡≡≡≡\u001b[22m\n",
       "\n",
       "\u001b[36m  julia> A = sparse([1,2,3,4], [1,1,2,2], [1.0,1.0,1.0,1.0])\u001b[39m\n",
       "\u001b[36m  4×2 SparseMatrixCSC{Float64,Int64} with 4 stored entries:\u001b[39m\n",
       "\u001b[36m    [1, 1]  =  1.0\u001b[39m\n",
       "\u001b[36m    [2, 1]  =  1.0\u001b[39m\n",
       "\u001b[36m    [3, 2]  =  1.0\u001b[39m\n",
       "\u001b[36m    [4, 2]  =  1.0\u001b[39m\n",
       "\u001b[36m  \u001b[39m\n",
       "\u001b[36m  julia> qr(A)\u001b[39m\n",
       "\u001b[36m  Base.SparseArrays.SPQR.QRSparse{Float64,Int64}\u001b[39m\n",
       "\u001b[36m  Q factor:\u001b[39m\n",
       "\u001b[36m  4×4 Base.SparseArrays.SPQR.QRSparseQ{Float64,Int64}:\u001b[39m\n",
       "\u001b[36m   -0.707107   0.0        0.0       -0.707107\u001b[39m\n",
       "\u001b[36m    0.0       -0.707107  -0.707107   0.0\u001b[39m\n",
       "\u001b[36m    0.0       -0.707107   0.707107   0.0\u001b[39m\n",
       "\u001b[36m   -0.707107   0.0        0.0        0.707107\u001b[39m\n",
       "\u001b[36m  R factor:\u001b[39m\n",
       "\u001b[36m  2×2 SparseMatrixCSC{Float64,Int64} with 2 stored entries:\u001b[39m\n",
       "\u001b[36m    [1, 1]  =  -1.41421\u001b[39m\n",
       "\u001b[36m    [2, 2]  =  -1.41421\u001b[39m\n",
       "\u001b[36m  Row permutation:\u001b[39m\n",
       "\u001b[36m  4-element Array{Int64,1}:\u001b[39m\n",
       "\u001b[36m   1\u001b[39m\n",
       "\u001b[36m   3\u001b[39m\n",
       "\u001b[36m   4\u001b[39m\n",
       "\u001b[36m   2\u001b[39m\n",
       "\u001b[36m  Column permutation:\u001b[39m\n",
       "\u001b[36m  2-element Array{Int64,1}:\u001b[39m\n",
       "\u001b[36m   1\u001b[39m\n",
       "\u001b[36m   2\u001b[39m"
      ]
     },
     "execution_count": 42,
     "metadata": {},
     "output_type": "execute_result"
    }
   ],
   "source": [
    "? qr"
   ]
  },
  {
   "cell_type": "code",
   "execution_count": 52,
   "metadata": {},
   "outputs": [
    {
     "data": {
      "text/plain": [
       "4×3 Array{Int64,2}:\n",
       " 1  0  1\n",
       " 2  0  1\n",
       " 1  1  1\n",
       " 2  3  4"
      ]
     },
     "execution_count": 52,
     "metadata": {},
     "output_type": "execute_result"
    }
   ],
   "source": [
    "A"
   ]
  },
  {
   "cell_type": "code",
   "execution_count": 51,
   "metadata": {},
   "outputs": [
    {
     "data": {
      "text/plain": [
       "LinearAlgebra.QRCompactWY{Float64,Array{Float64,2}}\n",
       "Q factor:\n",
       "4×4 LinearAlgebra.QRCompactWYQ{Float64,Array{Float64,2}}:\n",
       " -0.316228  -0.309965   0.642353  -0.625543\n",
       " -0.632456  -0.61993   -0.204385   0.417029\n",
       " -0.316228   0.132842  -0.700749  -0.625543\n",
       " -0.632456   0.708492   0.233583   0.208514\n",
       "R factor:\n",
       "3×3 Array{Float64,2}:\n",
       " -3.16228  -2.21359  -3.79473\n",
       "  0.0       2.25832   2.03691\n",
       "  0.0       0.0       0.671551"
      ]
     },
     "execution_count": 51,
     "metadata": {},
     "output_type": "execute_result"
    }
   ],
   "source": [
    "F = qr(A)"
   ]
  },
  {
   "cell_type": "code",
   "execution_count": 54,
   "metadata": {},
   "outputs": [
    {
     "data": {
      "text/plain": [
       "3×3 Array{Float64,2}:\n",
       " -3.16228  -2.21359  -3.79473\n",
       "  0.0       2.25832   2.03691\n",
       "  0.0       0.0       0.671551"
      ]
     },
     "execution_count": 54,
     "metadata": {},
     "output_type": "execute_result"
    }
   ],
   "source": [
    "F.R"
   ]
  },
  {
   "cell_type": "code",
   "execution_count": 55,
   "metadata": {},
   "outputs": [],
   "source": [
    "Q = F.Q[:,1:3];\n",
    "R = F.R;"
   ]
  },
  {
   "cell_type": "code",
   "execution_count": 56,
   "metadata": {},
   "outputs": [
    {
     "data": {
      "text/plain": [
       "4×3 Array{Float64,2}:\n",
       " -0.316228  -0.309965   0.642353\n",
       " -0.632456  -0.61993   -0.204385\n",
       " -0.316228   0.132842  -0.700749\n",
       " -0.632456   0.708492   0.233583"
      ]
     },
     "execution_count": 56,
     "metadata": {},
     "output_type": "execute_result"
    }
   ],
   "source": [
    "Q"
   ]
  },
  {
   "cell_type": "code",
   "execution_count": 57,
   "metadata": {},
   "outputs": [
    {
     "data": {
      "text/plain": [
       "4×3 Array{Float64,2}:\n",
       " 1.0  -4.15163e-16  1.0\n",
       " 2.0  -5.22245e-16  1.0\n",
       " 1.0   1.0          1.0\n",
       " 2.0   3.0          4.0"
      ]
     },
     "execution_count": 57,
     "metadata": {},
     "output_type": "execute_result"
    }
   ],
   "source": [
    "Q*R"
   ]
  },
  {
   "cell_type": "code",
   "execution_count": 59,
   "metadata": {},
   "outputs": [
    {
     "data": {
      "text/plain": [
       "4×4 LinearAlgebra.QRCompactWYQ{Float64,Array{Float64,2}}:\n",
       " -0.316228  -0.309965   0.642353  -0.625543\n",
       " -0.632456  -0.61993   -0.204385   0.417029\n",
       " -0.316228   0.132842  -0.700749  -0.625543\n",
       " -0.632456   0.708492   0.233583   0.208514"
      ]
     },
     "execution_count": 59,
     "metadata": {},
     "output_type": "execute_result"
    }
   ],
   "source": [
    "F.Q"
   ]
  },
  {
   "cell_type": "code",
   "execution_count": 58,
   "metadata": {},
   "outputs": [
    {
     "data": {
      "text/plain": [
       "4×4 Array{Float64,2}:\n",
       " -0.316228  -0.309965   0.642353  -0.625543\n",
       " -0.632456  -0.61993   -0.204385   0.417029\n",
       " -0.316228   0.132842  -0.700749  -0.625543\n",
       " -0.632456   0.708492   0.233583   0.208514"
      ]
     },
     "execution_count": 58,
     "metadata": {},
     "output_type": "execute_result"
    }
   ],
   "source": [
    "fullQ = copy(F.Q) #copy() changes type"
   ]
  },
  {
   "cell_type": "code",
   "execution_count": 60,
   "metadata": {},
   "outputs": [
    {
     "data": {
      "text/plain": [
       "4×4 Adjoint{Float64,Array{Float64,2}}:\n",
       " -0.316228  -0.632456  -0.316228  -0.632456\n",
       " -0.309965  -0.61993    0.132842   0.708492\n",
       "  0.642353  -0.204385  -0.700749   0.233583\n",
       " -0.625543   0.417029  -0.625543   0.208514"
      ]
     },
     "execution_count": 60,
     "metadata": {},
     "output_type": "execute_result"
    }
   ],
   "source": [
    "fullQ'"
   ]
  },
  {
   "cell_type": "code",
   "execution_count": 61,
   "metadata": {},
   "outputs": [
    {
     "data": {
      "text/plain": [
       "4×4 Array{Float64,2}:\n",
       " -0.316228  -0.632456  -0.316228  -0.632456\n",
       " -0.309965  -0.61993    0.132842   0.708492\n",
       "  0.642353  -0.204385  -0.700749   0.233583\n",
       " -0.625543   0.417029  -0.625543   0.208514"
      ]
     },
     "execution_count": 61,
     "metadata": {},
     "output_type": "execute_result"
    }
   ],
   "source": [
    "inv(fullQ)"
   ]
  },
  {
   "cell_type": "code",
   "execution_count": 62,
   "metadata": {},
   "outputs": [
    {
     "data": {
      "text/plain": [
       "3"
      ]
     },
     "execution_count": 62,
     "metadata": {},
     "output_type": "execute_result"
    }
   ],
   "source": [
    "A =[1 0 1 4;\n",
    "    2 0 2 5;\n",
    "    1 1 2 2;\n",
    "    2 3 5 3;\n",
    "    7 0 7 2] \n",
    "rank(A)"
   ]
  },
  {
   "cell_type": "code",
   "execution_count": 63,
   "metadata": {},
   "outputs": [
    {
     "data": {
      "text/plain": [
       "LinearAlgebra.QRCompactWY{Float64,Array{Float64,2}}\n",
       "Q factor:\n",
       "5×5 LinearAlgebra.QRCompactWYQ{Float64,Array{Float64,2}}:\n",
       " -0.130189  -0.0391808   0.725244    -0.665201    0.11421\n",
       " -0.260378  -0.0783616  -0.682284    -0.671835    0.0958614\n",
       " -0.130189   0.291057    0.0168019   -0.134406   -0.938077\n",
       " -0.260378   0.912353   -0.00560062   0.0448019   0.312692\n",
       " -0.911322  -0.274266    0.0905319    0.293382    0.000965705\n",
       "R factor:\n",
       "4×4 Array{Float64,2}:\n",
       " -7.68115  -0.911322  -8.59247      -4.6868\n",
       "  0.0       3.02812    3.02812       2.22211\n",
       "  0.0       0.0       -2.94575e-15  -0.312578\n",
       "  0.0       0.0        0.0          -5.56762"
      ]
     },
     "execution_count": 63,
     "metadata": {},
     "output_type": "execute_result"
    }
   ],
   "source": [
    "F = qr(A)"
   ]
  },
  {
   "cell_type": "markdown",
   "metadata": {},
   "source": [
    "## Solving linear equations with QR\n",
    "See [VMLS] Section 11.3"
   ]
  },
  {
   "cell_type": "markdown",
   "metadata": {},
   "source": [
    "Solve $A x = b$\n",
    "\n",
    "$$ \n",
    "A = QR\n",
    "$$\n",
    "\n",
    "$$\n",
    "QR x = b\n",
    "$$\n",
    "\n",
    "$$ \n",
    "Rx = Q^T b\n",
    "$$"
   ]
  },
  {
   "cell_type": "code",
   "execution_count": 64,
   "metadata": {},
   "outputs": [],
   "source": [
    "using Random\n",
    "Random.seed!(0)\n",
    "N = 6000\n",
    "A = rand(N,N)\n",
    "b = rand(N)\n",
    "Q,R = qr(A);"
   ]
  },
  {
   "cell_type": "code",
   "execution_count": 66,
   "metadata": {},
   "outputs": [
    {
     "name": "stdout",
     "output_type": "stream",
     "text": [
      " 11.452686 seconds (2.75 M allocations: 407.506 MiB, 0.60% gc time)\n"
     ]
    },
    {
     "data": {
      "text/plain": [
       "5.160453212111809e-10"
      ]
     },
     "execution_count": 66,
     "metadata": {},
     "output_type": "execute_result"
    }
   ],
   "source": [
    "@time begin\n",
    "    x = A \\ b  #without prior QR (or LU or any decomposition)\n",
    "    norm(A*x-b)\n",
    "end"
   ]
  },
  {
   "cell_type": "code",
   "execution_count": 67,
   "metadata": {},
   "outputs": [
    {
     "name": "stdout",
     "output_type": "stream",
     "text": [
      "  0.584289 seconds (7.81 k allocations: 694.045 KiB)\n"
     ]
    },
    {
     "data": {
      "text/plain": [
       "8.225788533580126e-12"
      ]
     },
     "execution_count": 67,
     "metadata": {},
     "output_type": "execute_result"
    }
   ],
   "source": [
    "@time begin\n",
    "    x = UpperTriangular(R) \\ Q'b  #Rx = Q'b  (solving for x)\n",
    "    norm(A*x-b)\n",
    "end"
   ]
  },
  {
   "cell_type": "code",
   "execution_count": 69,
   "metadata": {},
   "outputs": [
    {
     "data": {
      "text/plain": [
       "6000×6000 Array{Float64,2}:\n",
       " -44.4585  -33.5359  -33.9411  -33.4294   …  -33.8545     -34.0705\n",
       "   0.0     -29.6419  -12.7059  -12.7776      -13.0553     -12.4124\n",
       "   0.0       0.0     -26.9602   -8.29574      -8.22871     -8.12128\n",
       "   0.0       0.0       0.0      25.5113        5.72773      6.44768\n",
       "   0.0       0.0       0.0       0.0           4.57595      4.63808\n",
       "   0.0       0.0       0.0       0.0      …    3.63476      3.69646\n",
       "   0.0       0.0       0.0       0.0           2.81505      3.44244\n",
       "   0.0       0.0       0.0       0.0          -2.72904     -2.14446\n",
       "   0.0       0.0       0.0       0.0          -2.00816     -2.62964\n",
       "   0.0       0.0       0.0       0.0           2.26775      2.3691\n",
       "   0.0       0.0       0.0       0.0      …   -2.10133     -2.2313\n",
       "   0.0       0.0       0.0       0.0          -2.30628     -1.47131\n",
       "   0.0       0.0       0.0       0.0           1.13154      1.98478\n",
       "   ⋮                                      ⋱               \n",
       "   0.0       0.0       0.0       0.0          -0.109231    -0.0910545\n",
       "   0.0       0.0       0.0       0.0           0.585947     0.272185\n",
       "   0.0       0.0       0.0       0.0      …   -0.29193     -0.132232\n",
       "   0.0       0.0       0.0       0.0          -0.609798    -0.40197\n",
       "   0.0       0.0       0.0       0.0           0.290217     0.101204\n",
       "   0.0       0.0       0.0       0.0          -0.0145235   -0.161555\n",
       "   0.0       0.0       0.0       0.0           0.0887874    0.307007\n",
       "   0.0       0.0       0.0       0.0      …    0.454672     0.168922\n",
       "   0.0       0.0       0.0       0.0           0.151284    -0.115084\n",
       "   0.0       0.0       0.0       0.0          -0.235495     0.257608\n",
       "   0.0       0.0       0.0       0.0          -0.153456    -0.153016\n",
       "   0.0       0.0       0.0       0.0           0.0         -0.217343"
      ]
     },
     "execution_count": 69,
     "metadata": {},
     "output_type": "execute_result"
    }
   ],
   "source": [
    "R"
   ]
  },
  {
   "cell_type": "code",
   "execution_count": 70,
   "metadata": {},
   "outputs": [
    {
     "data": {
      "text/plain": [
       "6000×6000 UpperTriangular{Float64,Array{Float64,2}}:\n",
       " -44.4585  -33.5359  -33.9411  -33.4294   …  -33.8545     -34.0705\n",
       "    ⋅      -29.6419  -12.7059  -12.7776      -13.0553     -12.4124\n",
       "    ⋅         ⋅      -26.9602   -8.29574      -8.22871     -8.12128\n",
       "    ⋅         ⋅         ⋅       25.5113        5.72773      6.44768\n",
       "    ⋅         ⋅         ⋅         ⋅            4.57595      4.63808\n",
       "    ⋅         ⋅         ⋅         ⋅       …    3.63476      3.69646\n",
       "    ⋅         ⋅         ⋅         ⋅            2.81505      3.44244\n",
       "    ⋅         ⋅         ⋅         ⋅           -2.72904     -2.14446\n",
       "    ⋅         ⋅         ⋅         ⋅           -2.00816     -2.62964\n",
       "    ⋅         ⋅         ⋅         ⋅            2.26775      2.3691\n",
       "    ⋅         ⋅         ⋅         ⋅       …   -2.10133     -2.2313\n",
       "    ⋅         ⋅         ⋅         ⋅           -2.30628     -1.47131\n",
       "    ⋅         ⋅         ⋅         ⋅            1.13154      1.98478\n",
       "   ⋮                                      ⋱               \n",
       "    ⋅         ⋅         ⋅         ⋅           -0.109231    -0.0910545\n",
       "    ⋅         ⋅         ⋅         ⋅            0.585947     0.272185\n",
       "    ⋅         ⋅         ⋅         ⋅       …   -0.29193     -0.132232\n",
       "    ⋅         ⋅         ⋅         ⋅           -0.609798    -0.40197\n",
       "    ⋅         ⋅         ⋅         ⋅            0.290217     0.101204\n",
       "    ⋅         ⋅         ⋅         ⋅           -0.0145235   -0.161555\n",
       "    ⋅         ⋅         ⋅         ⋅            0.0887874    0.307007\n",
       "    ⋅         ⋅         ⋅         ⋅       …    0.454672     0.168922\n",
       "    ⋅         ⋅         ⋅         ⋅            0.151284    -0.115084\n",
       "    ⋅         ⋅         ⋅         ⋅           -0.235495     0.257608\n",
       "    ⋅         ⋅         ⋅         ⋅           -0.153456    -0.153016\n",
       "    ⋅         ⋅         ⋅         ⋅             ⋅          -0.217343"
      ]
     },
     "execution_count": 70,
     "metadata": {},
     "output_type": "execute_result"
    }
   ],
   "source": [
    "UpperTriangular(R)"
   ]
  },
  {
   "cell_type": "code",
   "execution_count": 68,
   "metadata": {},
   "outputs": [
    {
     "name": "stdout",
     "output_type": "stream",
     "text": [
      "  0.344998 seconds (12 allocations: 234.797 KiB)\n"
     ]
    },
    {
     "data": {
      "text/plain": [
       "8.225788533580126e-12"
      ]
     },
     "execution_count": 68,
     "metadata": {},
     "output_type": "execute_result"
    }
   ],
   "source": [
    "@time begin\n",
    "    x = R \\ Q'b  #Rx = Q'b  (solving for x)\n",
    "    norm(A*x-b)\n",
    "end"
   ]
  },
  {
   "cell_type": "markdown",
   "metadata": {},
   "source": [
    "## Projecting onto a line"
   ]
  },
  {
   "cell_type": "markdown",
   "metadata": {},
   "source": [
    "Projecting the vector $u$ onto the vector $v$ we get\n",
    "$$\n",
    "p = \\hat{x} \\, v = \\frac{v^T u}{v^T v} \\, v.\n",
    "$$"
   ]
  },
  {
   "cell_type": "code",
   "execution_count": 73,
   "metadata": {},
   "outputs": [
    {
     "data": {
      "image/svg+xml": [
       "<?xml version=\"1.0\" encoding=\"utf-8\"?>\n",
       "<svg xmlns=\"http://www.w3.org/2000/svg\" xmlns:xlink=\"http://www.w3.org/1999/xlink\" width=\"600\" height=\"400\" viewBox=\"0 0 2400 1600\">\n",
       "<defs>\n",
       "  <clipPath id=\"clip750\">\n",
       "    <rect x=\"0\" y=\"0\" width=\"2400\" height=\"1600\"/>\n",
       "  </clipPath>\n",
       "</defs>\n",
       "<path clip-path=\"url(#clip750)\" d=\"\n",
       "M0 1600 L2400 1600 L2400 0 L0 0  Z\n",
       "  \" fill=\"#ffffff\" fill-rule=\"evenodd\" fill-opacity=\"1\"/>\n",
       "<defs>\n",
       "  <clipPath id=\"clip751\">\n",
       "    <rect x=\"480\" y=\"0\" width=\"1681\" height=\"1600\"/>\n",
       "  </clipPath>\n",
       "</defs>\n",
       "<path clip-path=\"url(#clip750)\" d=\"\n",
       "M171.552 1486.45 L2352.76 1486.45 L2352.76 47.2441 L171.552 47.2441  Z\n",
       "  \" fill=\"#ffffff\" fill-rule=\"evenodd\" fill-opacity=\"1\"/>\n",
       "<defs>\n",
       "  <clipPath id=\"clip752\">\n",
       "    <rect x=\"171\" y=\"47\" width=\"2182\" height=\"1440\"/>\n",
       "  </clipPath>\n",
       "</defs>\n",
       "<polyline clip-path=\"url(#clip752)\" style=\"stroke:#000000; stroke-width:2; stroke-opacity:0.1; fill:none\" points=\"\n",
       "  311.736,1486.45 311.736,47.2441 \n",
       "  \"/>\n",
       "<polyline clip-path=\"url(#clip752)\" style=\"stroke:#000000; stroke-width:2; stroke-opacity:0.1; fill:none\" points=\"\n",
       "  583.284,1486.45 583.284,47.2441 \n",
       "  \"/>\n",
       "<polyline clip-path=\"url(#clip752)\" style=\"stroke:#000000; stroke-width:2; stroke-opacity:0.1; fill:none\" points=\"\n",
       "  854.832,1486.45 854.832,47.2441 \n",
       "  \"/>\n",
       "<polyline clip-path=\"url(#clip752)\" style=\"stroke:#000000; stroke-width:2; stroke-opacity:0.1; fill:none\" points=\"\n",
       "  1126.38,1486.45 1126.38,47.2441 \n",
       "  \"/>\n",
       "<polyline clip-path=\"url(#clip752)\" style=\"stroke:#000000; stroke-width:2; stroke-opacity:0.1; fill:none\" points=\"\n",
       "  1397.93,1486.45 1397.93,47.2441 \n",
       "  \"/>\n",
       "<polyline clip-path=\"url(#clip752)\" style=\"stroke:#000000; stroke-width:2; stroke-opacity:0.1; fill:none\" points=\"\n",
       "  1669.48,1486.45 1669.48,47.2441 \n",
       "  \"/>\n",
       "<polyline clip-path=\"url(#clip752)\" style=\"stroke:#000000; stroke-width:2; stroke-opacity:0.1; fill:none\" points=\"\n",
       "  1941.02,1486.45 1941.02,47.2441 \n",
       "  \"/>\n",
       "<polyline clip-path=\"url(#clip752)\" style=\"stroke:#000000; stroke-width:2; stroke-opacity:0.1; fill:none\" points=\"\n",
       "  2212.57,1486.45 2212.57,47.2441 \n",
       "  \"/>\n",
       "<polyline clip-path=\"url(#clip752)\" style=\"stroke:#000000; stroke-width:2; stroke-opacity:0.1; fill:none\" points=\"\n",
       "  171.552,1445.72 2352.76,1445.72 \n",
       "  \"/>\n",
       "<polyline clip-path=\"url(#clip752)\" style=\"stroke:#000000; stroke-width:2; stroke-opacity:0.1; fill:none\" points=\"\n",
       "  171.552,1106.28 2352.76,1106.28 \n",
       "  \"/>\n",
       "<polyline clip-path=\"url(#clip752)\" style=\"stroke:#000000; stroke-width:2; stroke-opacity:0.1; fill:none\" points=\"\n",
       "  171.552,766.846 2352.76,766.846 \n",
       "  \"/>\n",
       "<polyline clip-path=\"url(#clip752)\" style=\"stroke:#000000; stroke-width:2; stroke-opacity:0.1; fill:none\" points=\"\n",
       "  171.552,427.411 2352.76,427.411 \n",
       "  \"/>\n",
       "<polyline clip-path=\"url(#clip752)\" style=\"stroke:#000000; stroke-width:2; stroke-opacity:0.1; fill:none\" points=\"\n",
       "  171.552,87.9763 2352.76,87.9763 \n",
       "  \"/>\n",
       "<polyline clip-path=\"url(#clip750)\" style=\"stroke:#000000; stroke-width:4; stroke-opacity:1; fill:none\" points=\"\n",
       "  171.552,1486.45 2352.76,1486.45 \n",
       "  \"/>\n",
       "<polyline clip-path=\"url(#clip750)\" style=\"stroke:#000000; stroke-width:4; stroke-opacity:1; fill:none\" points=\"\n",
       "  171.552,1486.45 171.552,47.2441 \n",
       "  \"/>\n",
       "<polyline clip-path=\"url(#clip750)\" style=\"stroke:#000000; stroke-width:4; stroke-opacity:1; fill:none\" points=\"\n",
       "  311.736,1486.45 311.736,1469.18 \n",
       "  \"/>\n",
       "<polyline clip-path=\"url(#clip750)\" style=\"stroke:#000000; stroke-width:4; stroke-opacity:1; fill:none\" points=\"\n",
       "  583.284,1486.45 583.284,1469.18 \n",
       "  \"/>\n",
       "<polyline clip-path=\"url(#clip750)\" style=\"stroke:#000000; stroke-width:4; stroke-opacity:1; fill:none\" points=\"\n",
       "  854.832,1486.45 854.832,1469.18 \n",
       "  \"/>\n",
       "<polyline clip-path=\"url(#clip750)\" style=\"stroke:#000000; stroke-width:4; stroke-opacity:1; fill:none\" points=\"\n",
       "  1126.38,1486.45 1126.38,1469.18 \n",
       "  \"/>\n",
       "<polyline clip-path=\"url(#clip750)\" style=\"stroke:#000000; stroke-width:4; stroke-opacity:1; fill:none\" points=\"\n",
       "  1397.93,1486.45 1397.93,1469.18 \n",
       "  \"/>\n",
       "<polyline clip-path=\"url(#clip750)\" style=\"stroke:#000000; stroke-width:4; stroke-opacity:1; fill:none\" points=\"\n",
       "  1669.48,1486.45 1669.48,1469.18 \n",
       "  \"/>\n",
       "<polyline clip-path=\"url(#clip750)\" style=\"stroke:#000000; stroke-width:4; stroke-opacity:1; fill:none\" points=\"\n",
       "  1941.02,1486.45 1941.02,1469.18 \n",
       "  \"/>\n",
       "<polyline clip-path=\"url(#clip750)\" style=\"stroke:#000000; stroke-width:4; stroke-opacity:1; fill:none\" points=\"\n",
       "  2212.57,1486.45 2212.57,1469.18 \n",
       "  \"/>\n",
       "<polyline clip-path=\"url(#clip750)\" style=\"stroke:#000000; stroke-width:4; stroke-opacity:1; fill:none\" points=\"\n",
       "  171.552,1445.72 197.726,1445.72 \n",
       "  \"/>\n",
       "<polyline clip-path=\"url(#clip750)\" style=\"stroke:#000000; stroke-width:4; stroke-opacity:1; fill:none\" points=\"\n",
       "  171.552,1106.28 197.726,1106.28 \n",
       "  \"/>\n",
       "<polyline clip-path=\"url(#clip750)\" style=\"stroke:#000000; stroke-width:4; stroke-opacity:1; fill:none\" points=\"\n",
       "  171.552,766.846 197.726,766.846 \n",
       "  \"/>\n",
       "<polyline clip-path=\"url(#clip750)\" style=\"stroke:#000000; stroke-width:4; stroke-opacity:1; fill:none\" points=\"\n",
       "  171.552,427.411 197.726,427.411 \n",
       "  \"/>\n",
       "<polyline clip-path=\"url(#clip750)\" style=\"stroke:#000000; stroke-width:4; stroke-opacity:1; fill:none\" points=\"\n",
       "  171.552,87.9763 197.726,87.9763 \n",
       "  \"/>\n",
       "<path clip-path=\"url(#clip750)\" d=\"M 0 0 M292.79 1525.04 L305.266 1525.04 L305.266 1528.83 L292.79 1528.83 L292.79 1525.04 Z\" fill=\"#000000\" fill-rule=\"evenodd\" fill-opacity=\"1\" /><path clip-path=\"url(#clip750)\" d=\"M 0 0 M314.364 1535.98 L330.683 1535.98 L330.683 1539.92 L308.739 1539.92 L308.739 1535.98 Q311.401 1533.23 315.984 1528.6 Q320.59 1523.95 321.771 1522.61 Q324.016 1520.08 324.896 1518.35 Q325.799 1516.59 325.799 1514.9 Q325.799 1512.14 323.854 1510.41 Q321.933 1508.67 318.831 1508.67 Q316.632 1508.67 314.178 1509.43 Q311.748 1510.2 308.97 1511.75 L308.97 1507.03 Q311.794 1505.89 314.248 1505.31 Q316.702 1504.73 318.739 1504.73 Q324.109 1504.73 327.303 1507.42 Q330.498 1510.11 330.498 1514.6 Q330.498 1516.73 329.688 1518.65 Q328.901 1520.54 326.794 1523.14 Q326.215 1523.81 323.114 1527.03 Q320.012 1530.22 314.364 1535.98 Z\" fill=\"#000000\" fill-rule=\"evenodd\" fill-opacity=\"1\" /><path clip-path=\"url(#clip750)\" d=\"M 0 0 M583.284 1508.44 Q579.673 1508.44 577.844 1512 Q576.039 1515.55 576.039 1522.67 Q576.039 1529.78 577.844 1533.35 Q579.673 1536.89 583.284 1536.89 Q586.918 1536.89 588.724 1533.35 Q590.553 1529.78 590.553 1522.67 Q590.553 1515.55 588.724 1512 Q586.918 1508.44 583.284 1508.44 M583.284 1504.73 Q589.094 1504.73 592.15 1509.34 Q595.229 1513.92 595.229 1522.67 Q595.229 1531.4 592.15 1536.01 Q589.094 1540.59 583.284 1540.59 Q577.474 1540.59 574.395 1536.01 Q571.34 1531.4 571.34 1522.67 Q571.34 1513.92 574.395 1509.34 Q577.474 1504.73 583.284 1504.73 Z\" fill=\"#000000\" fill-rule=\"evenodd\" fill-opacity=\"1\" /><path clip-path=\"url(#clip750)\" d=\"M 0 0 M849.485 1535.98 L865.804 1535.98 L865.804 1539.92 L843.86 1539.92 L843.86 1535.98 Q846.522 1533.23 851.105 1528.6 Q855.712 1523.95 856.892 1522.61 Q859.138 1520.08 860.017 1518.35 Q860.92 1516.59 860.92 1514.9 Q860.92 1512.14 858.976 1510.41 Q857.054 1508.67 853.952 1508.67 Q851.753 1508.67 849.3 1509.43 Q846.869 1510.2 844.091 1511.75 L844.091 1507.03 Q846.915 1505.89 849.369 1505.31 Q851.823 1504.73 853.86 1504.73 Q859.23 1504.73 862.425 1507.42 Q865.619 1510.11 865.619 1514.6 Q865.619 1516.73 864.809 1518.65 Q864.022 1520.54 861.915 1523.14 Q861.337 1523.81 858.235 1527.03 Q855.133 1530.22 849.485 1535.98 Z\" fill=\"#000000\" fill-rule=\"evenodd\" fill-opacity=\"1\" /><path clip-path=\"url(#clip750)\" d=\"M 0 0 M1129.39 1509.43 L1117.58 1527.88 L1129.39 1527.88 L1129.39 1509.43 M1128.16 1505.36 L1134.04 1505.36 L1134.04 1527.88 L1138.97 1527.88 L1138.97 1531.77 L1134.04 1531.77 L1134.04 1539.92 L1129.39 1539.92 L1129.39 1531.77 L1113.79 1531.77 L1113.79 1527.26 L1128.16 1505.36 Z\" fill=\"#000000\" fill-rule=\"evenodd\" fill-opacity=\"1\" /><path clip-path=\"url(#clip750)\" d=\"M 0 0 M1398.33 1520.78 Q1395.18 1520.78 1393.33 1522.93 Q1391.5 1525.08 1391.5 1528.83 Q1391.5 1532.56 1393.33 1534.73 Q1395.18 1536.89 1398.33 1536.89 Q1401.48 1536.89 1403.31 1534.73 Q1405.16 1532.56 1405.16 1528.83 Q1405.16 1525.08 1403.31 1522.93 Q1401.48 1520.78 1398.33 1520.78 M1407.62 1506.12 L1407.62 1510.38 Q1405.86 1509.55 1404.05 1509.11 Q1402.27 1508.67 1400.51 1508.67 Q1395.88 1508.67 1393.43 1511.8 Q1390.99 1514.92 1390.65 1521.24 Q1392.01 1519.23 1394.07 1518.16 Q1396.13 1517.07 1398.61 1517.07 Q1403.82 1517.07 1406.83 1520.24 Q1409.86 1523.39 1409.86 1528.83 Q1409.86 1534.16 1406.71 1537.37 Q1403.56 1540.59 1398.33 1540.59 Q1392.34 1540.59 1389.17 1536.01 Q1386 1531.4 1386 1522.67 Q1386 1514.48 1389.88 1509.62 Q1393.77 1504.73 1400.32 1504.73 Q1402.08 1504.73 1403.87 1505.08 Q1405.67 1505.43 1407.62 1506.12 Z\" fill=\"#000000\" fill-rule=\"evenodd\" fill-opacity=\"1\" /><path clip-path=\"url(#clip750)\" d=\"M 0 0 M1669.48 1523.51 Q1666.14 1523.51 1664.22 1525.29 Q1662.32 1527.07 1662.32 1530.2 Q1662.32 1533.32 1664.22 1535.11 Q1666.14 1536.89 1669.48 1536.89 Q1672.81 1536.89 1674.73 1535.11 Q1676.65 1533.3 1676.65 1530.2 Q1676.65 1527.07 1674.73 1525.29 Q1672.83 1523.51 1669.48 1523.51 M1664.8 1521.52 Q1661.79 1520.78 1660.1 1518.72 Q1658.43 1516.66 1658.43 1513.69 Q1658.43 1509.55 1661.37 1507.14 Q1664.34 1504.73 1669.48 1504.73 Q1674.64 1504.73 1677.58 1507.14 Q1680.52 1509.55 1680.52 1513.69 Q1680.52 1516.66 1678.83 1518.72 Q1677.16 1520.78 1674.17 1521.52 Q1677.55 1522.3 1679.43 1524.6 Q1681.33 1526.89 1681.33 1530.2 Q1681.33 1535.22 1678.25 1537.91 Q1675.19 1540.59 1669.48 1540.59 Q1663.76 1540.59 1660.68 1537.91 Q1657.62 1535.22 1657.62 1530.2 Q1657.62 1526.89 1659.52 1524.6 Q1661.42 1522.3 1664.8 1521.52 M1663.09 1514.13 Q1663.09 1516.82 1664.75 1518.32 Q1666.44 1519.83 1669.48 1519.83 Q1672.48 1519.83 1674.17 1518.32 Q1675.89 1516.82 1675.89 1514.13 Q1675.89 1511.45 1674.17 1509.94 Q1672.48 1508.44 1669.48 1508.44 Q1666.44 1508.44 1664.75 1509.94 Q1663.09 1511.45 1663.09 1514.13 Z\" fill=\"#000000\" fill-rule=\"evenodd\" fill-opacity=\"1\" /><path clip-path=\"url(#clip750)\" d=\"M 0 0 M1917.9 1535.98 L1925.54 1535.98 L1925.54 1509.62 L1917.23 1511.29 L1917.23 1507.03 L1925.49 1505.36 L1930.17 1505.36 L1930.17 1535.98 L1937.81 1535.98 L1937.81 1539.92 L1917.9 1539.92 L1917.9 1535.98 Z\" fill=\"#000000\" fill-rule=\"evenodd\" fill-opacity=\"1\" /><path clip-path=\"url(#clip750)\" d=\"M 0 0 M1952.88 1508.44 Q1949.26 1508.44 1947.44 1512 Q1945.63 1515.55 1945.63 1522.67 Q1945.63 1529.78 1947.44 1533.35 Q1949.26 1536.89 1952.88 1536.89 Q1956.51 1536.89 1958.32 1533.35 Q1960.14 1529.78 1960.14 1522.67 Q1960.14 1515.55 1958.32 1512 Q1956.51 1508.44 1952.88 1508.44 M1952.88 1504.73 Q1958.69 1504.73 1961.74 1509.34 Q1964.82 1513.92 1964.82 1522.67 Q1964.82 1531.4 1961.74 1536.01 Q1958.69 1540.59 1952.88 1540.59 Q1947.07 1540.59 1943.99 1536.01 Q1940.93 1531.4 1940.93 1522.67 Q1940.93 1513.92 1943.99 1509.34 Q1947.07 1504.73 1952.88 1504.73 Z\" fill=\"#000000\" fill-rule=\"evenodd\" fill-opacity=\"1\" /><path clip-path=\"url(#clip750)\" d=\"M 0 0 M2190.25 1535.98 L2197.88 1535.98 L2197.88 1509.62 L2189.57 1511.29 L2189.57 1507.03 L2197.84 1505.36 L2202.51 1505.36 L2202.51 1535.98 L2210.15 1535.98 L2210.15 1539.92 L2190.25 1539.92 L2190.25 1535.98 Z\" fill=\"#000000\" fill-rule=\"evenodd\" fill-opacity=\"1\" /><path clip-path=\"url(#clip750)\" d=\"M 0 0 M2219.25 1535.98 L2235.57 1535.98 L2235.57 1539.92 L2213.62 1539.92 L2213.62 1535.98 Q2216.29 1533.23 2220.87 1528.6 Q2225.48 1523.95 2226.66 1522.61 Q2228.9 1520.08 2229.78 1518.35 Q2230.68 1516.59 2230.68 1514.9 Q2230.68 1512.14 2228.74 1510.41 Q2226.82 1508.67 2223.72 1508.67 Q2221.52 1508.67 2219.06 1509.43 Q2216.63 1510.2 2213.86 1511.75 L2213.86 1507.03 Q2216.68 1505.89 2219.13 1505.31 Q2221.59 1504.73 2223.62 1504.73 Q2228.99 1504.73 2232.19 1507.42 Q2235.38 1510.11 2235.38 1514.6 Q2235.38 1516.73 2234.57 1518.65 Q2233.79 1520.54 2231.68 1523.14 Q2231.1 1523.81 2228 1527.03 Q2224.9 1530.22 2219.25 1535.98 Z\" fill=\"#000000\" fill-rule=\"evenodd\" fill-opacity=\"1\" /><path clip-path=\"url(#clip750)\" d=\"M 0 0 M98.6401 1431.51 Q95.029 1431.51 93.2003 1435.08 Q91.3948 1438.62 91.3948 1445.75 Q91.3948 1452.86 93.2003 1456.42 Q95.029 1459.96 98.6401 1459.96 Q102.274 1459.96 104.08 1456.42 Q105.909 1452.86 105.909 1445.75 Q105.909 1438.62 104.08 1435.08 Q102.274 1431.51 98.6401 1431.51 M98.6401 1427.81 Q104.45 1427.81 107.506 1432.42 Q110.584 1437 110.584 1445.75 Q110.584 1454.48 107.506 1459.08 Q104.45 1463.67 98.6401 1463.67 Q92.8299 1463.67 89.7512 1459.08 Q86.6957 1454.48 86.6957 1445.75 Q86.6957 1437 89.7512 1432.42 Q92.8299 1427.81 98.6401 1427.81 Z\" fill=\"#000000\" fill-rule=\"evenodd\" fill-opacity=\"1\" /><path clip-path=\"url(#clip750)\" d=\"M 0 0 M115.654 1457.12 L120.538 1457.12 L120.538 1463 L115.654 1463 L115.654 1457.12 Z\" fill=\"#000000\" fill-rule=\"evenodd\" fill-opacity=\"1\" /><path clip-path=\"url(#clip750)\" d=\"M 0 0 M135.607 1431.51 Q131.996 1431.51 130.168 1435.08 Q128.362 1438.62 128.362 1445.75 Q128.362 1452.86 130.168 1456.42 Q131.996 1459.96 135.607 1459.96 Q139.242 1459.96 141.047 1456.42 Q142.876 1452.86 142.876 1445.75 Q142.876 1438.62 141.047 1435.08 Q139.242 1431.51 135.607 1431.51 M135.607 1427.81 Q141.418 1427.81 144.473 1432.42 Q147.552 1437 147.552 1445.75 Q147.552 1454.48 144.473 1459.08 Q141.418 1463.67 135.607 1463.67 Q129.797 1463.67 126.719 1459.08 Q123.663 1454.48 123.663 1445.75 Q123.663 1437 126.719 1432.42 Q129.797 1427.81 135.607 1427.81 Z\" fill=\"#000000\" fill-rule=\"evenodd\" fill-opacity=\"1\" /><path clip-path=\"url(#clip750)\" d=\"M 0 0 M95.2605 1119.63 L111.58 1119.63 L111.58 1123.56 L89.6355 1123.56 L89.6355 1119.63 Q92.2975 1116.87 96.8808 1112.24 Q101.487 1107.59 102.668 1106.25 Q104.913 1103.72 105.793 1101.99 Q106.696 1100.23 106.696 1098.54 Q106.696 1095.78 104.751 1094.05 Q102.83 1092.31 99.728 1092.31 Q97.529 1092.31 95.0753 1093.07 Q92.6447 1093.84 89.867 1095.39 L89.867 1090.67 Q92.691 1089.53 95.1447 1088.95 Q97.5984 1088.38 99.6354 1088.38 Q105.006 1088.38 108.2 1091.06 Q111.395 1093.75 111.395 1098.24 Q111.395 1100.37 110.584 1102.29 Q109.797 1104.19 107.691 1106.78 Q107.112 1107.45 104.01 1110.67 Q100.909 1113.86 95.2605 1119.63 Z\" fill=\"#000000\" fill-rule=\"evenodd\" fill-opacity=\"1\" /><path clip-path=\"url(#clip750)\" d=\"M 0 0 M116.649 1117.68 L121.533 1117.68 L121.533 1123.56 L116.649 1123.56 L116.649 1117.68 Z\" fill=\"#000000\" fill-rule=\"evenodd\" fill-opacity=\"1\" /><path clip-path=\"url(#clip750)\" d=\"M 0 0 M126.649 1089 L145.006 1089 L145.006 1092.94 L130.932 1092.94 L130.932 1101.41 Q131.95 1101.06 132.969 1100.9 Q133.987 1100.71 135.006 1100.71 Q140.793 1100.71 144.172 1103.89 Q147.552 1107.06 147.552 1112.47 Q147.552 1118.05 144.08 1121.15 Q140.607 1124.23 134.288 1124.23 Q132.112 1124.23 129.844 1123.86 Q127.598 1123.49 125.191 1122.75 L125.191 1118.05 Q127.274 1119.19 129.496 1119.74 Q131.719 1120.3 134.195 1120.3 Q138.2 1120.3 140.538 1118.19 Q142.876 1116.08 142.876 1112.47 Q142.876 1108.86 140.538 1106.76 Q138.2 1104.65 134.195 1104.65 Q132.32 1104.65 130.445 1105.07 Q128.594 1105.48 126.649 1106.36 L126.649 1089 Z\" fill=\"#000000\" fill-rule=\"evenodd\" fill-opacity=\"1\" /><path clip-path=\"url(#clip750)\" d=\"M 0 0 M89.6818 749.566 L108.038 749.566 L108.038 753.501 L93.9642 753.501 L93.9642 761.973 Q94.9827 761.626 96.0012 761.464 Q97.0197 761.279 98.0382 761.279 Q103.825 761.279 107.205 764.45 Q110.584 767.621 110.584 773.038 Q110.584 778.617 107.112 781.719 Q103.64 784.797 97.3206 784.797 Q95.1447 784.797 92.8762 784.427 Q90.6309 784.057 88.2235 783.316 L88.2235 778.617 Q90.3068 779.751 92.529 780.307 Q94.7512 780.862 97.2281 780.862 Q101.233 780.862 103.571 778.756 Q105.909 776.649 105.909 773.038 Q105.909 769.427 103.571 767.321 Q101.233 765.214 97.2281 765.214 Q95.3531 765.214 93.4781 765.631 Q91.6262 766.047 89.6818 766.927 L89.6818 749.566 Z\" fill=\"#000000\" fill-rule=\"evenodd\" fill-opacity=\"1\" /><path clip-path=\"url(#clip750)\" d=\"M 0 0 M115.654 778.246 L120.538 778.246 L120.538 784.126 L115.654 784.126 L115.654 778.246 Z\" fill=\"#000000\" fill-rule=\"evenodd\" fill-opacity=\"1\" /><path clip-path=\"url(#clip750)\" d=\"M 0 0 M135.607 752.645 Q131.996 752.645 130.168 756.209 Q128.362 759.751 128.362 766.881 Q128.362 773.987 130.168 777.552 Q131.996 781.094 135.607 781.094 Q139.242 781.094 141.047 777.552 Q142.876 773.987 142.876 766.881 Q142.876 759.751 141.047 756.209 Q139.242 752.645 135.607 752.645 M135.607 748.941 Q141.418 748.941 144.473 753.547 Q147.552 758.131 147.552 766.881 Q147.552 775.608 144.473 780.214 Q141.418 784.797 135.607 784.797 Q129.797 784.797 126.719 780.214 Q123.663 775.608 123.663 766.881 Q123.663 758.131 126.719 753.547 Q129.797 748.941 135.607 748.941 Z\" fill=\"#000000\" fill-rule=\"evenodd\" fill-opacity=\"1\" /><path clip-path=\"url(#clip750)\" d=\"M 0 0 M89.3577 410.131 L111.58 410.131 L111.58 412.122 L99.0336 444.691 L94.1494 444.691 L105.955 414.066 L89.3577 414.066 L89.3577 410.131 Z\" fill=\"#000000\" fill-rule=\"evenodd\" fill-opacity=\"1\" /><path clip-path=\"url(#clip750)\" d=\"M 0 0 M116.649 438.812 L121.533 438.812 L121.533 444.691 L116.649 444.691 L116.649 438.812 Z\" fill=\"#000000\" fill-rule=\"evenodd\" fill-opacity=\"1\" /><path clip-path=\"url(#clip750)\" d=\"M 0 0 M126.649 410.131 L145.006 410.131 L145.006 414.066 L130.932 414.066 L130.932 422.538 Q131.95 422.191 132.969 422.029 Q133.987 421.844 135.006 421.844 Q140.793 421.844 144.172 425.015 Q147.552 428.187 147.552 433.603 Q147.552 439.182 144.08 442.284 Q140.607 445.362 134.288 445.362 Q132.112 445.362 129.844 444.992 Q127.598 444.622 125.191 443.881 L125.191 439.182 Q127.274 440.316 129.496 440.872 Q131.719 441.427 134.195 441.427 Q138.2 441.427 140.538 439.321 Q142.876 437.214 142.876 433.603 Q142.876 429.992 140.538 427.886 Q138.2 425.779 134.195 425.779 Q132.32 425.779 130.445 426.196 Q128.594 426.613 126.649 427.492 L126.649 410.131 Z\" fill=\"#000000\" fill-rule=\"evenodd\" fill-opacity=\"1\" /><path clip-path=\"url(#clip750)\" d=\"M 0 0 M63.6634 101.321 L71.3023 101.321 L71.3023 74.9555 L62.9921 76.6222 L62.9921 72.3629 L71.256 70.6963 L75.9319 70.6963 L75.9319 101.321 L83.5707 101.321 L83.5707 105.256 L63.6634 105.256 L63.6634 101.321 Z\" fill=\"#000000\" fill-rule=\"evenodd\" fill-opacity=\"1\" /><path clip-path=\"url(#clip750)\" d=\"M 0 0 M98.6401 73.775 Q95.029 73.775 93.2003 77.3398 Q91.3948 80.8814 91.3948 88.011 Q91.3948 95.1174 93.2003 98.6822 Q95.029 102.224 98.6401 102.224 Q102.274 102.224 104.08 98.6822 Q105.909 95.1174 105.909 88.011 Q105.909 80.8814 104.08 77.3398 Q102.274 73.775 98.6401 73.775 M98.6401 70.0713 Q104.45 70.0713 107.506 74.6777 Q110.584 79.261 110.584 88.011 Q110.584 96.7378 107.506 101.344 Q104.45 105.928 98.6401 105.928 Q92.8299 105.928 89.7512 101.344 Q86.6957 96.7378 86.6957 88.011 Q86.6957 79.261 89.7512 74.6777 Q92.8299 70.0713 98.6401 70.0713 Z\" fill=\"#000000\" fill-rule=\"evenodd\" fill-opacity=\"1\" /><path clip-path=\"url(#clip750)\" d=\"M 0 0 M115.654 99.3767 L120.538 99.3767 L120.538 105.256 L115.654 105.256 L115.654 99.3767 Z\" fill=\"#000000\" fill-rule=\"evenodd\" fill-opacity=\"1\" /><path clip-path=\"url(#clip750)\" d=\"M 0 0 M135.607 73.775 Q131.996 73.775 130.168 77.3398 Q128.362 80.8814 128.362 88.011 Q128.362 95.1174 130.168 98.6822 Q131.996 102.224 135.607 102.224 Q139.242 102.224 141.047 98.6822 Q142.876 95.1174 142.876 88.011 Q142.876 80.8814 141.047 77.3398 Q139.242 73.775 135.607 73.775 M135.607 70.0713 Q141.418 70.0713 144.473 74.6777 Q147.552 79.261 147.552 88.011 Q147.552 96.7378 144.473 101.344 Q141.418 105.928 135.607 105.928 Q129.797 105.928 126.719 101.344 Q123.663 96.7378 123.663 88.011 Q123.663 79.261 126.719 74.6777 Q129.797 70.0713 135.607 70.0713 Z\" fill=\"#000000\" fill-rule=\"evenodd\" fill-opacity=\"1\" /><polyline clip-path=\"url(#clip752)\" style=\"stroke:#ffff00; stroke-width:4; stroke-opacity:1; fill:none\" points=\"\n",
       "  583.284,1445.72 1941.02,87.9763 \n",
       "  \"/>\n",
       "<polyline clip-path=\"url(#clip752)\" style=\"stroke:#0000ff; stroke-width:4; stroke-opacity:1; fill:none\" points=\"\n",
       "  583.284,1445.72 719.058,1309.94 \n",
       "  \"/>\n",
       "<polyline clip-path=\"url(#clip752)\" style=\"stroke:#008000; stroke-width:20; stroke-opacity:1; fill:none\" points=\"\n",
       "  583.284,1445.72 719.058,1309.94 \n",
       "  \"/>\n",
       "<polyline clip-path=\"url(#clip752)\" style=\"stroke:#ff0000; stroke-width:4; stroke-opacity:1; fill:none\" points=\"\n",
       "  719.058,1309.94 719.058,1309.94 \n",
       "  \"/>\n",
       "</svg>\n"
      ]
     },
     "execution_count": 73,
     "metadata": {},
     "output_type": "execute_result"
    }
   ],
   "source": [
    "using Plots\n",
    "v = [10,10]\n",
    "u = [1,1]\n",
    "xHat = v'u/(v'v)\n",
    "p = xHat*v\n",
    "e = u-p\n",
    "\n",
    "plot([0,v[1]],[0,v[2]],c=:yellow,legend=false,aspectratio=1)  #v (vector projected onto)\n",
    "plot!([0,u[1]],[0,u[2]],c=:blue)    #u (vector being projected)\n",
    "plot!([0,p[1]],[0,p[2]],lw=5,c=:green)  #p (actual projection)\n",
    "plot!([p[1],p[1]+e[1]],[p[2],p[2]+e[2]],c=:red) #the error "
   ]
  },
  {
   "cell_type": "code",
   "execution_count": 74,
   "metadata": {},
   "outputs": [
    {
     "data": {
      "text/plain": [
       "0.1"
      ]
     },
     "execution_count": 74,
     "metadata": {},
     "output_type": "execute_result"
    }
   ],
   "source": [
    "xHat"
   ]
  },
  {
   "cell_type": "markdown",
   "metadata": {},
   "source": [
    "## Projecting onto a subspace"
   ]
  },
  {
   "cell_type": "code",
   "execution_count": 79,
   "metadata": {},
   "outputs": [
    {
     "data": {
      "text/plain": [
       "2"
      ]
     },
     "execution_count": 79,
     "metadata": {},
     "output_type": "execute_result"
    }
   ],
   "source": [
    "A = [1 2;\n",
    "     3 4;\n",
    "     5 6]\n",
    "rank(A)"
   ]
  },
  {
   "cell_type": "code",
   "execution_count": 80,
   "metadata": {},
   "outputs": [
    {
     "data": {
      "text/plain": [
       "3-element Array{Int64,1}:\n",
       "  3\n",
       "  7\n",
       " 11"
      ]
     },
     "execution_count": 80,
     "metadata": {},
     "output_type": "execute_result"
    }
   ],
   "source": [
    "b = [3,7,11]"
   ]
  },
  {
   "cell_type": "code",
   "execution_count": 78,
   "metadata": {},
   "outputs": [
    {
     "data": {
      "text/plain": [
       "3-element Array{Int64,1}:\n",
       "  3\n",
       "  7\n",
       " 11"
      ]
     },
     "execution_count": 78,
     "metadata": {},
     "output_type": "execute_result"
    }
   ],
   "source": [
    "A*[1,1]"
   ]
  },
  {
   "cell_type": "code",
   "execution_count": null,
   "metadata": {},
   "outputs": [],
   "source": [
    "b = [2,4,19]"
   ]
  },
  {
   "cell_type": "markdown",
   "metadata": {},
   "source": [
    "Want to \"solve\"\n",
    "$$\n",
    "A x = b\n",
    "$$\n",
    "but maybe $b$ is not in the column space of $A$.\n",
    "\n",
    "We are looking for the combination $p = A \\hat{x}$ that is closest to $b$.\n",
    "\n",
    "If $A$ is $n \\times 1$ we already found the answer...\n",
    "\n",
    "$$\n",
    "\\hat{x} = \\frac{a^T b}{a^T a}\n",
    "$$"
   ]
  },
  {
   "cell_type": "markdown",
   "metadata": {},
   "source": [
    "Now we have\n",
    "$$\n",
    "a_1^T(b-A \\hat{x}) = 0\n",
    "$$\n",
    "$$\n",
    "\\vdots\n",
    "$$\n",
    "$$\n",
    "a_n^T(b-A \\hat{x}) = 0\n",
    "$$\n"
   ]
  },
  {
   "cell_type": "markdown",
   "metadata": {},
   "source": [
    "Or\n",
    "$$\n",
    "A^T(b-A\\hat{x}) = 0\n",
    "$$\n",
    "\n",
    "or,\n",
    "$$\n",
    "A^TA \\hat{x} = A^T b\n",
    "$$"
   ]
  },
  {
   "cell_type": "markdown",
   "metadata": {},
   "source": [
    "Now $A^T A$ is invertible if and only if the columns of $A$ are linearly independent."
   ]
  },
  {
   "cell_type": "markdown",
   "metadata": {},
   "source": [
    "$$\n",
    "\\hat{x} = (A^TA)^{-1}A^Tb\n",
    "$$"
   ]
  },
  {
   "cell_type": "markdown",
   "metadata": {},
   "source": [
    "$$\n",
    "p = A \\hat{x} = A (A^T A)^{-1} A^T b.\n",
    "$$\n",
    "\n",
    "So the **projection matrix** is $P = A (A^T A)^{-1} A^T$\n",
    "\n",
    "$$\n",
    "p = P b\n",
    "$$"
   ]
  },
  {
   "cell_type": "markdown",
   "metadata": {},
   "source": [
    "$$\n",
    "A^\\dagger = (A^TA)^{-1} A^T\n",
    "$$"
   ]
  },
  {
   "cell_type": "markdown",
   "metadata": {},
   "source": [
    "$$\n",
    "A = v\n",
    "$$\n",
    "$$\n",
    "b = u\n",
    "$$\n",
    "\n",
    "$$\n",
    "Ax = b \n",
    "\\qquad\n",
    "\\text{is like}\n",
    "\\qquad\n",
    "v x = u\n",
    "$$"
   ]
  },
  {
   "cell_type": "markdown",
   "metadata": {},
   "source": [
    "$$\n",
    "P = v(v^Tv)^{-1}v^Tu = \\frac{v^Tu}{v^Tv} v\n",
    "$$"
   ]
  },
  {
   "cell_type": "markdown",
   "metadata": {},
   "source": [
    "---\n",
    "Observe that $A^\\dagger$ is a left inverse and the inverse if $A$ is square (and full rank)"
   ]
  },
  {
   "cell_type": "code",
   "execution_count": 81,
   "metadata": {},
   "outputs": [
    {
     "data": {
      "text/plain": [
       "3×2 Array{Int64,2}:\n",
       " 1  2\n",
       " 3  4\n",
       " 5  6"
      ]
     },
     "execution_count": 81,
     "metadata": {},
     "output_type": "execute_result"
    }
   ],
   "source": [
    "A"
   ]
  },
  {
   "cell_type": "code",
   "execution_count": 82,
   "metadata": {},
   "outputs": [
    {
     "data": {
      "text/plain": [
       "3-element Array{Int64,1}:\n",
       "  3\n",
       "  7\n",
       " 11"
      ]
     },
     "execution_count": 82,
     "metadata": {},
     "output_type": "execute_result"
    }
   ],
   "source": [
    "b"
   ]
  },
  {
   "cell_type": "code",
   "execution_count": 83,
   "metadata": {},
   "outputs": [
    {
     "data": {
      "text/plain": [
       "3×3 Array{Float64,2}:\n",
       "  0.833333  0.333333  -0.166667\n",
       "  0.333333  0.333333   0.333333\n",
       " -0.166667  0.333333   0.833333"
      ]
     },
     "execution_count": 83,
     "metadata": {},
     "output_type": "execute_result"
    }
   ],
   "source": [
    "P = A*inv(A'A)*A'"
   ]
  },
  {
   "cell_type": "code",
   "execution_count": 84,
   "metadata": {},
   "outputs": [
    {
     "data": {
      "text/plain": [
       "3×3 Array{Float64,2}:\n",
       "  0.833333  0.333333  -0.166667\n",
       "  0.333333  0.333333   0.333333\n",
       " -0.166667  0.333333   0.833333"
      ]
     },
     "execution_count": 84,
     "metadata": {},
     "output_type": "execute_result"
    }
   ],
   "source": [
    "P*P"
   ]
  },
  {
   "cell_type": "code",
   "execution_count": 87,
   "metadata": {},
   "outputs": [
    {
     "data": {
      "text/plain": [
       "3-element Array{Float64,1}:\n",
       "  3.0000000000000266\n",
       "  6.999999999999994\n",
       " 11.00000000000005"
      ]
     },
     "execution_count": 87,
     "metadata": {},
     "output_type": "execute_result"
    }
   ],
   "source": [
    "p = P*b #in the column space of A"
   ]
  },
  {
   "cell_type": "code",
   "execution_count": 89,
   "metadata": {},
   "outputs": [
    {
     "data": {
      "text/plain": [
       "2-element Array{Float64,1}:\n",
       " 0.9999999999999958\n",
       " 1.0000000000000093"
      ]
     },
     "execution_count": 89,
     "metadata": {},
     "output_type": "execute_result"
    }
   ],
   "source": [
    "x = A \\ p #solving 3 equations 2 unkonns"
   ]
  },
  {
   "cell_type": "code",
   "execution_count": 90,
   "metadata": {},
   "outputs": [
    {
     "data": {
      "text/plain": [
       "3-element Array{Float64,1}:\n",
       "  3.000000000000014\n",
       "  7.000000000000025\n",
       " 11.000000000000036"
      ]
     },
     "execution_count": 90,
     "metadata": {},
     "output_type": "execute_result"
    }
   ],
   "source": [
    "A*x"
   ]
  },
  {
   "cell_type": "code",
   "execution_count": 92,
   "metadata": {},
   "outputs": [
    {
     "data": {
      "text/plain": [
       "3-element Array{Int64,1}:\n",
       "  2\n",
       " 24\n",
       "  3"
      ]
     },
     "execution_count": 92,
     "metadata": {},
     "output_type": "execute_result"
    }
   ],
   "source": [
    "b = [2,24,3] #using my \"luck\" so that it isn't in the col space of A"
   ]
  },
  {
   "cell_type": "code",
   "execution_count": 95,
   "metadata": {},
   "outputs": [
    {
     "data": {
      "text/plain": [
       "3-element Array{Float64,1}:\n",
       "  9.166666666666686\n",
       "  9.666666666666657\n",
       " 10.166666666666735"
      ]
     },
     "execution_count": 95,
     "metadata": {},
     "output_type": "execute_result"
    }
   ],
   "source": [
    "p = P*b"
   ]
  },
  {
   "cell_type": "code",
   "execution_count": 97,
   "metadata": {},
   "outputs": [
    {
     "data": {
      "text/plain": [
       "2-element Array{Float64,1}:\n",
       " -8.666666666666666\n",
       "  8.916666666666675"
      ]
     },
     "execution_count": 97,
     "metadata": {},
     "output_type": "execute_result"
    }
   ],
   "source": [
    "x = A \\ p"
   ]
  },
  {
   "cell_type": "code",
   "execution_count": 98,
   "metadata": {},
   "outputs": [
    {
     "data": {
      "text/plain": [
       "3-element Array{Float64,1}:\n",
       "  9.166666666666684\n",
       "  9.6666666666667\n",
       " 10.166666666666721"
      ]
     },
     "execution_count": 98,
     "metadata": {},
     "output_type": "execute_result"
    }
   ],
   "source": [
    "A*x"
   ]
  },
  {
   "cell_type": "code",
   "execution_count": 99,
   "metadata": {},
   "outputs": [
    {
     "data": {
      "text/plain": [
       "3×3 Array{Float64,2}:\n",
       "  0.833333  0.333333  -0.166667\n",
       "  0.333333  0.333333   0.333333\n",
       " -0.166667  0.333333   0.833333"
      ]
     },
     "execution_count": 99,
     "metadata": {},
     "output_type": "execute_result"
    }
   ],
   "source": [
    "P = A*inv(A'A)*A'"
   ]
  },
  {
   "cell_type": "code",
   "execution_count": 100,
   "metadata": {},
   "outputs": [
    {
     "data": {
      "text/plain": [
       "2×3 Array{Float64,2}:\n",
       " -1.33333  -0.333333   0.666667\n",
       "  1.08333   0.333333  -0.416667"
      ]
     },
     "execution_count": 100,
     "metadata": {},
     "output_type": "execute_result"
    }
   ],
   "source": [
    "Adag = inv(A'A)*A'"
   ]
  },
  {
   "cell_type": "code",
   "execution_count": 101,
   "metadata": {},
   "outputs": [
    {
     "data": {
      "text/plain": [
       "3×3 Array{Float64,2}:\n",
       "  0.833333  0.333333  -0.166667\n",
       "  0.333333  0.333333   0.333333\n",
       " -0.166667  0.333333   0.833333"
      ]
     },
     "execution_count": 101,
     "metadata": {},
     "output_type": "execute_result"
    }
   ],
   "source": [
    "A*Adag"
   ]
  },
  {
   "cell_type": "code",
   "execution_count": 102,
   "metadata": {},
   "outputs": [
    {
     "data": {
      "text/plain": [
       "2×3 Array{Float64,2}:\n",
       " -1.33333  -0.333333   0.666667\n",
       "  1.08333   0.333333  -0.416667"
      ]
     },
     "execution_count": 102,
     "metadata": {},
     "output_type": "execute_result"
    }
   ],
   "source": [
    "pinv(A)"
   ]
  },
  {
   "cell_type": "markdown",
   "metadata": {},
   "source": [
    "## Least Squares..."
   ]
  },
  {
   "cell_type": "markdown",
   "metadata": {},
   "source": [
    "$$\n",
    "A x = b\n",
    "$$\n",
    "\n",
    "$$\n",
    "Ax - b = 0\n",
    "$$"
   ]
  },
  {
   "cell_type": "markdown",
   "metadata": {},
   "source": [
    "$$\n",
    "f(x) = ||Ax - b||^2 \n",
    "$$"
   ]
  },
  {
   "cell_type": "code",
   "execution_count": 111,
   "metadata": {},
   "outputs": [
    {
     "name": "stdout",
     "output_type": "stream",
     "text": [
      "xHat = [0.6081575832803787, 0.42314686675129726]\n"
     ]
    },
    {
     "data": {
      "image/svg+xml": [
       "<?xml version=\"1.0\" encoding=\"utf-8\"?>\n",
       "<svg xmlns=\"http://www.w3.org/2000/svg\" xmlns:xlink=\"http://www.w3.org/1999/xlink\" width=\"600\" height=\"400\" viewBox=\"0 0 2400 1600\">\n",
       "<defs>\n",
       "  <clipPath id=\"clip910\">\n",
       "    <rect x=\"0\" y=\"0\" width=\"2400\" height=\"1600\"/>\n",
       "  </clipPath>\n",
       "</defs>\n",
       "<path clip-path=\"url(#clip910)\" d=\"\n",
       "M0 1600 L2400 1600 L2400 0 L0 0  Z\n",
       "  \" fill=\"#ffffff\" fill-rule=\"evenodd\" fill-opacity=\"1\"/>\n",
       "<defs>\n",
       "  <clipPath id=\"clip911\">\n",
       "    <rect x=\"480\" y=\"0\" width=\"1681\" height=\"1600\"/>\n",
       "  </clipPath>\n",
       "</defs>\n",
       "<path clip-path=\"url(#clip910)\" d=\"\n",
       "M126.969 1486.45 L2112.76 1486.45 L2112.76 47.2441 L126.969 47.2441  Z\n",
       "  \" fill=\"#ffffff\" fill-rule=\"evenodd\" fill-opacity=\"1\"/>\n",
       "<defs>\n",
       "  <clipPath id=\"clip912\">\n",
       "    <rect x=\"126\" y=\"47\" width=\"1987\" height=\"1440\"/>\n",
       "  </clipPath>\n",
       "</defs>\n",
       "<polyline clip-path=\"url(#clip912)\" style=\"stroke:#000000; stroke-width:2; stroke-opacity:0.1; fill:none\" points=\"\n",
       "  370.509,1486.45 370.509,47.2441 \n",
       "  \"/>\n",
       "<polyline clip-path=\"url(#clip912)\" style=\"stroke:#000000; stroke-width:2; stroke-opacity:0.1; fill:none\" points=\"\n",
       "  745.186,1486.45 745.186,47.2441 \n",
       "  \"/>\n",
       "<polyline clip-path=\"url(#clip912)\" style=\"stroke:#000000; stroke-width:2; stroke-opacity:0.1; fill:none\" points=\"\n",
       "  1119.86,1486.45 1119.86,47.2441 \n",
       "  \"/>\n",
       "<polyline clip-path=\"url(#clip912)\" style=\"stroke:#000000; stroke-width:2; stroke-opacity:0.1; fill:none\" points=\"\n",
       "  1494.54,1486.45 1494.54,47.2441 \n",
       "  \"/>\n",
       "<polyline clip-path=\"url(#clip912)\" style=\"stroke:#000000; stroke-width:2; stroke-opacity:0.1; fill:none\" points=\"\n",
       "  1869.22,1486.45 1869.22,47.2441 \n",
       "  \"/>\n",
       "<polyline clip-path=\"url(#clip912)\" style=\"stroke:#000000; stroke-width:2; stroke-opacity:0.1; fill:none\" points=\"\n",
       "  126.969,1309.94 2112.76,1309.94 \n",
       "  \"/>\n",
       "<polyline clip-path=\"url(#clip912)\" style=\"stroke:#000000; stroke-width:2; stroke-opacity:0.1; fill:none\" points=\"\n",
       "  126.969,1038.39 2112.76,1038.39 \n",
       "  \"/>\n",
       "<polyline clip-path=\"url(#clip912)\" style=\"stroke:#000000; stroke-width:2; stroke-opacity:0.1; fill:none\" points=\"\n",
       "  126.969,766.846 2112.76,766.846 \n",
       "  \"/>\n",
       "<polyline clip-path=\"url(#clip912)\" style=\"stroke:#000000; stroke-width:2; stroke-opacity:0.1; fill:none\" points=\"\n",
       "  126.969,495.298 2112.76,495.298 \n",
       "  \"/>\n",
       "<polyline clip-path=\"url(#clip912)\" style=\"stroke:#000000; stroke-width:2; stroke-opacity:0.1; fill:none\" points=\"\n",
       "  126.969,223.75 2112.76,223.75 \n",
       "  \"/>\n",
       "<polyline clip-path=\"url(#clip910)\" style=\"stroke:#000000; stroke-width:4; stroke-opacity:1; fill:none\" points=\"\n",
       "  126.969,1486.45 2112.76,1486.45 \n",
       "  \"/>\n",
       "<polyline clip-path=\"url(#clip910)\" style=\"stroke:#000000; stroke-width:4; stroke-opacity:1; fill:none\" points=\"\n",
       "  126.969,1486.45 126.969,47.2441 \n",
       "  \"/>\n",
       "<polyline clip-path=\"url(#clip910)\" style=\"stroke:#000000; stroke-width:4; stroke-opacity:1; fill:none\" points=\"\n",
       "  370.509,1486.45 370.509,1469.18 \n",
       "  \"/>\n",
       "<polyline clip-path=\"url(#clip910)\" style=\"stroke:#000000; stroke-width:4; stroke-opacity:1; fill:none\" points=\"\n",
       "  745.186,1486.45 745.186,1469.18 \n",
       "  \"/>\n",
       "<polyline clip-path=\"url(#clip910)\" style=\"stroke:#000000; stroke-width:4; stroke-opacity:1; fill:none\" points=\"\n",
       "  1119.86,1486.45 1119.86,1469.18 \n",
       "  \"/>\n",
       "<polyline clip-path=\"url(#clip910)\" style=\"stroke:#000000; stroke-width:4; stroke-opacity:1; fill:none\" points=\"\n",
       "  1494.54,1486.45 1494.54,1469.18 \n",
       "  \"/>\n",
       "<polyline clip-path=\"url(#clip910)\" style=\"stroke:#000000; stroke-width:4; stroke-opacity:1; fill:none\" points=\"\n",
       "  1869.22,1486.45 1869.22,1469.18 \n",
       "  \"/>\n",
       "<polyline clip-path=\"url(#clip910)\" style=\"stroke:#000000; stroke-width:4; stroke-opacity:1; fill:none\" points=\"\n",
       "  126.969,1309.94 150.798,1309.94 \n",
       "  \"/>\n",
       "<polyline clip-path=\"url(#clip910)\" style=\"stroke:#000000; stroke-width:4; stroke-opacity:1; fill:none\" points=\"\n",
       "  126.969,1038.39 150.798,1038.39 \n",
       "  \"/>\n",
       "<polyline clip-path=\"url(#clip910)\" style=\"stroke:#000000; stroke-width:4; stroke-opacity:1; fill:none\" points=\"\n",
       "  126.969,766.846 150.798,766.846 \n",
       "  \"/>\n",
       "<polyline clip-path=\"url(#clip910)\" style=\"stroke:#000000; stroke-width:4; stroke-opacity:1; fill:none\" points=\"\n",
       "  126.969,495.298 150.798,495.298 \n",
       "  \"/>\n",
       "<polyline clip-path=\"url(#clip910)\" style=\"stroke:#000000; stroke-width:4; stroke-opacity:1; fill:none\" points=\"\n",
       "  126.969,223.75 150.798,223.75 \n",
       "  \"/>\n",
       "<path clip-path=\"url(#clip910)\" d=\"M 0 0 M350.52 1525.04 L362.997 1525.04 L362.997 1528.83 L350.52 1528.83 L350.52 1525.04 Z\" fill=\"#000000\" fill-rule=\"evenodd\" fill-opacity=\"1\" /><path clip-path=\"url(#clip910)\" d=\"M 0 0 M380.914 1509.43 L369.108 1527.88 L380.914 1527.88 L380.914 1509.43 M379.687 1505.36 L385.566 1505.36 L385.566 1527.88 L390.497 1527.88 L390.497 1531.77 L385.566 1531.77 L385.566 1539.92 L380.914 1539.92 L380.914 1531.77 L365.312 1531.77 L365.312 1527.26 L379.687 1505.36 Z\" fill=\"#000000\" fill-rule=\"evenodd\" fill-opacity=\"1\" /><path clip-path=\"url(#clip910)\" d=\"M 0 0 M726.239 1525.04 L738.716 1525.04 L738.716 1528.83 L726.239 1528.83 L726.239 1525.04 Z\" fill=\"#000000\" fill-rule=\"evenodd\" fill-opacity=\"1\" /><path clip-path=\"url(#clip910)\" d=\"M 0 0 M747.813 1535.98 L764.132 1535.98 L764.132 1539.92 L742.188 1539.92 L742.188 1535.98 Q744.85 1533.23 749.433 1528.6 Q754.04 1523.95 755.22 1522.61 Q757.466 1520.08 758.345 1518.35 Q759.248 1516.59 759.248 1514.9 Q759.248 1512.14 757.304 1510.41 Q755.382 1508.67 752.28 1508.67 Q750.081 1508.67 747.628 1509.43 Q745.197 1510.2 742.419 1511.75 L742.419 1507.03 Q745.243 1505.89 747.697 1505.31 Q750.151 1504.73 752.188 1504.73 Q757.558 1504.73 760.753 1507.42 Q763.947 1510.11 763.947 1514.6 Q763.947 1516.73 763.137 1518.65 Q762.35 1520.54 760.243 1523.14 Q759.665 1523.81 756.563 1527.03 Q753.461 1530.22 747.813 1535.98 Z\" fill=\"#000000\" fill-rule=\"evenodd\" fill-opacity=\"1\" /><path clip-path=\"url(#clip910)\" d=\"M 0 0 M1119.86 1508.44 Q1116.25 1508.44 1114.42 1512 Q1112.62 1515.55 1112.62 1522.67 Q1112.62 1529.78 1114.42 1533.35 Q1116.25 1536.89 1119.86 1536.89 Q1123.5 1536.89 1125.3 1533.35 Q1127.13 1529.78 1127.13 1522.67 Q1127.13 1515.55 1125.3 1512 Q1123.5 1508.44 1119.86 1508.44 M1119.86 1504.73 Q1125.67 1504.73 1128.73 1509.34 Q1131.81 1513.92 1131.81 1522.67 Q1131.81 1531.4 1128.73 1536.01 Q1125.67 1540.59 1119.86 1540.59 Q1114.05 1540.59 1110.97 1536.01 Q1107.92 1531.4 1107.92 1522.67 Q1107.92 1513.92 1110.97 1509.34 Q1114.05 1504.73 1119.86 1504.73 Z\" fill=\"#000000\" fill-rule=\"evenodd\" fill-opacity=\"1\" /><path clip-path=\"url(#clip910)\" d=\"M 0 0 M1489.19 1535.98 L1505.51 1535.98 L1505.51 1539.92 L1483.57 1539.92 L1483.57 1535.98 Q1486.23 1533.23 1490.81 1528.6 Q1495.42 1523.95 1496.6 1522.61 Q1498.84 1520.08 1499.72 1518.35 Q1500.63 1516.59 1500.63 1514.9 Q1500.63 1512.14 1498.68 1510.41 Q1496.76 1508.67 1493.66 1508.67 Q1491.46 1508.67 1489.01 1509.43 Q1486.58 1510.2 1483.8 1511.75 L1483.8 1507.03 Q1486.62 1505.89 1489.08 1505.31 Q1491.53 1504.73 1493.57 1504.73 Q1498.94 1504.73 1502.13 1507.42 Q1505.33 1510.11 1505.33 1514.6 Q1505.33 1516.73 1504.52 1518.65 Q1503.73 1520.54 1501.62 1523.14 Q1501.04 1523.81 1497.94 1527.03 Q1494.84 1530.22 1489.19 1535.98 Z\" fill=\"#000000\" fill-rule=\"evenodd\" fill-opacity=\"1\" /><path clip-path=\"url(#clip910)\" d=\"M 0 0 M1872.23 1509.43 L1860.42 1527.88 L1872.23 1527.88 L1872.23 1509.43 M1871 1505.36 L1876.88 1505.36 L1876.88 1527.88 L1881.81 1527.88 L1881.81 1531.77 L1876.88 1531.77 L1876.88 1539.92 L1872.23 1539.92 L1872.23 1531.77 L1856.62 1531.77 L1856.62 1527.26 L1871 1505.36 Z\" fill=\"#000000\" fill-rule=\"evenodd\" fill-opacity=\"1\" /><path clip-path=\"url(#clip910)\" d=\"M 0 0 M62.9921 1312.34 L75.4689 1312.34 L75.4689 1316.13 L62.9921 1316.13 L62.9921 1312.34 Z\" fill=\"#000000\" fill-rule=\"evenodd\" fill-opacity=\"1\" /><path clip-path=\"url(#clip910)\" d=\"M 0 0 M93.3855 1296.74 L81.58 1315.18 L93.3855 1315.18 L93.3855 1296.74 M92.1586 1292.66 L98.0382 1292.66 L98.0382 1315.18 L102.969 1315.18 L102.969 1319.07 L98.0382 1319.07 L98.0382 1327.22 L93.3855 1327.22 L93.3855 1319.07 L77.7837 1319.07 L77.7837 1314.56 L92.1586 1292.66 Z\" fill=\"#000000\" fill-rule=\"evenodd\" fill-opacity=\"1\" /><path clip-path=\"url(#clip910)\" d=\"M 0 0 M65.0754 1040.79 L77.5522 1040.79 L77.5522 1044.59 L65.0754 1044.59 L65.0754 1040.79 Z\" fill=\"#000000\" fill-rule=\"evenodd\" fill-opacity=\"1\" /><path clip-path=\"url(#clip910)\" d=\"M 0 0 M86.6494 1051.74 L102.969 1051.74 L102.969 1055.67 L81.0244 1055.67 L81.0244 1051.74 Q83.6865 1048.98 88.2698 1044.35 Q92.8762 1039.7 94.0568 1038.36 Q96.3021 1035.84 97.1818 1034.1 Q98.0845 1032.34 98.0845 1030.65 Q98.0845 1027.9 96.1401 1026.16 Q94.2188 1024.42 91.117 1024.42 Q88.9179 1024.42 86.4642 1025.19 Q84.0337 1025.95 81.2559 1027.5 L81.2559 1022.78 Q84.08 1021.65 86.5337 1021.07 Q88.9874 1020.49 91.0244 1020.49 Q96.3947 1020.49 99.5892 1023.17 Q102.784 1025.86 102.784 1030.35 Q102.784 1032.48 101.973 1034.4 Q101.186 1036.3 99.0799 1038.89 Q98.5012 1039.56 95.3994 1042.78 Q92.2975 1045.97 86.6494 1051.74 Z\" fill=\"#000000\" fill-rule=\"evenodd\" fill-opacity=\"1\" /><path clip-path=\"url(#clip910)\" d=\"M 0 0 M91.0244 752.645 Q87.4133 752.645 85.5846 756.209 Q83.7791 759.751 83.7791 766.881 Q83.7791 773.987 85.5846 777.552 Q87.4133 781.094 91.0244 781.094 Q94.6586 781.094 96.4642 777.552 Q98.2929 773.987 98.2929 766.881 Q98.2929 759.751 96.4642 756.209 Q94.6586 752.645 91.0244 752.645 M91.0244 748.941 Q96.8345 748.941 99.8901 753.547 Q102.969 758.131 102.969 766.881 Q102.969 775.608 99.8901 780.214 Q96.8345 784.797 91.0244 784.797 Q85.2142 784.797 82.1355 780.214 Q79.08 775.608 79.08 766.881 Q79.08 758.131 82.1355 753.547 Q85.2142 748.941 91.0244 748.941 Z\" fill=\"#000000\" fill-rule=\"evenodd\" fill-opacity=\"1\" /><path clip-path=\"url(#clip910)\" d=\"M 0 0 M86.6494 508.643 L102.969 508.643 L102.969 512.578 L81.0244 512.578 L81.0244 508.643 Q83.6865 505.888 88.2698 501.259 Q92.8762 496.606 94.0568 495.263 Q96.3021 492.74 97.1818 491.004 Q98.0845 489.245 98.0845 487.555 Q98.0845 484.8 96.1401 483.064 Q94.2188 481.328 91.117 481.328 Q88.9179 481.328 86.4642 482.092 Q84.0337 482.856 81.2559 484.407 L81.2559 479.685 Q84.08 478.551 86.5337 477.972 Q88.9874 477.393 91.0244 477.393 Q96.3947 477.393 99.5892 480.078 Q102.784 482.763 102.784 487.254 Q102.784 489.384 101.973 491.305 Q101.186 493.203 99.0799 495.796 Q98.5012 496.467 95.3994 499.685 Q92.2975 502.879 86.6494 508.643 Z\" fill=\"#000000\" fill-rule=\"evenodd\" fill-opacity=\"1\" /><path clip-path=\"url(#clip910)\" d=\"M 0 0 M93.3855 210.544 L81.58 228.993 L93.3855 228.993 L93.3855 210.544 M92.1586 206.47 L98.0382 206.47 L98.0382 228.993 L102.969 228.993 L102.969 232.882 L98.0382 232.882 L98.0382 241.03 L93.3855 241.03 L93.3855 232.882 L77.7837 232.882 L77.7837 228.368 L92.1586 206.47 Z\" fill=\"#000000\" fill-rule=\"evenodd\" fill-opacity=\"1\" /><polyline clip-path=\"url(#clip912)\" style=\"stroke:#f1e864; stroke-width:4; stroke-opacity:1; fill:none\" points=\"\n",
       "  250.359,1445.72 239.372,1438.15 230.684,1432.14 220.638,1425.15 211.206,1418.56 201.904,1412.03 191.924,1404.98 183.17,1398.77 \n",
       "  \"/>\n",
       "<polyline clip-path=\"url(#clip912)\" style=\"stroke:#f8c931; stroke-width:4; stroke-opacity:1; fill:none\" points=\"\n",
       "  183.17,1349.84 184.322,1350.67 201.904,1363.34 203.174,1364.25 220.638,1376.7 222.223,1377.83 239.372,1389.93 241.471,1391.41 258.106,1403.03 260.922,1404.98 \n",
       "  276.839,1415.99 280.578,1418.56 295.573,1428.82 300.442,1432.14 314.307,1441.53 320.518,1445.72 \n",
       "  \"/>\n",
       "<polyline clip-path=\"url(#clip912)\" style=\"stroke:#fbaa0e; stroke-width:4; stroke-opacity:1; fill:none\" points=\"\n",
       "  394.115,1445.72 389.243,1442.51 373.579,1432.14 370.509,1430.1 353.269,1418.56 351.775,1417.56 333.184,1404.98 333.041,1404.89 314.307,1392.08 313.332,1391.41 \n",
       "  295.573,1379.13 293.695,1377.83 276.839,1366.06 274.27,1364.25 258.106,1352.84 255.052,1350.67 239.372,1339.49 236.039,1337.1 220.638,1325.99 217.226,1323.52 \n",
       "  201.904,1312.35 198.613,1309.94 183.17,1298.57 \n",
       "  \"/>\n",
       "<polyline clip-path=\"url(#clip912)\" style=\"stroke:#f98c09; stroke-width:4; stroke-opacity:1; fill:none\" points=\"\n",
       "  183.17,1244.62 197.766,1255.63 201.904,1258.74 215.942,1269.21 220.638,1272.69 234.317,1282.79 239.372,1286.5 252.895,1296.36 258.106,1300.14 271.68,1309.94 \n",
       "  276.839,1313.64 290.674,1323.52 295.573,1327 309.88,1337.1 314.307,1340.2 329.303,1350.67 333.041,1353.27 348.946,1364.25 351.775,1366.19 368.812,1377.83 \n",
       "  370.509,1378.98 388.905,1391.41 389.243,1391.63 407.976,1404.14 409.245,1404.98 426.71,1416.51 429.828,1418.56 445.444,1428.76 450.653,1432.14 464.178,1440.87 \n",
       "  471.724,1445.72 \n",
       "  \"/>\n",
       "<polyline clip-path=\"url(#clip912)\" style=\"stroke:#f0701e; stroke-width:4; stroke-opacity:1; fill:none\" points=\"\n",
       "  554.051,1445.72 539.113,1436.38 532.355,1432.14 520.379,1424.57 510.928,1418.56 501.646,1412.63 489.763,1404.98 482.912,1400.55 468.857,1391.41 464.178,1388.34 \n",
       "  448.204,1377.83 445.444,1376 427.801,1364.25 426.71,1363.52 407.976,1350.9 407.647,1350.67 389.243,1338.12 387.747,1337.1 370.509,1325.2 368.079,1323.52 \n",
       "  351.775,1312.14 348.642,1309.94 333.041,1298.93 329.43,1296.36 314.307,1285.56 310.44,1282.79 295.573,1272.05 291.668,1269.21 276.839,1258.37 273.112,1255.63 \n",
       "  258.106,1244.54 254.766,1242.05 239.372,1230.54 236.629,1228.48 220.638,1216.38 218.696,1214.9 201.904,1202.05 200.965,1201.32 183.435,1187.75 183.17,1187.54 \n",
       "  \n",
       "  \"/>\n",
       "<polyline clip-path=\"url(#clip912)\" style=\"stroke:#e35832; stroke-width:4; stroke-opacity:1; fill:none\" points=\"\n",
       "  183.17,1126.64 191.629,1133.44 201.904,1141.63 208.691,1147.01 220.638,1156.43 225.954,1160.59 239.372,1171.03 243.423,1174.17 258.106,1185.46 261.101,1187.75 \n",
       "  276.839,1199.7 278.992,1201.32 295.573,1213.76 297.099,1214.9 314.307,1227.65 315.426,1228.48 333.041,1241.37 333.976,1242.05 351.775,1254.93 352.755,1255.63 \n",
       "  370.509,1268.32 371.765,1269.21 389.243,1281.55 391.01,1282.79 407.976,1294.62 410.496,1296.36 426.71,1307.53 430.226,1309.94 445.444,1320.3 450.205,1323.52 \n",
       "  464.178,1332.91 470.436,1337.1 482.912,1345.38 490.926,1350.67 501.646,1357.71 511.678,1364.25 520.379,1369.89 532.697,1377.83 539.113,1381.94 553.988,1391.41 \n",
       "  557.847,1393.85 575.557,1404.98 576.581,1405.62 595.315,1417.25 597.441,1418.56 614.049,1428.74 619.634,1432.14 632.782,1440.1 642.126,1445.72 \n",
       "  \"/>\n",
       "<polyline clip-path=\"url(#clip912)\" style=\"stroke:#d04544; stroke-width:4; stroke-opacity:1; fill:none\" points=\"\n",
       "  737.305,1445.72 726.452,1439.46 713.831,1432.14 707.718,1428.57 690.695,1418.56 688.984,1417.55 670.25,1406.38 667.929,1404.98 651.516,1395.06 645.509,1391.41 \n",
       "  632.782,1383.61 623.4,1377.83 614.049,1372.03 601.596,1364.25 595.315,1360.3 580.092,1350.67 576.581,1348.44 558.881,1337.1 557.847,1336.43 539.113,1324.26 \n",
       "  537.976,1323.52 520.379,1311.94 517.364,1309.94 501.646,1299.46 497.024,1296.36 482.912,1286.84 476.951,1282.79 464.178,1274.05 457.141,1269.21 445.444,1261.11 \n",
       "  437.587,1255.63 426.71,1248 418.286,1242.05 407.976,1234.73 399.232,1228.48 389.243,1221.29 380.422,1214.9 370.509,1207.67 361.85,1201.32 351.775,1193.88 \n",
       "  343.513,1187.75 333.041,1179.91 325.406,1174.17 314.307,1165.76 307.526,1160.59 295.573,1151.42 289.868,1147.01 276.839,1136.89 272.428,1133.44 258.106,1122.16 \n",
       "  255.203,1119.86 239.372,1107.23 238.189,1106.28 221.392,1092.7 220.638,1092.09 204.819,1079.13 201.904,1076.72 188.449,1065.55 183.17,1061.13 \n",
       "  \"/>\n",
       "<polyline clip-path=\"url(#clip912)\" style=\"stroke:#ba3655; stroke-width:4; stroke-opacity:1; fill:none\" points=\"\n",
       "  183.17,989.718 192.238,997.662 201.904,1006.06 207.898,1011.24 220.638,1022.16 223.761,1024.82 239.372,1038.01 239.831,1038.39 256.142,1051.97 258.106,1053.59 \n",
       "  272.671,1065.55 276.839,1068.94 289.416,1079.13 295.573,1084.07 306.38,1092.7 314.307,1098.99 323.569,1106.28 333.041,1113.69 340.985,1119.86 351.775,1128.18 \n",
       "  358.633,1133.44 370.509,1142.47 376.518,1147.01 389.243,1156.56 394.645,1160.59 407.976,1170.46 413.017,1174.17 426.71,1184.17 431.64,1187.75 445.444,1197.69 \n",
       "  450.519,1201.32 464.178,1211.03 469.658,1214.9 482.912,1224.19 489.063,1228.48 501.646,1237.18 508.739,1242.05 520.379,1250 528.691,1255.63 539.113,1262.65 \n",
       "  548.926,1269.21 557.847,1275.13 569.448,1282.79 576.581,1287.46 590.264,1296.36 595.315,1299.63 611.379,1309.94 614.049,1311.64 632.782,1323.51 632.801,1323.52 \n",
       "  651.516,1335.19 654.587,1337.1 670.25,1346.73 676.698,1350.67 688.984,1358.13 699.141,1364.25 707.718,1369.39 721.924,1377.83 726.452,1380.5 745.054,1391.41 \n",
       "  745.186,1391.48 763.919,1402.29 768.623,1404.98 782.653,1412.96 792.565,1418.56 801.387,1423.51 816.886,1432.14 820.121,1433.93 838.855,1444.2 841.647,1445.72 \n",
       "  \n",
       "  \"/>\n",
       "<polyline clip-path=\"url(#clip912)\" style=\"stroke:#a12b61; stroke-width:4; stroke-opacity:1; fill:none\" points=\"\n",
       "  958.533,1445.72 951.258,1442.03 932.524,1432.45 931.916,1432.14 913.79,1422.7 905.92,1418.56 895.056,1412.81 880.378,1404.98 876.322,1402.81 857.589,1392.65 \n",
       "  855.325,1391.41 838.855,1382.32 830.775,1377.83 820.121,1371.86 806.637,1364.25 801.387,1361.27 782.899,1350.67 782.653,1350.53 763.919,1339.61 759.636,1337.1 \n",
       "  745.186,1328.55 736.752,1323.52 726.452,1317.33 714.233,1309.94 707.718,1305.97 692.071,1296.36 688.984,1294.46 670.257,1282.79 670.25,1282.78 651.516,1270.92 \n",
       "  648.834,1269.21 632.782,1258.9 627.738,1255.63 614.049,1246.71 606.961,1242.05 595.315,1234.35 586.497,1228.48 576.581,1221.82 566.339,1214.9 557.847,1209.12 \n",
       "  546.481,1201.32 539.113,1196.23 526.916,1187.75 520.379,1183.16 507.638,1174.17 501.646,1169.91 488.641,1160.59 482.912,1156.46 469.919,1147.01 464.178,1142.81 \n",
       "  451.467,1133.44 445.444,1128.96 433.28,1119.86 426.71,1114.9 415.351,1106.28 407.976,1100.64 397.676,1092.7 389.243,1086.16 380.249,1079.13 370.509,1071.45 \n",
       "  363.066,1065.55 351.775,1056.52 346.122,1051.97 333.041,1041.36 329.412,1038.39 314.307,1025.96 312.932,1024.82 296.695,1011.24 295.573,1010.29 280.704,997.662 \n",
       "  276.839,994.351 264.932,984.084 258.106,978.147 249.376,970.507 239.372,961.674 234.032,956.93 220.638,944.925 218.894,943.352 203.992,929.775 201.904,927.853 \n",
       "  189.32,916.197 183.17,910.45 \n",
       "  \"/>\n",
       "<polyline clip-path=\"url(#clip912)\" style=\"stroke:#88216a; stroke-width:4; stroke-opacity:1; fill:none\" points=\"\n",
       "  183.17,819.998 184.3,821.156 197.729,834.733 201.904,838.907 211.373,848.31 220.638,857.417 225.217,861.888 239.266,875.465 239.372,875.566 253.598,889.043 \n",
       "  258.106,893.272 268.139,902.62 276.839,910.648 282.894,916.197 295.573,927.706 297.869,929.775 313.088,943.352 314.307,944.428 328.57,956.93 333.041,960.812 \n",
       "  344.283,970.507 351.775,976.909 360.23,984.084 370.509,992.728 376.416,997.662 389.243,1008.28 392.848,1011.24 407.976,1023.56 409.529,1024.82 426.47,1038.39 \n",
       "  426.71,1038.58 443.695,1051.97 445.444,1053.34 461.182,1065.55 464.178,1067.85 478.937,1079.13 482.912,1082.14 496.967,1092.7 501.646,1096.19 515.276,1106.28 \n",
       "  520.379,1110.03 533.871,1119.86 539.113,1123.65 552.759,1133.44 557.847,1137.06 571.946,1147.01 576.581,1150.26 591.439,1160.59 595.315,1163.26 611.245,1174.17 \n",
       "  614.049,1176.07 631.371,1187.75 632.782,1188.69 651.516,1201.12 651.831,1201.32 670.25,1213.34 672.661,1214.9 688.984,1225.38 693.842,1228.48 707.718,1237.25 \n",
       "  715.381,1242.05 726.452,1248.94 737.289,1255.63 745.186,1260.47 759.573,1269.21 763.919,1271.83 782.245,1282.79 782.653,1283.03 801.387,1294.03 805.394,1296.36 \n",
       "  820.121,1304.87 828.969,1309.94 838.855,1315.56 852.971,1323.52 857.589,1326.1 876.322,1336.49 877.436,1337.1 895.056,1346.68 902.463,1350.67 913.79,1356.73 \n",
       "  927.966,1364.25 932.524,1366.65 951.258,1376.41 954.02,1377.83 969.992,1385.99 980.695,1391.41 988.725,1395.44 1007.46,1404.76 1007.91,1404.98 1026.19,1413.89 \n",
       "  1035.89,1418.56 1044.93,1422.89 1063.66,1431.76 1064.46,1432.14 1082.39,1440.45 1093.88,1445.72 \n",
       "  \"/>\n",
       "<polyline clip-path=\"url(#clip912)\" style=\"stroke:#6e186e; stroke-width:4; stroke-opacity:1; fill:none\" points=\"\n",
       "  1260.91,1445.72 1251,1441.88 1232.27,1434.52 1226.31,1432.14 1213.53,1426.99 1194.8,1419.32 1192.97,1418.56 1176.06,1411.45 1160.86,1404.98 1157.33,1403.47 \n",
       "  1138.6,1395.29 1129.81,1391.41 1119.86,1386.97 1101.13,1378.51 1099.64,1377.83 1082.39,1369.85 1070.44,1364.25 1063.66,1361.05 1044.93,1352.1 1041.98,1350.67 \n",
       "  1026.19,1342.96 1014.33,1337.1 1007.46,1333.68 988.725,1324.24 987.307,1323.52 969.992,1314.6 961.027,1309.94 951.258,1304.82 935.294,1296.36 932.524,1294.89 \n",
       "  913.79,1284.76 910.179,1282.79 895.056,1274.45 885.63,1269.21 876.322,1263.99 861.567,1255.63 857.589,1253.36 838.855,1242.56 837.996,1242.05 820.121,1231.54 \n",
       "  814.962,1228.48 801.387,1220.35 792.362,1214.9 782.653,1208.99 770.184,1201.32 763.919,1197.44 748.418,1187.75 745.186,1185.71 727.052,1174.17 726.452,1173.78 \n",
       "  707.718,1161.64 706.11,1160.59 688.984,1149.3 685.552,1147.01 670.25,1136.75 665.357,1133.44 651.516,1123.99 645.513,1119.86 632.782,1111.02 626.014,1106.28 \n",
       "  614.049,1097.83 606.851,1092.7 595.315,1084.41 588.015,1079.13 576.581,1070.77 569.498,1065.55 557.847,1056.88 551.293,1051.97 539.113,1042.76 533.393,1038.39 \n",
       "  520.379,1028.38 515.79,1024.82 501.646,1013.74 498.477,1011.24 482.912,998.837 481.448,997.662 464.706,984.084 464.178,983.651 448.268,970.507 445.444,968.151 \n",
       "  432.099,956.93 426.71,952.353 416.192,943.352 407.976,936.25 400.542,929.775 389.243,919.831 385.144,916.197 370.509,903.088 369.99,902.62 355.138,889.043 \n",
       "  351.775,885.934 340.534,875.465 333.041,868.412 326.162,861.888 314.307,850.522 312.018,848.31 298.142,834.733 295.573,832.187 284.529,821.156 276.839,813.387 \n",
       "  271.131,807.578 258.106,794.168 257.944,794.001 245.065,780.423 239.372,774.348 232.393,766.846 220.638,754.056 219.919,753.269 207.745,739.691 201.904,733.09 \n",
       "  195.776,726.114 184.011,712.536 183.17,711.548 \n",
       "  \"/>\n",
       "<polyline clip-path=\"url(#clip912)\" style=\"stroke:#550f6d; stroke-width:4; stroke-opacity:1; fill:none\" points=\"\n",
       "  183.17,566.255 190.101,576.762 199.261,590.34 201.904,594.152 208.73,603.917 218.418,617.495 220.638,620.527 228.421,631.072 238.621,644.649 239.372,645.624 \n",
       "  249.162,658.227 258.106,669.558 259.893,671.804 270.941,685.382 276.839,692.508 282.223,698.959 293.747,712.536 295.573,714.646 305.584,726.114 314.307,735.965 \n",
       "  317.633,739.691 329.963,753.269 333.041,756.601 342.58,766.846 351.775,776.589 355.423,780.423 368.539,794.001 370.509,796.008 381.962,807.578 389.243,814.841 \n",
       "  395.625,821.156 407.976,833.223 409.535,834.733 423.759,848.31 426.71,851.09 438.271,861.888 445.444,868.509 453.044,875.465 464.178,885.537 468.086,889.043 \n",
       "  482.912,902.187 483.404,902.62 499.06,916.197 501.646,918.414 515.011,929.775 520.379,934.288 531.254,943.352 539.113,949.832 547.797,956.93 557.847,965.055 \n",
       "  564.649,970.507 576.581,979.969 581.817,984.084 595.315,994.583 599.309,997.662 614.049,1008.91 617.135,1011.24 632.782,1022.95 635.303,1024.82 651.516,1036.72 \n",
       "  653.824,1038.39 670.25,1050.22 672.706,1051.97 688.984,1063.47 691.96,1065.55 707.718,1076.46 711.596,1079.13 726.452,1089.22 731.626,1092.7 745.186,1101.74 \n",
       "  752.061,1106.28 763.919,1114.03 772.912,1119.86 782.653,1126.11 794.191,1133.44 801.387,1137.96 815.912,1147.01 820.121,1149.61 838.088,1160.59 838.855,1161.05 \n",
       "  857.589,1172.26 860.813,1174.17 876.322,1183.26 884.054,1187.75 895.056,1194.07 907.808,1201.32 913.79,1204.69 932.092,1214.9 932.524,1215.14 951.258,1225.34 \n",
       "  957.078,1228.48 969.992,1235.37 982.659,1242.05 988.725,1245.23 1007.46,1254.91 1008.88,1255.63 1026.19,1264.36 1035.93,1269.21 1044.93,1273.65 1063.65,1282.79 \n",
       "  1063.66,1282.79 1082.39,1291.69 1092.36,1296.36 1101.13,1300.44 1119.86,1309.03 1121.88,1309.94 1138.6,1317.4 1152.5,1323.52 1157.33,1325.63 1176.06,1333.65 \n",
       "  1184.23,1337.1 1194.8,1341.51 1213.53,1349.21 1217.18,1350.67 1232.27,1356.69 1251,1364.05 1251.53,1364.25 1269.73,1371.16 1287.56,1377.83 1288.47,1378.16 \n",
       "  1307.2,1384.92 1325.48,1391.41 1325.93,1391.57 1344.67,1397.96 1363.4,1404.24 1365.69,1404.98 1382.14,1410.28 1400.87,1416.17 1408.69,1418.56 1419.6,1421.86 \n",
       "  1438.34,1427.37 1455.05,1432.14 1457.07,1432.71 1475.81,1437.81 1494.54,1442.75 1506.21,1445.72 \n",
       "  \"/>\n",
       "<polyline clip-path=\"url(#clip912)\" style=\"stroke:#3b0964; stroke-width:4; stroke-opacity:1; fill:none\" points=\"\n",
       "  2056.55,1322.57 2054.93,1323.52 2037.82,1332.81 2029.14,1337.1 2019.09,1341.72 2000.35,1349.5 1997.23,1350.67 1981.62,1356.17 1962.89,1362.02 1954.83,1364.25 \n",
       "  1944.15,1367.04 1925.42,1371.32 1906.68,1374.99 1889.45,1377.83 1887.95,1378.06 1869.22,1380.52 1850.48,1382.48 1831.75,1383.98 1813.01,1385.02 1794.28,1385.64 \n",
       "  1775.55,1385.86 1756.81,1385.69 1738.08,1385.17 1719.35,1384.29 1700.61,1383.09 1681.88,1381.56 1663.14,1379.74 1646.16,1377.83 1644.41,1377.63 1625.68,1375.18 \n",
       "  1606.94,1372.47 1588.21,1369.5 1569.47,1366.28 1558.51,1364.25 1550.74,1362.8 1532.01,1359.03 1513.27,1355.05 1494.54,1350.86 1493.78,1350.67 1475.81,1346.36 \n",
       "  1457.07,1341.66 1439.56,1337.1 1438.34,1336.77 1419.6,1331.59 1400.87,1326.24 1391.7,1323.52 1382.14,1320.65 1363.4,1314.84 1348.04,1309.94 1344.67,1308.85 \n",
       "  1325.93,1302.6 1307.67,1296.36 1307.2,1296.2 1288.47,1289.52 1269.95,1282.79 1269.73,1282.71 1251,1275.61 1234.4,1269.21 1232.27,1268.38 1213.53,1260.88 \n",
       "  1200.65,1255.63 1194.8,1253.22 1176.06,1245.34 1168.42,1242.05 1157.33,1237.25 1138.6,1228.99 1137.46,1228.48 1119.86,1220.46 1107.83,1214.9 1101.13,1211.77 \n",
       "  1082.39,1202.87 1079.19,1201.32 1063.66,1193.73 1051.58,1187.75 1044.93,1184.41 1026.19,1174.9 1024.79,1174.17 1007.46,1165.11 998.92,1160.59 988.725,1155.14 \n",
       "  973.735,1147.01 969.992,1144.96 951.258,1134.56 949.268,1133.44 932.524,1123.9 925.524,1119.86 913.79,1113.02 902.367,1106.28 895.056,1101.92 879.777,1092.7 \n",
       "  876.322,1090.6 857.735,1079.13 857.589,1079.03 838.855,1067.19 836.293,1065.55 820.121,1055.09 815.349,1051.97 801.387,1042.74 794.885,1038.39 782.653,1030.13 \n",
       "  774.883,1024.82 763.919,1017.24 755.33,1011.24 745.186,1004.07 736.211,997.662 726.452,990.611 717.513,984.084 707.718,976.849 699.222,970.507 688.984,962.774 \n",
       "  681.326,956.93 670.25,948.375 663.813,943.352 651.516,933.64 646.671,929.775 632.782,918.557 629.89,916.197 614.049,903.112 613.459,902.62 597.418,889.043 \n",
       "  595.315,887.238 581.728,875.465 576.581,870.947 566.364,861.888 557.847,854.235 551.318,848.31 539.113,837.086 536.579,834.733 522.182,821.156 520.379,819.427 \n",
       "  508.142,807.578 501.646,801.197 494.39,794.001 482.912,782.451 480.916,780.423 467.797,766.846 464.178,763.034 454.994,753.269 445.444,742.956 442.45,739.691 \n",
       "  430.239,726.114 426.71,722.111 418.349,712.536 407.976,700.46 406.699,698.959 395.426,685.382 389.243,677.79 384.413,671.804 373.697,658.227 370.509,654.085 \n",
       "  363.315,644.649 353.178,631.072 351.775,629.135 343.421,617.495 333.885,603.917 333.041,602.673 324.747,590.34 315.836,576.762 314.307,574.348 307.309,563.185 \n",
       "  299.045,549.608 295.573,543.689 291.125,536.03 283.531,522.453 276.839,510.054 276.21,508.875 269.311,495.298 262.691,481.721 258.106,471.846 256.403,468.143 \n",
       "  250.525,454.566 244.961,440.989 239.724,427.411 239.372,426.42 234.944,413.834 230.526,400.256 226.478,386.679 222.817,373.102 220.638,363.969 219.589,359.524 \n",
       "  216.833,345.947 214.513,332.369 212.65,318.792 211.268,305.215 210.389,291.637 210.04,278.06 210.249,264.482 211.043,250.905 212.456,237.328 214.521,223.75 \n",
       "  217.274,210.173 220.638,197.043 220.759,196.595 225.151,183.018 230.393,169.441 236.536,155.863 239.372,150.373 243.795,142.286 252.229,128.708 258.106,120.307 \n",
       "  261.958,115.131 273.214,101.554 276.839,97.5932 286.263,87.9763 \n",
       "  \"/>\n",
       "<polyline clip-path=\"url(#clip912)\" style=\"stroke:#3b0964; stroke-width:4; stroke-opacity:1; fill:none\" points=\"\n",
       "  1134.19,87.9763 1138.6,89.6221 1157.33,96.81 1169.45,101.554 1176.06,104.172 1194.8,111.756 1202.96,115.131 1213.53,119.544 1232.27,127.51 1235.02,128.708 \n",
       "  1251,135.731 1265.69,142.286 1269.73,144.108 1288.47,152.723 1295.18,155.863 1307.2,161.546 1323.67,169.441 1325.93,170.54 1344.67,179.788 1351.11,183.018 \n",
       "  1363.4,189.241 1377.73,196.595 1382.14,198.88 1400.87,208.744 1403.54,210.173 1419.6,218.856 1428.54,223.75 1438.34,229.169 1452.9,237.328 1457.07,239.688 \n",
       "  1475.81,250.432 1476.62,250.905 1494.54,261.45 1499.63,264.482 1513.27,272.691 1522.09,278.06 1532.01,284.162 1544.01,291.637 1550.74,295.872 1565.42,305.215 \n",
       "  1569.47,307.827 1586.32,318.792 1588.21,320.037 1606.73,332.369 1606.94,332.51 1625.68,345.274 1626.65,345.947 1644.41,358.315 1646.13,359.524 1663.14,371.641 \n",
       "  1665.17,373.102 1681.88,385.261 1683.8,386.679 1700.61,399.186 1702.03,400.256 1719.35,413.426 1719.88,413.834 1737.32,427.411 1738.08,428.01 1754.38,440.989 \n",
       "  1756.81,442.954 1771.07,454.566 1775.55,458.261 1787.41,468.143 1794.28,473.945 1803.4,481.721 1813.01,490.02 1819.07,495.298 1831.75,506.502 1834.41,508.875 \n",
       "  1849.41,522.453 1850.48,523.437 1864.04,536.03 1869.22,540.905 1878.37,549.608 1887.95,558.85 1892.4,563.185 1906.14,576.762 1906.68,577.312 1919.49,590.34 \n",
       "  1925.42,596.463 1932.57,603.917 1944.15,616.183 1945.38,617.495 1957.82,631.072 1962.89,636.7 1969.97,644.649 1981.62,657.921 1981.89,658.227 1993.4,671.804 \n",
       "  2000.35,680.153 2004.67,685.382 2015.63,698.959 2019.09,703.342 2026.27,712.536 2036.66,726.114 2037.82,727.674 2046.67,739.691 2056.47,753.269 2056.55,753.39 \n",
       "  \n",
       "  \"/>\n",
       "<polyline clip-path=\"url(#clip912)\" style=\"stroke:#550f6d; stroke-width:4; stroke-opacity:1; fill:none\" points=\"\n",
       "  2056.55,602.595 2044.95,590.34 2037.82,582.916 2031.87,576.762 2019.09,563.728 2018.55,563.185 2004.9,549.608 2000.35,545.144 1990.99,536.03 1981.62,527.015 \n",
       "  1976.84,522.453 1962.89,509.309 1962.42,508.875 1947.67,495.298 1944.15,492.098 1932.64,481.721 1925.42,475.279 1917.34,468.143 1906.68,458.828 1901.76,454.566 \n",
       "  1887.95,442.731 1885.9,440.989 1869.73,427.411 1869.22,426.987 1853.22,413.834 1850.48,411.611 1836.4,400.256 1831.75,396.546 1819.27,386.679 1813.01,381.783 \n",
       "  1801.82,373.102 1794.28,367.313 1784.04,359.524 1775.55,353.127 1765.93,345.947 1756.81,339.216 1747.46,332.369 1738.08,325.571 1728.64,318.792 1719.35,312.185 \n",
       "  1709.45,305.215 1700.61,299.05 1689.88,291.637 1681.88,286.159 1669.93,278.06 1663.14,273.505 1649.58,264.482 1644.41,261.08 1628.81,250.905 1625.68,248.879 \n",
       "  1607.63,237.328 1606.94,236.895 1588.21,225.152 1585.95,223.75 1569.47,213.627 1563.8,210.173 1550.74,202.305 1541.17,196.595 1532.01,191.181 1518.05,183.018 \n",
       "  1513.27,180.249 1494.54,169.505 1494.43,169.441 1475.81,159.005 1470.14,155.863 1457.07,148.684 1445.3,142.286 1438.34,138.538 1419.88,128.708 1419.6,128.562 \n",
       "  1400.87,118.828 1393.67,115.131 1382.14,109.259 1366.82,101.554 1363.4,99.8485 1344.67,90.6472 1339.15,87.9763 \n",
       "  \"/>\n",
       "<polyline clip-path=\"url(#clip912)\" style=\"stroke:#6e186e; stroke-width:4; stroke-opacity:1; fill:none\" points=\"\n",
       "  1492.14,87.9763 1494.54,89.2888 1513.27,99.678 1516.62,101.554 1532.01,110.252 1540.56,115.131 1550.74,120.989 1564.03,128.708 1569.47,131.895 1587.06,142.286 \n",
       "  1588.21,142.973 1606.94,154.259 1609.58,155.863 1625.68,165.736 1631.66,169.441 1644.41,177.396 1653.34,183.018 1663.14,189.244 1674.62,196.595 1681.88,201.285 \n",
       "  1695.52,210.173 1700.61,213.522 1716.04,223.75 1719.35,225.962 1736.19,237.328 1738.08,238.611 1755.99,250.905 1756.81,251.472 1775.45,264.482 1775.55,264.553 \n",
       "  1794.28,277.864 1794.55,278.06 1813.01,291.402 1813.34,291.637 1831.75,305.173 1831.8,305.215 1849.95,318.792 1850.48,319.192 1867.79,332.369 1869.22,333.463 \n",
       "  1885.33,345.947 1887.95,347.993 1902.58,359.524 1906.68,362.789 1919.54,373.102 1925.42,377.858 1936.23,386.679 1944.15,393.209 1952.64,400.256 1962.89,408.85 \n",
       "  1968.78,413.834 1981.62,424.79 1984.67,427.411 2000.3,440.989 2000.35,441.039 2015.61,454.566 2019.09,457.676 2030.69,468.143 2037.82,474.65 2045.52,481.721 \n",
       "  2056.55,491.971 \n",
       "  \"/>\n",
       "<polyline clip-path=\"url(#clip912)\" style=\"stroke:#88216a; stroke-width:4; stroke-opacity:1; fill:none\" points=\"\n",
       "  2056.55,400.215 2040.68,386.679 2037.82,384.267 2024.51,373.102 2019.09,368.591 2008.11,359.524 2000.35,353.18 1991.45,345.947 1981.62,338.027 1974.54,332.369 \n",
       "  1962.89,323.126 1957.38,318.792 1944.15,308.47 1939.95,305.215 1925.42,294.053 1922.25,291.637 1906.68,279.868 1904.27,278.06 1887.95,265.911 1886.02,264.482 \n",
       "  1869.22,252.174 1867.47,250.905 1850.48,238.653 1848.63,237.328 1831.75,225.343 1829.49,223.75 1813.01,212.238 1810.04,210.173 1794.28,199.334 1790.27,196.595 \n",
       "  1775.55,186.624 1770.18,183.018 1756.81,174.106 1749.76,169.441 1738.08,161.774 1729,155.863 1719.35,149.625 1707.9,142.286 1700.61,137.653 1686.44,128.708 \n",
       "  1681.88,125.855 1664.61,115.131 1663.14,114.226 1644.41,102.785 1642.38,101.554 1625.68,91.5248 1619.72,87.9763 \n",
       "  \"/>\n",
       "<polyline clip-path=\"url(#clip912)\" style=\"stroke:#a12b61; stroke-width:4; stroke-opacity:1; fill:none\" points=\"\n",
       "  1731.49,87.9763 1738.08,92.1332 1752.89,101.554 1756.81,104.064 1773.96,115.131 1775.55,116.161 1794.28,128.43 1794.7,128.708 1813.01,140.886 1815.11,142.286 \n",
       "  1831.75,153.515 1835.2,155.863 1850.48,166.321 1855.01,169.441 1869.22,179.308 1874.52,183.018 1887.95,192.481 1893.75,196.595 1906.68,205.842 1912.7,210.173 \n",
       "  1925.42,219.398 1931.38,223.75 1944.15,233.152 1949.79,237.328 1962.89,247.108 1967.94,250.905 1981.62,261.272 1985.83,264.482 2000.35,275.648 2003.47,278.06 \n",
       "  2019.09,290.242 2020.86,291.637 2037.82,305.058 2038.02,305.215 2054.91,318.792 2056.55,320.127 \n",
       "  \"/>\n",
       "<polyline clip-path=\"url(#clip912)\" style=\"stroke:#ba3655; stroke-width:4; stroke-opacity:1; fill:none\" points=\"\n",
       "  2056.55,248.117 2042.54,237.328 2037.82,233.724 2024.69,223.75 2019.09,219.53 2006.59,210.173 2000.35,205.531 1988.26,196.595 1981.62,191.723 1969.68,183.018 \n",
       "  1962.89,178.102 1950.84,169.441 1944.15,164.663 1931.75,155.863 1925.42,151.404 1912.39,142.286 1906.68,138.32 1892.76,128.708 1887.95,125.407 1872.86,115.131 \n",
       "  1869.22,112.663 1852.69,101.554 1850.48,100.083 1832.22,87.9763 \n",
       "  \"/>\n",
       "<polyline clip-path=\"url(#clip912)\" style=\"stroke:#d04544; stroke-width:4; stroke-opacity:1; fill:none\" points=\"\n",
       "  1924.59,87.9763 1925.42,88.5394 1944.15,101.404 1944.37,101.554 1962.89,114.438 1963.87,115.131 1981.62,127.635 1983.13,128.708 2000.35,140.999 2002.14,142.286 \n",
       "  2019.09,154.533 2020.92,155.863 2037.82,168.241 2039.45,169.441 2056.55,182.126 \n",
       "  \"/>\n",
       "<polyline clip-path=\"url(#clip912)\" style=\"stroke:#e35832; stroke-width:4; stroke-opacity:1; fill:none\" points=\"\n",
       "  2056.55,120.899 2048.57,115.131 2037.82,107.421 2029.6,101.554 2019.09,94.1043 2010.39,87.9763 \n",
       "  \"/>\n",
       "<polyline clip-path=\"url(#clip912)\" style=\"stroke:#1f0c47; stroke-width:4; stroke-opacity:1; fill:none\" points=\"\n",
       "  1556.53,413.834 1569.47,422.949 1575.73,427.411 1588.21,436.438 1594.42,440.989 1606.94,450.296 1612.61,454.566 1625.68,464.542 1630.33,468.143 1644.41,479.192 \n",
       "  1647.59,481.721 1663.14,494.265 1664.41,495.298 1680.77,508.875 1681.88,509.813 1696.66,522.453 1700.61,525.881 1712.16,536.03 1719.35,542.455 1727.25,549.608 \n",
       "  1738.08,559.561 1741.97,563.185 1756.32,576.762 1756.81,577.244 1770.18,590.34 1775.55,595.691 1783.7,603.917 1794.28,614.79 1796.88,617.495 1809.65,631.072 \n",
       "  1813.01,634.736 1822.02,644.649 1831.75,655.575 1834.08,658.227 1845.72,671.804 1850.48,677.502 1856.99,685.382 1867.96,698.959 1869.22,700.572 1878.45,712.536 \n",
       "  1887.95,725.122 1888.69,726.114 1898.44,739.691 1906.68,751.48 1907.92,753.269 1916.92,766.846 1925.42,780.041 1925.66,780.423 1933.89,794.001 1941.82,807.578 \n",
       "  1944.15,811.776 1949.3,821.156 1956.39,834.733 1962.89,847.804 1963.13,848.31 1969.34,861.888 1975.18,875.465 1980.63,889.043 1981.62,891.758 1985.54,902.62 \n",
       "  1989.99,916.197 1993.99,929.775 1997.51,943.352 2000.35,956.156 2000.52,956.93 2002.92,970.507 2004.76,984.084 2006.02,997.662 2006.65,1011.24 2006.62,1024.82 \n",
       "  2005.88,1038.39 2004.39,1051.97 2002.1,1065.55 2000.35,1073.15 1998.89,1079.13 1994.66,1092.7 1989.39,1106.28 1983.01,1119.86 1981.62,1122.4 1975.14,1133.44 \n",
       "  1965.83,1147.01 1962.89,1150.79 1954.62,1160.59 1944.15,1171.49 1941.35,1174.17 1925.43,1187.75 1925.42,1187.75 1906.68,1200.88 1905.98,1201.32 1887.95,1211.7 \n",
       "  1881.72,1214.9 1869.22,1220.79 1850.63,1228.48 1850.48,1228.53 1831.75,1234.89 1813.01,1240.33 1806.09,1242.05 1794.28,1244.8 1775.55,1248.44 1756.81,1251.38 \n",
       "  1738.08,1253.67 1719.35,1255.36 1714.93,1255.63 1700.61,1256.45 1681.88,1257.03 1663.14,1257.12 1644.41,1256.76 1625.68,1255.97 1620.37,1255.63 1606.94,1254.76 \n",
       "  1588.21,1253.14 1569.47,1251.16 1550.74,1248.82 1532.01,1246.16 1513.27,1243.19 1506.85,1242.05 1494.54,1239.85 1475.81,1236.2 1457.07,1232.27 1440.12,1228.48 \n",
       "  1438.34,1228.07 1419.6,1223.51 1400.87,1218.72 1386.67,1214.9 1382.14,1213.66 1363.4,1208.28 1344.67,1202.7 1340.26,1201.32 1325.93,1196.79 1307.2,1190.66 \n",
       "  1298.6,1187.75 1288.47,1184.26 1269.73,1177.61 1260.34,1174.17 1251,1170.7 1232.27,1163.55 1224.74,1160.59 1213.53,1156.13 1194.8,1148.49 1191.27,1147.01 \n",
       "  1176.06,1140.55 1159.64,1133.44 1157.33,1132.42 1138.6,1123.98 1129.63,1119.86 1119.86,1115.31 1101.13,1106.43 1100.82,1106.28 1082.39,1097.21 1073.39,1092.7 \n",
       "  1063.66,1087.77 1046.89,1079.13 1044.93,1078.1 1026.19,1068.12 1021.44,1065.55 1007.46,1057.87 996.877,1051.97 988.725,1047.37 973.072,1038.39 969.992,1036.6 \n",
       "  951.258,1025.55 950.04,1024.82 932.524,1014.16 927.785,1011.24 913.79,1002.49 906.173,997.662 895.056,990.52 885.175,984.084 876.322,978.24 864.767,970.507 \n",
       "  857.589,965.636 844.927,956.93 838.855,952.695 825.631,943.352 820.121,939.403 806.859,929.775 801.387,925.744 788.59,916.197 782.653,911.703 770.806,902.62 \n",
       "  763.919,897.261 753.489,889.043 745.186,882.4 736.622,875.465 726.452,867.102 720.187,861.888 707.718,851.346 704.17,848.31 688.984,835.11 688.556,834.733 \n",
       "  673.421,821.156 670.25,818.261 658.684,807.578 651.516,800.845 644.316,794.001 632.782,782.846 630.306,780.423 616.716,766.846 614.049,764.123 603.539,753.269 \n",
       "  595.315,744.615 590.689,739.691 578.201,726.114 576.581,724.305 566.159,712.536 557.847,702.958 554.416,698.959 543.074,685.382 539.113,680.512 532.114,671.804 \n",
       "  521.457,658.227 520.379,656.806 511.271,644.649 501.646,631.493 501.341,631.072 491.911,617.495 482.912,604.188 482.731,603.917 474.06,590.34 465.661,576.762 \n",
       "  464.178,574.245 457.741,563.185 450.164,549.608 445.444,540.724 442.98,536.03 436.263,522.453 429.896,508.875 426.71,501.603 423.982,495.298 418.547,481.721 \n",
       "  413.518,468.143 408.917,454.566 407.976,451.441 404.869,440.989 401.32,427.411 398.267,413.834 395.74,400.256 393.771,386.679 392.392,373.102 391.642,359.524 \n",
       "  391.561,345.947 392.191,332.369 393.582,318.792 395.783,305.215 398.853,291.637 402.852,278.06 407.85,264.482 407.976,264.192 414.181,250.905 421.74,237.328 \n",
       "  426.71,229.639 430.812,223.75 441.651,210.173 445.444,205.97 454.638,196.595 464.178,187.951 470.139,183.018 482.912,173.508 488.947,169.441 501.646,161.663 \n",
       "  512.224,155.863 520.379,151.765 539.113,143.42 541.987,142.286 557.847,136.495 576.581,130.594 583.521,128.708 595.315,125.722 614.049,121.714 632.782,118.432 \n",
       "  651.516,115.826 658.006,115.131 670.25,113.898 688.984,112.561 707.718,111.752 726.452,111.44 745.186,111.595 763.919,112.188 782.653,113.197 801.387,114.596 \n",
       "  806.987,115.131 820.121,116.405 838.855,118.592 857.589,121.117 876.322,123.962 895.056,127.111 903.68,128.708 913.79,130.606 932.524,134.43 951.258,138.516 \n",
       "  967.508,142.286 969.992,142.87 988.725,147.581 1007.46,152.52 1019.54,155.863 1026.19,157.73 1044.93,163.249 1063.66,168.963 1065.15,169.441 1082.39,175.024 \n",
       "  1101.13,181.276 1106.15,183.018 1119.86,187.834 1138.6,194.603 1143.93,196.595 1157.33,201.666 1176.06,208.93 1179.17,210.173 1194.8,216.508 1212.31,223.75 \n",
       "  1213.53,224.262 1232.27,232.347 1243.58,237.328 1251,240.636 1269.73,249.172 1273.45,250.905 1288.47,258.003 1301.94,264.482 1307.2,267.043 1325.93,276.352 \n",
       "  1329.3,278.06 1344.67,285.956 1355.55,291.637 1363.4,295.791 1380.94,305.215 1382.14,305.866 1400.87,316.267 1405.35,318.792 1419.6,326.941 1428.96,332.369 \n",
       "  1438.34,337.879 1451.87,345.947 1457.07,349.092 1474.09,359.524 1475.81,360.59 1494.54,372.407 1495.62,373.102 1513.27,384.559 1516.5,386.679 1532.01,397.024 \n",
       "  1536.79,400.256 1550.74,409.816 1556.53,413.834 \n",
       "  \"/>\n",
       "<polyline clip-path=\"url(#clip912)\" style=\"stroke:#090621; stroke-width:4; stroke-opacity:1; fill:none\" points=\"\n",
       "  1455.09,495.298 1457.07,496.689 1474.07,508.875 1475.81,510.142 1492.33,522.453 1494.54,524.135 1509.89,536.03 1513.27,538.704 1526.81,549.608 1532.01,553.886 \n",
       "  1543.11,563.185 1550.74,569.722 1558.82,576.762 1569.47,586.259 1573.98,590.34 1588.21,603.546 1588.6,603.917 1602.55,617.495 1606.94,621.883 1615.99,631.072 \n",
       "  1625.68,641.173 1628.96,644.649 1641.36,658.227 1644.41,661.685 1653.19,671.804 1663.14,683.616 1664.61,685.382 1675.38,698.959 1681.88,707.449 1685.71,712.536 \n",
       "  1695.47,726.114 1700.61,733.591 1704.73,739.691 1713.43,753.269 1719.35,763.009 1721.64,766.846 1729.19,780.423 1736.3,794.001 1738.08,797.727 1742.71,807.578 \n",
       "  1748.54,821.156 1753.81,834.733 1756.81,843.557 1758.4,848.31 1762.24,861.888 1765.39,875.465 1767.8,889.043 1769.4,902.62 1770.12,916.197 1769.89,929.775 \n",
       "  1768.61,943.352 1766.18,956.93 1762.48,970.507 1757.39,984.084 1756.81,985.305 1750.36,997.662 1741.43,1011.24 1738.08,1015.48 1729.82,1024.82 1719.35,1034.75 \n",
       "  1714.99,1038.39 1700.61,1048.75 1695.44,1051.97 1681.88,1059.39 1668.52,1065.55 1663.14,1067.76 1644.41,1074.23 1626.67,1079.13 1625.68,1079.38 1606.94,1083.14 \n",
       "  1588.21,1085.93 1569.47,1087.84 1550.74,1088.94 1532.01,1089.32 1513.27,1089.02 1494.54,1088.11 1475.81,1086.63 1457.07,1084.63 1438.34,1082.15 1419.6,1079.23 \n",
       "  1419.06,1079.13 1400.87,1075.74 1382.14,1071.87 1363.4,1067.62 1355.03,1065.55 1344.67,1062.93 1325.93,1057.83 1307.2,1052.44 1305.69,1051.97 1288.47,1046.55 \n",
       "  1269.73,1040.38 1264.01,1038.39 1251,1033.79 1232.27,1026.9 1226.86,1024.82 1213.53,1019.59 1194.8,1012.01 1192.98,1011.24 1176.06,1003.96 1161.79,997.662 \n",
       "  1157.33,995.655 1138.6,986.943 1132.63,984.084 1119.86,977.858 1105.14,970.507 1101.13,968.465 1082.39,958.671 1079.15,956.93 1063.66,948.46 1054.52,943.352 \n",
       "  1044.93,937.895 1030.95,929.775 1026.19,926.956 1008.39,916.197 1007.46,915.622 988.725,903.816 986.867,902.62 969.992,891.558 966.227,889.043 951.258,878.848 \n",
       "  946.382,875.465 932.524,865.66 927.289,861.888 913.79,851.964 908.909,848.31 895.056,837.728 891.204,834.733 876.322,822.919 874.139,821.156 857.686,807.578 \n",
       "  857.589,807.496 841.928,794.001 838.855,791.291 826.739,780.423 820.121,774.346 812.09,766.846 801.387,756.607 797.955,753.269 784.377,739.691 782.653,737.911 \n",
       "  771.421,726.114 763.919,718.021 758.918,712.536 746.917,698.959 745.186,696.921 735.543,685.382 726.452,674.165 724.569,671.804 714.229,658.227 707.718,649.343 \n",
       "  704.334,644.649 695.024,631.072 688.984,621.838 686.189,617.495 677.977,603.917 670.25,590.458 670.183,590.34 663.139,576.762 656.573,563.185 651.516,551.793 \n",
       "  650.563,549.608 645.304,536.03 640.633,522.453 636.597,508.875 633.249,495.298 632.782,492.804 630.746,481.721 629.043,468.143 628.189,454.566 628.258,440.989 \n",
       "  629.335,427.411 631.514,413.834 632.782,408.653 635.027,400.256 640.036,386.679 646.628,373.102 651.516,365.036 655.224,359.524 666.31,345.947 670.25,341.873 \n",
       "  680.63,332.369 688.984,325.82 699.28,318.792 707.718,313.756 724.526,305.215 726.452,304.345 745.186,297.14 762.894,291.637 763.919,291.349 782.653,287.056 \n",
       "  801.387,283.795 820.121,281.468 838.855,279.988 857.589,279.28 876.322,279.276 895.056,279.917 913.79,281.149 932.524,282.926 951.258,285.204 969.992,287.946 \n",
       "  988.725,291.118 991.396,291.637 1007.46,294.822 1026.19,298.928 1044.93,303.386 1051.98,305.215 1063.66,308.296 1082.39,313.594 1099.81,318.792 1101.13,319.194 \n",
       "  1119.86,325.286 1138.6,331.625 1140.68,332.369 1157.33,338.436 1176.06,345.489 1177.22,345.947 1194.8,353.018 1210.51,359.524 1213.53,360.796 1232.27,369.01 \n",
       "  1241.33,373.102 1251,377.548 1269.73,386.386 1270.33,386.679 1288.47,395.7 1297.42,400.256 1307.2,405.329 1323.24,413.834 1325.93,415.29 1344.67,425.677 \n",
       "  1347.72,427.411 1363.4,436.485 1371.03,440.989 1382.14,447.672 1393.36,454.566 1400.87,459.262 1414.79,468.143 1419.6,471.278 1435.35,481.721 1438.34,483.744 \n",
       "  1455.09,495.298 \n",
       "  \"/>\n",
       "<circle clip-path=\"url(#clip912)\" cx=\"1233.79\" cy=\"709.394\" r=\"14\" fill=\"#ff0000\" fill-rule=\"evenodd\" fill-opacity=\"1\" stroke=\"#000000\" stroke-opacity=\"1\" stroke-width=\"3.2\"/>\n",
       "<defs>\n",
       "  <clipPath id=\"clip913\">\n",
       "    <rect x=\"2160\" y=\"47\" width=\"73\" height=\"1440\"/>\n",
       "  </clipPath>\n",
       "</defs>\n",
       "<polyline clip-path=\"url(#clip913)\" style=\"stroke:#0a0723; stroke-width:4; stroke-opacity:1; fill:none\" points=\"\n",
       "  2160.76,1396.5 2232.76,1396.5 \n",
       "  \"/>\n",
       "<polyline clip-path=\"url(#clip913)\" style=\"stroke:#200c4a; stroke-width:4; stroke-opacity:1; fill:none\" points=\"\n",
       "  2160.76,1306.55 2232.76,1306.55 \n",
       "  \"/>\n",
       "<polyline clip-path=\"url(#clip913)\" style=\"stroke:#3c0965; stroke-width:4; stroke-opacity:1; fill:none\" points=\"\n",
       "  2160.76,1216.6 2232.76,1216.6 \n",
       "  \"/>\n",
       "<polyline clip-path=\"url(#clip913)\" style=\"stroke:#570f6d; stroke-width:4; stroke-opacity:1; fill:none\" points=\"\n",
       "  2160.76,1126.65 2232.76,1126.65 \n",
       "  \"/>\n",
       "<polyline clip-path=\"url(#clip913)\" style=\"stroke:#70196e; stroke-width:4; stroke-opacity:1; fill:none\" points=\"\n",
       "  2160.76,1036.7 2232.76,1036.7 \n",
       "  \"/>\n",
       "<polyline clip-path=\"url(#clip913)\" style=\"stroke:#892269; stroke-width:4; stroke-opacity:1; fill:none\" points=\"\n",
       "  2160.76,946.746 2232.76,946.746 \n",
       "  \"/>\n",
       "<polyline clip-path=\"url(#clip913)\" style=\"stroke:#a32b61; stroke-width:4; stroke-opacity:1; fill:none\" points=\"\n",
       "  2160.76,856.796 2232.76,856.796 \n",
       "  \"/>\n",
       "<polyline clip-path=\"url(#clip913)\" style=\"stroke:#bb3754; stroke-width:4; stroke-opacity:1; fill:none\" points=\"\n",
       "  2160.76,766.846 2232.76,766.846 \n",
       "  \"/>\n",
       "<polyline clip-path=\"url(#clip913)\" style=\"stroke:#d04544; stroke-width:4; stroke-opacity:1; fill:none\" points=\"\n",
       "  2160.76,676.896 2232.76,676.896 \n",
       "  \"/>\n",
       "<polyline clip-path=\"url(#clip913)\" style=\"stroke:#e35832; stroke-width:4; stroke-opacity:1; fill:none\" points=\"\n",
       "  2160.76,586.946 2232.76,586.946 \n",
       "  \"/>\n",
       "<polyline clip-path=\"url(#clip913)\" style=\"stroke:#f0701e; stroke-width:4; stroke-opacity:1; fill:none\" points=\"\n",
       "  2160.76,496.995 2232.76,496.995 \n",
       "  \"/>\n",
       "<polyline clip-path=\"url(#clip913)\" style=\"stroke:#f98c09; stroke-width:4; stroke-opacity:1; fill:none\" points=\"\n",
       "  2160.76,407.045 2232.76,407.045 \n",
       "  \"/>\n",
       "<polyline clip-path=\"url(#clip913)\" style=\"stroke:#fbaa0e; stroke-width:4; stroke-opacity:1; fill:none\" points=\"\n",
       "  2160.76,317.095 2232.76,317.095 \n",
       "  \"/>\n",
       "<polyline clip-path=\"url(#clip913)\" style=\"stroke:#f8c931; stroke-width:4; stroke-opacity:1; fill:none\" points=\"\n",
       "  2160.76,227.145 2232.76,227.145 \n",
       "  \"/>\n",
       "<polyline clip-path=\"url(#clip913)\" style=\"stroke:#f1e864; stroke-width:4; stroke-opacity:1; fill:none\" points=\"\n",
       "  2160.76,137.194 2232.76,137.194 \n",
       "  \"/>\n",
       "<path clip-path=\"url(#clip910)\" d=\"M 0 0 M2269.43 1316.1 L2277.07 1316.1 L2277.07 1289.73 L2268.76 1291.4 L2268.76 1287.14 L2277.02 1285.47 L2281.7 1285.47 L2281.7 1316.1 L2289.33 1316.1 L2289.33 1320.03 L2269.43 1320.03 L2269.43 1316.1 Z\" fill=\"#000000\" fill-rule=\"evenodd\" fill-opacity=\"1\" /><path clip-path=\"url(#clip910)\" d=\"M 0 0 M2304.4 1288.55 Q2300.79 1288.55 2298.96 1292.12 Q2297.16 1295.66 2297.16 1302.79 Q2297.16 1309.89 2298.96 1313.46 Q2300.79 1317 2304.4 1317 Q2308.04 1317 2309.84 1313.46 Q2311.67 1309.89 2311.67 1302.79 Q2311.67 1295.66 2309.84 1292.12 Q2308.04 1288.55 2304.4 1288.55 M2304.4 1284.85 Q2310.21 1284.85 2313.27 1289.46 Q2316.35 1294.04 2316.35 1302.79 Q2316.35 1311.52 2313.27 1316.12 Q2310.21 1320.7 2304.4 1320.7 Q2298.59 1320.7 2295.52 1316.12 Q2292.46 1311.52 2292.46 1302.79 Q2292.46 1294.04 2295.52 1289.46 Q2298.59 1284.85 2304.4 1284.85 Z\" fill=\"#000000\" fill-rule=\"evenodd\" fill-opacity=\"1\" /><path clip-path=\"url(#clip910)\" d=\"M 0 0 M2331.42 1288.55 Q2327.81 1288.55 2325.98 1292.12 Q2324.17 1295.66 2324.17 1302.79 Q2324.17 1309.89 2325.98 1313.46 Q2327.81 1317 2331.42 1317 Q2335.05 1317 2336.86 1313.46 Q2338.69 1309.89 2338.69 1302.79 Q2338.69 1295.66 2336.86 1292.12 Q2335.05 1288.55 2331.42 1288.55 M2331.42 1284.85 Q2337.23 1284.85 2340.28 1289.46 Q2343.36 1294.04 2343.36 1302.79 Q2343.36 1311.52 2340.28 1316.12 Q2337.23 1320.7 2331.42 1320.7 Q2325.61 1320.7 2322.53 1316.12 Q2319.47 1311.52 2319.47 1302.79 Q2319.47 1294.04 2322.53 1289.46 Q2325.61 1284.85 2331.42 1284.85 Z\" fill=\"#000000\" fill-rule=\"evenodd\" fill-opacity=\"1\" /><path clip-path=\"url(#clip910)\" d=\"M 0 0 M2274.38 1132.29 L2290.7 1132.29 L2290.7 1136.23 L2268.76 1136.23 L2268.76 1132.29 Q2271.42 1129.54 2276 1124.91 Q2280.61 1120.26 2281.79 1118.91 Q2284.03 1116.39 2284.91 1114.65 Q2285.82 1112.9 2285.82 1111.21 Q2285.82 1108.45 2283.87 1106.71 Q2281.95 1104.98 2278.85 1104.98 Q2276.65 1104.98 2274.2 1105.74 Q2271.77 1106.51 2268.99 1108.06 L2268.99 1103.34 Q2271.81 1102.2 2274.27 1101.62 Q2276.72 1101.04 2278.76 1101.04 Q2284.13 1101.04 2287.32 1103.73 Q2290.52 1106.41 2290.52 1110.9 Q2290.52 1113.03 2289.7 1114.96 Q2288.92 1116.85 2286.81 1119.45 Q2286.23 1120.12 2283.13 1123.34 Q2280.03 1126.53 2274.38 1132.29 Z\" fill=\"#000000\" fill-rule=\"evenodd\" fill-opacity=\"1\" /><path clip-path=\"url(#clip910)\" d=\"M 0 0 M2305.77 1104.75 Q2302.16 1104.75 2300.33 1108.31 Q2298.52 1111.85 2298.52 1118.98 Q2298.52 1126.09 2300.33 1129.65 Q2302.16 1133.2 2305.77 1133.2 Q2309.4 1133.2 2311.21 1129.65 Q2313.04 1126.09 2313.04 1118.98 Q2313.04 1111.85 2311.21 1108.31 Q2309.4 1104.75 2305.77 1104.75 M2305.77 1101.04 Q2311.58 1101.04 2314.64 1105.65 Q2317.71 1110.23 2317.71 1118.98 Q2317.71 1127.71 2314.64 1132.32 Q2311.58 1136.9 2305.77 1136.9 Q2299.96 1136.9 2296.88 1132.32 Q2293.83 1127.71 2293.83 1118.98 Q2293.83 1110.23 2296.88 1105.65 Q2299.96 1101.04 2305.77 1101.04 Z\" fill=\"#000000\" fill-rule=\"evenodd\" fill-opacity=\"1\" /><path clip-path=\"url(#clip910)\" d=\"M 0 0 M2332.78 1104.75 Q2329.17 1104.75 2327.34 1108.31 Q2325.54 1111.85 2325.54 1118.98 Q2325.54 1126.09 2327.34 1129.65 Q2329.17 1133.2 2332.78 1133.2 Q2336.42 1133.2 2338.22 1129.65 Q2340.05 1126.09 2340.05 1118.98 Q2340.05 1111.85 2338.22 1108.31 Q2336.42 1104.75 2332.78 1104.75 M2332.78 1101.04 Q2338.59 1101.04 2341.65 1105.65 Q2344.73 1110.23 2344.73 1118.98 Q2344.73 1127.71 2341.65 1132.32 Q2338.59 1136.9 2332.78 1136.9 Q2326.97 1136.9 2323.89 1132.32 Q2320.84 1127.71 2320.84 1118.98 Q2320.84 1110.23 2323.89 1105.65 Q2326.97 1101.04 2332.78 1101.04 Z\" fill=\"#000000\" fill-rule=\"evenodd\" fill-opacity=\"1\" /><path clip-path=\"url(#clip910)\" d=\"M 0 0 M2284.38 933.79 Q2287.74 934.507 2289.61 936.776 Q2291.51 939.044 2291.51 942.378 Q2291.51 947.493 2287.99 950.294 Q2284.47 953.095 2277.99 953.095 Q2275.82 953.095 2273.5 952.655 Q2271.21 952.239 2268.76 951.382 L2268.76 946.868 Q2270.7 948.002 2273.02 948.581 Q2275.33 949.16 2277.85 949.16 Q2282.25 949.16 2284.54 947.424 Q2286.86 945.688 2286.86 942.378 Q2286.86 939.322 2284.7 937.609 Q2282.58 935.873 2278.76 935.873 L2274.73 935.873 L2274.73 932.03 L2278.94 932.03 Q2282.39 932.03 2284.22 930.665 Q2286.05 929.276 2286.05 926.683 Q2286.05 924.021 2284.15 922.609 Q2282.27 921.174 2278.76 921.174 Q2276.83 921.174 2274.64 921.591 Q2272.44 922.007 2269.8 922.887 L2269.8 918.72 Q2272.46 917.98 2274.77 917.609 Q2277.11 917.239 2279.17 917.239 Q2284.5 917.239 2287.6 919.669 Q2290.7 922.077 2290.7 926.197 Q2290.7 929.067 2289.06 931.058 Q2287.41 933.026 2284.38 933.79 Z\" fill=\"#000000\" fill-rule=\"evenodd\" fill-opacity=\"1\" /><path clip-path=\"url(#clip910)\" d=\"M 0 0 M2306.58 920.942 Q2302.97 920.942 2301.14 924.507 Q2299.33 928.049 2299.33 935.178 Q2299.33 942.285 2301.14 945.85 Q2302.97 949.391 2306.58 949.391 Q2310.21 949.391 2312.02 945.85 Q2313.85 942.285 2313.85 935.178 Q2313.85 928.049 2312.02 924.507 Q2310.21 920.942 2306.58 920.942 M2306.58 917.239 Q2312.39 917.239 2315.45 921.845 Q2318.52 926.429 2318.52 935.178 Q2318.52 943.905 2315.45 948.512 Q2312.39 953.095 2306.58 953.095 Q2300.77 953.095 2297.69 948.512 Q2294.64 943.905 2294.64 935.178 Q2294.64 926.429 2297.69 921.845 Q2300.77 917.239 2306.58 917.239 Z\" fill=\"#000000\" fill-rule=\"evenodd\" fill-opacity=\"1\" /><path clip-path=\"url(#clip910)\" d=\"M 0 0 M2333.59 920.942 Q2329.98 920.942 2328.15 924.507 Q2326.35 928.049 2326.35 935.178 Q2326.35 942.285 2328.15 945.85 Q2329.98 949.391 2333.59 949.391 Q2337.23 949.391 2339.03 945.85 Q2340.86 942.285 2340.86 935.178 Q2340.86 928.049 2339.03 924.507 Q2337.23 920.942 2333.59 920.942 M2333.59 917.239 Q2339.4 917.239 2342.46 921.845 Q2345.54 926.429 2345.54 935.178 Q2345.54 943.905 2342.46 948.512 Q2339.4 953.095 2333.59 953.095 Q2327.78 953.095 2324.7 948.512 Q2321.65 943.905 2321.65 935.178 Q2321.65 926.429 2324.7 921.845 Q2327.78 917.239 2333.59 917.239 Z\" fill=\"#000000\" fill-rule=\"evenodd\" fill-opacity=\"1\" /><path clip-path=\"url(#clip910)\" d=\"M 0 0 M2284.36 738.133 L2272.55 756.582 L2284.36 756.582 L2284.36 738.133 M2283.13 734.059 L2289.01 734.059 L2289.01 756.582 L2293.94 756.582 L2293.94 760.471 L2289.01 760.471 L2289.01 768.619 L2284.36 768.619 L2284.36 760.471 L2268.76 760.471 L2268.76 755.957 L2283.13 734.059 Z\" fill=\"#000000\" fill-rule=\"evenodd\" fill-opacity=\"1\" /><path clip-path=\"url(#clip910)\" d=\"M 0 0 M2309.01 737.138 Q2305.4 737.138 2303.57 740.702 Q2301.76 744.244 2301.76 751.374 Q2301.76 758.48 2303.57 762.045 Q2305.4 765.586 2309.01 765.586 Q2312.64 765.586 2314.45 762.045 Q2316.28 758.48 2316.28 751.374 Q2316.28 744.244 2314.45 740.702 Q2312.64 737.138 2309.01 737.138 M2309.01 733.434 Q2314.82 733.434 2317.88 738.04 Q2320.95 742.624 2320.95 751.374 Q2320.95 760.1 2317.88 764.707 Q2314.82 769.29 2309.01 769.29 Q2303.2 769.29 2300.12 764.707 Q2297.07 760.1 2297.07 751.374 Q2297.07 742.624 2300.12 738.04 Q2303.2 733.434 2309.01 733.434 Z\" fill=\"#000000\" fill-rule=\"evenodd\" fill-opacity=\"1\" /><path clip-path=\"url(#clip910)\" d=\"M 0 0 M2336.02 737.138 Q2332.41 737.138 2330.58 740.702 Q2328.78 744.244 2328.78 751.374 Q2328.78 758.48 2330.58 762.045 Q2332.41 765.586 2336.02 765.586 Q2339.66 765.586 2341.46 762.045 Q2343.29 758.48 2343.29 751.374 Q2343.29 744.244 2341.46 740.702 Q2339.66 737.138 2336.02 737.138 M2336.02 733.434 Q2341.83 733.434 2344.89 738.04 Q2347.97 742.624 2347.97 751.374 Q2347.97 760.1 2344.89 764.707 Q2341.83 769.29 2336.02 769.29 Q2330.21 769.29 2327.14 764.707 Q2324.08 760.1 2324.08 751.374 Q2324.08 742.624 2327.14 738.04 Q2330.21 733.434 2336.02 733.434 Z\" fill=\"#000000\" fill-rule=\"evenodd\" fill-opacity=\"1\" /><path clip-path=\"url(#clip910)\" d=\"M 0 0 M2270.21 550.254 L2288.57 550.254 L2288.57 554.189 L2274.5 554.189 L2274.5 562.661 Q2275.52 562.314 2276.53 562.152 Q2277.55 561.967 2278.57 561.967 Q2284.36 561.967 2287.74 565.138 Q2291.12 568.309 2291.12 573.726 Q2291.12 579.305 2287.64 582.406 Q2284.17 585.485 2277.85 585.485 Q2275.68 585.485 2273.41 585.115 Q2271.16 584.744 2268.76 584.004 L2268.76 579.305 Q2270.84 580.439 2273.06 580.994 Q2275.28 581.55 2277.76 581.55 Q2281.77 581.55 2284.1 579.444 Q2286.44 577.337 2286.44 573.726 Q2286.44 570.115 2284.1 568.008 Q2281.77 565.902 2277.76 565.902 Q2275.89 565.902 2274.01 566.319 Q2272.16 566.735 2270.21 567.615 L2270.21 550.254 Z\" fill=\"#000000\" fill-rule=\"evenodd\" fill-opacity=\"1\" /><path clip-path=\"url(#clip910)\" d=\"M 0 0 M2306.19 553.333 Q2302.58 553.333 2300.75 556.897 Q2298.94 560.439 2298.94 567.569 Q2298.94 574.675 2300.75 578.24 Q2302.58 581.781 2306.19 581.781 Q2309.82 581.781 2311.63 578.24 Q2313.45 574.675 2313.45 567.569 Q2313.45 560.439 2311.63 556.897 Q2309.82 553.333 2306.19 553.333 M2306.19 549.629 Q2312 549.629 2315.05 554.235 Q2318.13 558.819 2318.13 567.569 Q2318.13 576.295 2315.05 580.902 Q2312 585.485 2306.19 585.485 Q2300.38 585.485 2297.3 580.902 Q2294.24 576.295 2294.24 567.569 Q2294.24 558.819 2297.3 554.235 Q2300.38 549.629 2306.19 549.629 Z\" fill=\"#000000\" fill-rule=\"evenodd\" fill-opacity=\"1\" /><path clip-path=\"url(#clip910)\" d=\"M 0 0 M2333.2 553.333 Q2329.59 553.333 2327.76 556.897 Q2325.95 560.439 2325.95 567.569 Q2325.95 574.675 2327.76 578.24 Q2329.59 581.781 2333.2 581.781 Q2336.83 581.781 2338.64 578.24 Q2340.47 574.675 2340.47 567.569 Q2340.47 560.439 2338.64 556.897 Q2336.83 553.333 2333.2 553.333 M2333.2 549.629 Q2339.01 549.629 2342.07 554.235 Q2345.14 558.819 2345.14 567.569 Q2345.14 576.295 2342.07 580.902 Q2339.01 585.485 2333.2 585.485 Q2327.39 585.485 2324.31 580.902 Q2321.26 576.295 2321.26 567.569 Q2321.26 558.819 2324.31 554.235 Q2327.39 549.629 2333.2 549.629 Z\" fill=\"#000000\" fill-rule=\"evenodd\" fill-opacity=\"1\" /><path clip-path=\"url(#clip910)\" d=\"M 0 0 M2281.09 381.866 Q2277.95 381.866 2276.09 384.018 Q2274.27 386.171 2274.27 389.921 Q2274.27 393.648 2276.09 395.824 Q2277.95 397.977 2281.09 397.977 Q2284.24 397.977 2286.07 395.824 Q2287.92 393.648 2287.92 389.921 Q2287.92 386.171 2286.07 384.018 Q2284.24 381.866 2281.09 381.866 M2290.38 367.213 L2290.38 371.472 Q2288.62 370.639 2286.81 370.199 Q2285.03 369.759 2283.27 369.759 Q2278.64 369.759 2276.19 372.884 Q2273.76 376.009 2273.41 382.328 Q2274.77 380.315 2276.83 379.25 Q2278.89 378.162 2281.37 378.162 Q2286.58 378.162 2289.59 381.333 Q2292.62 384.481 2292.62 389.921 Q2292.62 395.245 2289.47 398.463 Q2286.33 401.68 2281.09 401.68 Q2275.1 401.68 2271.93 397.097 Q2268.76 392.49 2268.76 383.764 Q2268.76 375.569 2272.64 370.708 Q2276.53 365.824 2283.08 365.824 Q2284.84 365.824 2286.63 366.171 Q2288.43 366.518 2290.38 367.213 Z\" fill=\"#000000\" fill-rule=\"evenodd\" fill-opacity=\"1\" /><path clip-path=\"url(#clip910)\" d=\"M 0 0 M2307.69 369.528 Q2304.08 369.528 2302.25 373.092 Q2300.45 376.634 2300.45 383.764 Q2300.45 390.87 2302.25 394.435 Q2304.08 397.977 2307.69 397.977 Q2311.33 397.977 2313.13 394.435 Q2314.96 390.87 2314.96 383.764 Q2314.96 376.634 2313.13 373.092 Q2311.33 369.528 2307.69 369.528 M2307.69 365.824 Q2313.5 365.824 2316.56 370.43 Q2319.64 375.014 2319.64 383.764 Q2319.64 392.49 2316.56 397.097 Q2313.5 401.68 2307.69 401.68 Q2301.88 401.68 2298.8 397.097 Q2295.75 392.49 2295.75 383.764 Q2295.75 375.014 2298.8 370.43 Q2301.88 365.824 2307.69 365.824 Z\" fill=\"#000000\" fill-rule=\"evenodd\" fill-opacity=\"1\" /><path clip-path=\"url(#clip910)\" d=\"M 0 0 M2334.7 369.528 Q2331.09 369.528 2329.26 373.092 Q2327.46 376.634 2327.46 383.764 Q2327.46 390.87 2329.26 394.435 Q2331.09 397.977 2334.7 397.977 Q2338.34 397.977 2340.14 394.435 Q2341.97 390.87 2341.97 383.764 Q2341.97 376.634 2340.14 373.092 Q2338.34 369.528 2334.7 369.528 M2334.7 365.824 Q2340.51 365.824 2343.57 370.43 Q2346.65 375.014 2346.65 383.764 Q2346.65 392.49 2343.57 397.097 Q2340.51 401.68 2334.7 401.68 Q2328.89 401.68 2325.82 397.097 Q2322.76 392.49 2322.76 383.764 Q2322.76 375.014 2325.82 370.43 Q2328.89 365.824 2334.7 365.824 Z\" fill=\"#000000\" fill-rule=\"evenodd\" fill-opacity=\"1\" /><path clip-path=\"url(#clip910)\" d=\"M 0 0 M2268.76 182.644 L2290.98 182.644 L2290.98 184.635 L2278.43 217.204 L2273.55 217.204 L2285.35 186.579 L2268.76 186.579 L2268.76 182.644 Z\" fill=\"#000000\" fill-rule=\"evenodd\" fill-opacity=\"1\" /><path clip-path=\"url(#clip910)\" d=\"M 0 0 M2306.05 185.723 Q2302.44 185.723 2300.61 189.287 Q2298.8 192.829 2298.8 199.959 Q2298.8 207.065 2300.61 210.63 Q2302.44 214.172 2306.05 214.172 Q2309.68 214.172 2311.49 210.63 Q2313.32 207.065 2313.32 199.959 Q2313.32 192.829 2311.49 189.287 Q2309.68 185.723 2306.05 185.723 M2306.05 182.019 Q2311.86 182.019 2314.91 186.625 Q2317.99 191.209 2317.99 199.959 Q2317.99 208.686 2314.91 213.292 Q2311.86 217.875 2306.05 217.875 Q2300.24 217.875 2297.16 213.292 Q2294.1 208.686 2294.1 199.959 Q2294.1 191.209 2297.16 186.625 Q2300.24 182.019 2306.05 182.019 Z\" fill=\"#000000\" fill-rule=\"evenodd\" fill-opacity=\"1\" /><path clip-path=\"url(#clip910)\" d=\"M 0 0 M2333.06 185.723 Q2329.45 185.723 2327.62 189.287 Q2325.82 192.829 2325.82 199.959 Q2325.82 207.065 2327.62 210.63 Q2329.45 214.172 2333.06 214.172 Q2336.7 214.172 2338.5 210.63 Q2340.33 207.065 2340.33 199.959 Q2340.33 192.829 2338.5 189.287 Q2336.7 185.723 2333.06 185.723 M2333.06 182.019 Q2338.87 182.019 2341.93 186.625 Q2345.01 191.209 2345.01 199.959 Q2345.01 208.686 2341.93 213.292 Q2338.87 217.875 2333.06 217.875 Q2327.25 217.875 2324.17 213.292 Q2321.12 208.686 2321.12 199.959 Q2321.12 191.209 2324.17 186.625 Q2327.25 182.019 2333.06 182.019 Z\" fill=\"#000000\" fill-rule=\"evenodd\" fill-opacity=\"1\" /><polyline clip-path=\"url(#clip910)\" style=\"stroke:#000000; stroke-width:4; stroke-opacity:1; fill:none\" points=\"\n",
       "  2232.76,1486.45 2232.76,1306.38 2256.76,1306.38 2232.76,1306.38 2232.76,1122.58 2256.76,1122.58 2232.76,1122.58 2232.76,938.773 2256.76,938.773 2232.76,938.773 \n",
       "  2232.76,754.968 2256.76,754.968 2232.76,754.968 2232.76,571.163 2256.76,571.163 2232.76,571.163 2232.76,387.358 2256.76,387.358 2232.76,387.358 2232.76,203.553 \n",
       "  2256.76,203.553 2232.76,203.553 2232.76,47.2441 \n",
       "  \"/>\n",
       "<path clip-path=\"url(#clip910)\" d=\"\n",
       "M1488.21 251.724 L2040.76 251.724 L2040.76 130.764 L1488.21 130.764  Z\n",
       "  \" fill=\"#ffffff\" fill-rule=\"evenodd\" fill-opacity=\"1\"/>\n",
       "<polyline clip-path=\"url(#clip910)\" style=\"stroke:#000000; stroke-width:4; stroke-opacity:1; fill:none\" points=\"\n",
       "  1488.21,251.724 2040.76,251.724 2040.76,130.764 1488.21,130.764 1488.21,251.724 \n",
       "  \"/>\n",
       "<circle clip-path=\"url(#clip910)\" cx=\"1596.21\" cy=\"191.244\" r=\"23\" fill=\"#ff0000\" fill-rule=\"evenodd\" fill-opacity=\"1\" stroke=\"#000000\" stroke-opacity=\"1\" stroke-width=\"5.12\"/>\n",
       "<path clip-path=\"url(#clip910)\" d=\"M 0 0 M1700.56 187.575 Q1702.16 184.705 1704.38 183.339 Q1706.6 181.973 1709.61 181.973 Q1713.66 181.973 1715.86 184.821 Q1718.06 187.645 1718.06 192.876 L1718.06 208.524 L1713.78 208.524 L1713.78 193.015 Q1713.78 189.288 1712.46 187.483 Q1711.14 185.677 1708.43 185.677 Q1705.12 185.677 1703.2 187.876 Q1701.28 190.075 1701.28 193.871 L1701.28 208.524 L1696.99 208.524 L1696.99 193.015 Q1696.99 189.265 1695.67 187.483 Q1694.35 185.677 1691.6 185.677 Q1688.34 185.677 1686.41 187.899 Q1684.49 190.098 1684.49 193.871 L1684.49 208.524 L1680.21 208.524 L1680.21 182.598 L1684.49 182.598 L1684.49 186.626 Q1685.95 184.242 1687.99 183.108 Q1690.03 181.973 1692.83 181.973 Q1695.65 181.973 1697.62 183.408 Q1699.61 184.844 1700.56 187.575 Z\" fill=\"#000000\" fill-rule=\"evenodd\" fill-opacity=\"1\" /><path clip-path=\"url(#clip910)\" d=\"M 0 0 M1722.53 182.598 L1726.79 182.598 L1726.79 208.524 L1722.53 208.524 L1722.53 182.598 M1722.53 172.506 L1726.79 172.506 L1726.79 177.899 L1722.53 177.899 L1722.53 172.506 Z\" fill=\"#000000\" fill-rule=\"evenodd\" fill-opacity=\"1\" /><path clip-path=\"url(#clip910)\" d=\"M 0 0 M1752.8 192.876 L1752.8 208.524 L1748.54 208.524 L1748.54 193.015 Q1748.54 189.334 1747.11 187.506 Q1745.67 185.677 1742.8 185.677 Q1739.35 185.677 1737.36 187.876 Q1735.37 190.075 1735.37 193.871 L1735.37 208.524 L1731.09 208.524 L1731.09 182.598 L1735.37 182.598 L1735.37 186.626 Q1736.9 184.288 1738.96 183.131 Q1741.04 181.973 1743.75 181.973 Q1748.22 181.973 1750.51 184.751 Q1752.8 187.506 1752.8 192.876 Z\" fill=\"#000000\" fill-rule=\"evenodd\" fill-opacity=\"1\" /><path clip-path=\"url(#clip910)\" d=\"M 0 0 M1757.27 182.598 L1761.53 182.598 L1761.53 208.524 L1757.27 208.524 L1757.27 182.598 M1757.27 172.506 L1761.53 172.506 L1761.53 177.899 L1757.27 177.899 L1757.27 172.506 Z\" fill=\"#000000\" fill-rule=\"evenodd\" fill-opacity=\"1\" /><path clip-path=\"url(#clip910)\" d=\"M 0 0 M1786.18 187.575 Q1787.78 184.705 1790 183.339 Q1792.22 181.973 1795.23 181.973 Q1799.28 181.973 1801.48 184.821 Q1803.68 187.645 1803.68 192.876 L1803.68 208.524 L1799.4 208.524 L1799.4 193.015 Q1799.4 189.288 1798.08 187.483 Q1796.76 185.677 1794.05 185.677 Q1790.74 185.677 1788.82 187.876 Q1786.9 190.075 1786.9 193.871 L1786.9 208.524 L1782.62 208.524 L1782.62 193.015 Q1782.62 189.265 1781.3 187.483 Q1779.98 185.677 1777.22 185.677 Q1773.96 185.677 1772.04 187.899 Q1770.12 190.098 1770.12 193.871 L1770.12 208.524 L1765.84 208.524 L1765.84 182.598 L1770.12 182.598 L1770.12 186.626 Q1771.58 184.242 1773.61 183.108 Q1775.65 181.973 1778.45 181.973 Q1781.28 181.973 1783.24 183.408 Q1785.23 184.844 1786.18 187.575 Z\" fill=\"#000000\" fill-rule=\"evenodd\" fill-opacity=\"1\" /><path clip-path=\"url(#clip910)\" d=\"M 0 0 M1807.71 198.293 L1807.71 182.598 L1811.97 182.598 L1811.97 198.131 Q1811.97 201.811 1813.41 203.663 Q1814.84 205.492 1817.71 205.492 Q1821.16 205.492 1823.15 203.293 Q1825.16 201.094 1825.16 197.297 L1825.16 182.598 L1829.42 182.598 L1829.42 208.524 L1825.16 208.524 L1825.16 204.543 Q1823.61 206.904 1821.55 208.061 Q1819.52 209.195 1816.81 209.195 Q1812.34 209.195 1810.03 206.418 Q1807.71 203.64 1807.71 198.293 M1818.43 181.973 L1818.43 181.973 Z\" fill=\"#000000\" fill-rule=\"evenodd\" fill-opacity=\"1\" /><path clip-path=\"url(#clip910)\" d=\"M 0 0 M1854.08 187.575 Q1855.67 184.705 1857.9 183.339 Q1860.12 181.973 1863.13 181.973 Q1867.18 181.973 1869.38 184.821 Q1871.58 187.645 1871.58 192.876 L1871.58 208.524 L1867.29 208.524 L1867.29 193.015 Q1867.29 189.288 1865.97 187.483 Q1864.65 185.677 1861.95 185.677 Q1858.64 185.677 1856.71 187.876 Q1854.79 190.075 1854.79 193.871 L1854.79 208.524 L1850.51 208.524 L1850.51 193.015 Q1850.51 189.265 1849.19 187.483 Q1847.87 185.677 1845.12 185.677 Q1841.85 185.677 1839.93 187.899 Q1838.01 190.098 1838.01 193.871 L1838.01 208.524 L1833.73 208.524 L1833.73 182.598 L1838.01 182.598 L1838.01 186.626 Q1839.47 184.242 1841.51 183.108 Q1843.54 181.973 1846.34 181.973 Q1849.17 181.973 1851.14 183.408 Q1853.13 184.844 1854.08 187.575 Z\" fill=\"#000000\" fill-rule=\"evenodd\" fill-opacity=\"1\" /><path clip-path=\"url(#clip910)\" d=\"M 0 0 M1895.23 204.635 L1895.23 218.385 L1890.95 218.385 L1890.95 182.598 L1895.23 182.598 L1895.23 186.533 Q1896.58 184.219 1898.61 183.108 Q1900.67 181.973 1903.52 181.973 Q1908.24 181.973 1911.18 185.723 Q1914.15 189.473 1914.15 195.584 Q1914.15 201.695 1911.18 205.445 Q1908.24 209.195 1903.52 209.195 Q1900.67 209.195 1898.61 208.084 Q1896.58 206.95 1895.23 204.635 M1909.72 195.584 Q1909.72 190.885 1907.78 188.223 Q1905.86 185.538 1902.48 185.538 Q1899.1 185.538 1897.15 188.223 Q1895.23 190.885 1895.23 195.584 Q1895.23 200.283 1897.15 202.969 Q1899.1 205.631 1902.48 205.631 Q1905.86 205.631 1907.78 202.969 Q1909.72 200.283 1909.72 195.584 Z\" fill=\"#000000\" fill-rule=\"evenodd\" fill-opacity=\"1\" /><path clip-path=\"url(#clip910)\" d=\"M 0 0 M1928.66 185.584 Q1925.23 185.584 1923.24 188.27 Q1921.25 190.932 1921.25 195.584 Q1921.25 200.237 1923.22 202.922 Q1925.21 205.584 1928.66 205.584 Q1932.06 205.584 1934.05 202.899 Q1936.04 200.214 1936.04 195.584 Q1936.04 190.978 1934.05 188.293 Q1932.06 185.584 1928.66 185.584 M1928.66 181.973 Q1934.21 181.973 1937.39 185.584 Q1940.56 189.195 1940.56 195.584 Q1940.56 201.95 1937.39 205.584 Q1934.21 209.195 1928.66 209.195 Q1923.08 209.195 1919.91 205.584 Q1916.76 201.95 1916.76 195.584 Q1916.76 189.195 1919.91 185.584 Q1923.08 181.973 1928.66 181.973 Z\" fill=\"#000000\" fill-rule=\"evenodd\" fill-opacity=\"1\" /><path clip-path=\"url(#clip910)\" d=\"M 0 0 M1945.02 182.598 L1949.28 182.598 L1949.28 208.524 L1945.02 208.524 L1945.02 182.598 M1945.02 172.506 L1949.28 172.506 L1949.28 177.899 L1945.02 177.899 L1945.02 172.506 Z\" fill=\"#000000\" fill-rule=\"evenodd\" fill-opacity=\"1\" /><path clip-path=\"url(#clip910)\" d=\"M 0 0 M1975.3 192.876 L1975.3 208.524 L1971.04 208.524 L1971.04 193.015 Q1971.04 189.334 1969.61 187.506 Q1968.17 185.677 1965.3 185.677 Q1961.85 185.677 1959.86 187.876 Q1957.87 190.075 1957.87 193.871 L1957.87 208.524 L1953.59 208.524 L1953.59 182.598 L1957.87 182.598 L1957.87 186.626 Q1959.4 184.288 1961.46 183.131 Q1963.54 181.973 1966.25 181.973 Q1970.72 181.973 1973.01 184.751 Q1975.3 187.506 1975.3 192.876 Z\" fill=\"#000000\" fill-rule=\"evenodd\" fill-opacity=\"1\" /><path clip-path=\"url(#clip910)\" d=\"M 0 0 M1983.98 175.237 L1983.98 182.598 L1992.76 182.598 L1992.76 185.908 L1983.98 185.908 L1983.98 199.982 Q1983.98 203.154 1984.84 204.057 Q1985.72 204.959 1988.38 204.959 L1992.76 204.959 L1992.76 208.524 L1988.38 208.524 Q1983.45 208.524 1981.58 206.695 Q1979.7 204.844 1979.7 199.982 L1979.7 185.908 L1976.58 185.908 L1976.58 182.598 L1979.7 182.598 L1979.7 175.237 L1983.98 175.237 Z\" fill=\"#000000\" fill-rule=\"evenodd\" fill-opacity=\"1\" /></svg>\n"
      ]
     },
     "execution_count": 111,
     "metadata": {},
     "output_type": "execute_result"
    }
   ],
   "source": [
    "using Plots, Random\n",
    "Random.seed!(0)\n",
    "A = rand(25,2)\n",
    "b = rand(25)\n",
    "x1Grid = -5:0.1:5\n",
    "x2Grid = -5:0.1:5\n",
    "L(x1,x2) = norm(A*[x1,x2]-b)^2 #Loss (how much we loose for every [x1,x2])\n",
    "z = [L(x1,x2) for x1 in x1Grid, x2 in x2Grid]\n",
    "contour(x1Grid,x2Grid,z)\n",
    "xHat = pinv(A)*b\n",
    "@show xHat\n",
    "scatter!([xHat[1]],[xHat[2]],c=:red,label=\"minimum point\")"
   ]
  },
  {
   "cell_type": "code",
   "execution_count": 108,
   "metadata": {},
   "outputs": [
    {
     "data": {
      "text/plain": [
       "2-element Array{Float64,1}:\n",
       " 0.6081575832803787\n",
       " 0.42314686675129726"
      ]
     },
     "execution_count": 108,
     "metadata": {},
     "output_type": "execute_result"
    }
   ],
   "source": [
    "xHat"
   ]
  },
  {
   "cell_type": "markdown",
   "metadata": {},
   "source": [
    "$$\n",
    "\\begin{aligned} \\nabla f(x)_{k} &=\\frac{\\partial f}{\\partial x_{k}}(x) \\\\ &=\\sum_{i=1}^{m} 2\\left(\\sum_{j=1}^{n} A_{i j} x_{j}-b_{i}\\right)\\left(A_{i k}\\right) \\\\ &=\\sum_{i=1}^{m} 2\\left(A^{T}\\right)_{k i}(A x-b)_{i} \\\\ &=\\left(2 A^{T}(A x-b)\\right)_{k} \\end{aligned}\n",
    "$$"
   ]
  },
  {
   "cell_type": "markdown",
   "metadata": {},
   "source": [
    "\n",
    "## Now if $A = QR$?\n",
    "**complete...**"
   ]
  },
  {
   "cell_type": "markdown",
   "metadata": {},
   "source": [
    "## Least Squares Data Fitting"
   ]
  },
  {
   "cell_type": "markdown",
   "metadata": {},
   "source": [
    "From [SWJ] - Listing 8.2:"
   ]
  },
  {
   "cell_type": "code",
   "execution_count": 78,
   "metadata": {},
   "outputs": [
    {
     "name": "stderr",
     "output_type": "stream",
     "text": [
      "┌ Info: Precompiling GLM [38e38edf-8417-5370-95a0-9cbb8c7f171a]\n",
      "└ @ Base loading.jl:1260\n"
     ]
    },
    {
     "name": "stdout",
     "output_type": "stream",
     "text": [
      "[0.945, 0.945, 0.945, 0.945, 0.945, 0.945, 0.945, 0.945, 0.944, 0.945, 0.945]\n",
      "[0.716, 0.716, 0.716, 0.716, 0.716, 0.716, 0.716, 0.716, 0.717, 0.716, 0.716]\n"
     ]
    }
   ],
   "source": [
    "using DataFrames, GLM, Statistics, LinearAlgebra, CSV\n",
    "data = CSV.read(\"L1L2data.csv\")\n",
    "xVals, yVals = data[:,1], data[:,2]\n",
    "n = length(xVals)\n",
    "A = [ones(n) xVals]\n",
    "\n",
    "# Approach A\n",
    "xBar, yBar = mean(xVals),mean(yVals)\n",
    "sXX, sXY = ones(n)'*(xVals.-xBar).^2 , dot(xVals.-xBar,yVals.-yBar)\n",
    "b1A = sXY/sXX\n",
    "b0A = yBar - b1A*xBar\n",
    "\n",
    "# Approach B\n",
    "b1B = cor(xVals,yVals)*(std(yVals)/std(xVals))\n",
    "b0B = yBar - b1B*xBar\n",
    "\n",
    "# Approach C\n",
    "b0C, b1C = A'A \\ A'yVals\n",
    "\n",
    "# Approach D\n",
    "Adag = inv(A'*A)*A'\n",
    "b0D, b1D = Adag*yVals\n",
    "\n",
    "# Approach E\n",
    "b0E, b1E = pinv(A)*yVals\n",
    "\n",
    "# Approach F\n",
    "b0F, b1F = A\\yVals\n",
    "\n",
    "# Approach G\n",
    "F = qr(A)\n",
    "Q, R = F.Q, F.R\n",
    "b0G, b1G = (inv(R)*Q')*yVals\n",
    "\n",
    "# Approach H\n",
    "F = svd(A)\n",
    "V, Sp, Us = F.V, Diagonal(1 ./ F.S), F.U'\n",
    "b0H, b1H = (V*Sp*Us)*yVals\n",
    "\n",
    "# Approach I\n",
    "eta, eps = 0.002, 10^-6.\n",
    "b, bPrev = [0,0], [1,1]\n",
    "while norm(bPrev-b) >= eps\n",
    "    global bPrev = b\n",
    "    global b = b - eta*2*A'*(A*b - yVals)\n",
    "end\n",
    "b0I, b1I = b[1], b[2]\n",
    "\n",
    "# Approach J\n",
    "modelJ = lm(@formula(Y ~ X), data)\n",
    "b0J, b1J = coef(modelJ)\n",
    "\n",
    "# Approach K\n",
    "modelK = glm(@formula(Y ~ X), data, Normal())\n",
    "b0K, b1K = coef(modelK)\n",
    "println(round.([b0A,b0B,b0C,b0D,b0E,b0F,b0G,b0H,b0I,b0J,b0K],digits=3))\n",
    "println(round.([b1A,b1B,b1C,b1D,b1E,b1F,b1G,b1H,b1I,b1J,b1K],digits=3))"
   ]
  }
 ],
 "metadata": {
  "@webio": {
   "lastCommId": null,
   "lastKernelId": null
  },
  "kernelspec": {
   "display_name": "JuliaPro_v1.4.2-1 1.4.2",
   "language": "julia",
   "name": "juliapro_v1.4.2-1-1.4"
  },
  "language_info": {
   "file_extension": ".jl",
   "mimetype": "application/julia",
   "name": "julia",
   "version": "1.4.2"
  }
 },
 "nbformat": 4,
 "nbformat_minor": 4
}
