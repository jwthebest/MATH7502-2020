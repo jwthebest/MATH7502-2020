{
 "cells": [
  {
   "cell_type": "markdown",
   "metadata": {},
   "source": [
    "# Unit 3: Linear Transformations and Vector Spaces\n",
    "\n",
    "1. Linear transformations\n",
    "1. The matrix of a linear transformation\n",
    "1. Vector spaces\n",
    "1. Abstract vector spaces\n",
    "1. Range, null space, and the other two spaces of a matrix\n",
    "1. Relationships between the four fundamental subspaces\n",
    "1. Linearization \n",
    "1. Change of variables in multivariate integration\n"
   ]
  },
  {
   "cell_type": "markdown",
   "metadata": {},
   "source": [
    "A linear transformation $f: {\\mathbb R}^n \\to {\\mathbb R}^m$ satisfies:\n",
    "\n",
    "$$\n",
    "f(\\alpha_1 x + \\alpha_2 y) = \\alpha_1 f(x) + \\alpha_2 f(y).\n",
    "$$"
   ]
  },
  {
   "cell_type": "markdown",
   "metadata": {},
   "source": [
    "If $A \\in {\\mathbb R}^{m \\times n}$ then $f(x) = Ax$ is a linear transformation."
   ]
  },
  {
   "cell_type": "markdown",
   "metadata": {},
   "source": [
    "Proof:  $A \\times (\\alpha_1 x + \\alpha_2 y) = \\alpha_1 A x + \\alpha_2 A y = \\alpha_1 f(x) + \\alpha_2 f(y)$ "
   ]
  },
  {
   "cell_type": "markdown",
   "metadata": {},
   "source": [
    "Further, for any linear transformation there exists a unique matrix $A$. Proof..."
   ]
  },
  {
   "cell_type": "markdown",
   "metadata": {},
   "source": [
    "Examples:\n",
    "* Rotation\n",
    "* Shear\n",
    "* Scaling\n",
    "* Permutations\n",
    "* Row operations"
   ]
  },
  {
   "cell_type": "code",
   "execution_count": null,
   "metadata": {},
   "outputs": [],
   "source": []
  }
 ],
 "metadata": {
  "kernelspec": {
   "display_name": "JuliaPro_v1.4.2-1 1.4.2",
   "language": "julia",
   "name": "juliapro_v1.4.2-1-1.4"
  },
  "language_info": {
   "file_extension": ".jl",
   "mimetype": "application/julia",
   "name": "julia",
   "version": "1.4.2"
  }
 },
 "nbformat": 4,
 "nbformat_minor": 4
}
