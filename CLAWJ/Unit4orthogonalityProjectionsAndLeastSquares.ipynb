{
 "cells": [
  {
   "cell_type": "markdown",
   "metadata": {},
   "source": [
    "# Unit 4: Orthogonality, Projections, and Least Squares\n",
    "\n",
    "In this unit:\n",
    "1. Orthogonal and orthonormal vectors\n",
    "1. Orthogonal vector spaces and relations for the fundamental subspaces\n",
    "1. Grahm-Schmidt\n",
    "1. QR factorization.\n",
    "1. Projections\n",
    "1. Least Squares"
   ]
  },
  {
   "cell_type": "code",
   "execution_count": 807,
   "metadata": {},
   "outputs": [
    {
     "data": {
      "text/plain": [
       "5×5 Array{Float64,2}:\n",
       "  1.0   9.0  12.0  14.5  12.5\n",
       "  9.0  10.0  11.0  10.5  12.0\n",
       " 12.0  11.0  13.0  12.5  15.5\n",
       " 14.5  10.5  12.5   1.0   9.5\n",
       " 12.5  12.0  15.5   9.5  15.0"
      ]
     },
     "execution_count": 807,
     "metadata": {},
     "output_type": "execute_result"
    }
   ],
   "source": [
    "using LinearAlgebra\n",
    "A = rand(1:20,5,5)\n",
    "A = (A+A')/2"
   ]
  },
  {
   "cell_type": "code",
   "execution_count": 808,
   "metadata": {},
   "outputs": [
    {
     "data": {
      "text/plain": [
       "5-element Array{Float64,1}:\n",
       "  56.52528318030242\n",
       "   1.0848697059837762\n",
       "  -0.07654281905634898\n",
       "  -3.619192999395491\n",
       " -13.91441706783433"
      ]
     },
     "execution_count": 808,
     "metadata": {},
     "output_type": "execute_result"
    }
   ],
   "source": [
    "ev = reverse(eigvals(A))"
   ]
  },
  {
   "cell_type": "code",
   "execution_count": 809,
   "metadata": {},
   "outputs": [],
   "source": [
    "At = copy(A);"
   ]
  },
  {
   "cell_type": "code",
   "execution_count": 838,
   "metadata": {},
   "outputs": [
    {
     "data": {
      "text/plain": [
       "5×5 Array{Float64,2}:\n",
       " 56.5253         1.72512e-14   6.04835e-15   1.73952e-14  -2.162e-15\n",
       " -2.75403e-16  -13.9144       -1.00083e-14  -1.25402e-15  -6.97283e-15\n",
       " -1.95309e-33   -1.47281e-16  -3.61919      -1.53968e-14   2.25135e-15\n",
       " -8.55877e-48   -5.91068e-31  -1.50619e-14   1.08487      -3.50641e-15\n",
       "  3.37329e-82    8.97135e-66   1.59244e-48  -4.19187e-34  -0.0765428"
      ]
     },
     "execution_count": 838,
     "metadata": {},
     "output_type": "execute_result"
    }
   ],
   "source": [
    "Q, R = qr(At)\n",
    "At = R*Q"
   ]
  },
  {
   "cell_type": "code",
   "execution_count": 839,
   "metadata": {},
   "outputs": [
    {
     "data": {
      "text/plain": [
       "LinearAlgebra.QRCompactWY{Float64,Array{Float64,2}}\n",
       "Q factor:\n",
       "5×5 LinearAlgebra.QRCompactWYQ{Float64,Array{Float64,2}}:\n",
       " -0.0410824   0.927153   -0.156958   -0.211284  -0.26348\n",
       " -0.369742    0.21748     0.767344   -0.119274   0.461466\n",
       " -0.492989    0.0228927   0.162816    0.695004  -0.496888\n",
       " -0.595695   -0.291882   -0.0886033  -0.649806  -0.360353\n",
       " -0.51353     0.0858475  -0.593454    0.189351   0.583845\n",
       "R factor:\n",
       "5×5 Array{Float64,2}:\n",
       " -24.3413  -21.9072   -26.3749  -16.1146   -25.9538\n",
       "   0.0       8.73642   11.4978   16.5371    13.0689\n",
       "   0.0       0.0       -1.6322    2.08999    0.0262457\n",
       "   0.0       0.0        0.0       5.52059    3.36734\n",
       "   0.0       0.0        0.0       0.0       -0.123358"
      ]
     },
     "execution_count": 839,
     "metadata": {},
     "output_type": "execute_result"
    }
   ],
   "source": [
    "Q,R = qr(A)"
   ]
  },
  {
   "cell_type": "code",
   "execution_count": 848,
   "metadata": {},
   "outputs": [
    {
     "data": {
      "text/plain": [
       "48199"
      ]
     },
     "execution_count": 848,
     "metadata": {},
     "output_type": "execute_result"
    }
   ],
   "source": [
    "sum(det.([rand([1,2,3,4,5,6,6],3,3) for _ in 1:10^6]) .== 0)"
   ]
  },
  {
   "cell_type": "code",
   "execution_count": 844,
   "metadata": {},
   "outputs": [
    {
     "data": {
      "text/plain": [
       "100-element Array{Float64,1}:\n",
       " -90.0\n",
       "   0.0\n",
       "  -5.999999999999998\n",
       "  19.0\n",
       " -23.0\n",
       "  70.0\n",
       "   0.0\n",
       " -80.0\n",
       "  64.0\n",
       " -12.0\n",
       " 102.0\n",
       " -52.0\n",
       " -20.000000000000004\n",
       "   ⋮\n",
       "   5.999999999999994\n",
       " -15.0\n",
       " -42.0\n",
       " 102.0\n",
       " -26.000000000000007\n",
       "  -8.000000000000004\n",
       " -25.000000000000004\n",
       "   0.0\n",
       " -45.0\n",
       " -33.0\n",
       " 108.99999999999999\n",
       "  16.000000000000004"
      ]
     },
     "execution_count": 844,
     "metadata": {},
     "output_type": "execute_result"
    }
   ],
   "source": [
    "det.([rand([1,2,3,4,5,6,6],3,3) for _ in 1:100])"
   ]
  },
  {
   "cell_type": "code",
   "execution_count": 900,
   "metadata": {},
   "outputs": [
    {
     "data": {
      "text/plain": [
       "4-element Array{Int64,1}:\n",
       "     0\n",
       "   230\n",
       " 15037\n",
       " 84733"
      ]
     },
     "execution_count": 900,
     "metadata": {},
     "output_type": "execute_result"
    }
   ],
   "source": [
    "ℓ1 = 24; ℓ2=7; ℓ3 = -1;\n",
    "ranks = [0,0,0,0] \n",
    "for _ in 1:10^5\n",
    "    r = rank(rand([ℓ1,ℓ2,ℓ3],4,4))\n",
    "#     push!(ranks,r)\n",
    "    ranks[r] +=1\n",
    "end\n",
    "ranks"
   ]
  },
  {
   "cell_type": "code",
   "execution_count": 902,
   "metadata": {},
   "outputs": [
    {
     "data": {
      "text/plain": [
       "0-element Array{Float64,1}"
      ]
     },
     "execution_count": 902,
     "metadata": {},
     "output_type": "execute_result"
    }
   ],
   "source": [
    "x = ones(5)\n",
    "x[1:0]"
   ]
  },
  {
   "cell_type": "code",
   "execution_count": 903,
   "metadata": {},
   "outputs": [
    {
     "data": {
      "text/plain": [
       "0.0"
      ]
     },
     "execution_count": 903,
     "metadata": {},
     "output_type": "execute_result"
    }
   ],
   "source": [
    "dot(x[1:0],x[1:0])"
   ]
  },
  {
   "cell_type": "code",
   "execution_count": 906,
   "metadata": {},
   "outputs": [
    {
     "data": {
      "text/plain": [
       "1×3 Array{Int64,2}:\n",
       " 1  2  3"
      ]
     },
     "execution_count": 906,
     "metadata": {},
     "output_type": "execute_result"
    }
   ],
   "source": [
    "x = [1 2 3]"
   ]
  },
  {
   "cell_type": "code",
   "execution_count": 905,
   "metadata": {},
   "outputs": [
    {
     "data": {
      "text/plain": [
       "3×2 Array{Int64,2}:\n",
       " 2  3\n",
       " 4  5\n",
       " 6  8"
      ]
     },
     "execution_count": 905,
     "metadata": {},
     "output_type": "execute_result"
    }
   ],
   "source": [
    "A = [2 3 ; 4 5; 6 8]"
   ]
  },
  {
   "cell_type": "code",
   "execution_count": 908,
   "metadata": {},
   "outputs": [
    {
     "ename": "DimensionMismatch",
     "evalue": "DimensionMismatch(\"matrix A has dimensions (3,2), matrix B has dimensions (3,1)\")",
     "output_type": "error",
     "traceback": [
      "DimensionMismatch(\"matrix A has dimensions (3,2), matrix B has dimensions (3,1)\")",
      "",
      "Stacktrace:",
      " [1] _generic_matmatmul!(::Array{Int64,2}, ::Char, ::Char, ::Array{Int64,2}, ::Array{Int64,2}, ::LinearAlgebra.MulAddMul{true,true,Bool,Bool}) at /Users/vagrant/worker/juliapro-release-osx1011-0_6/build/tmp_julia/Julia-1.4.app/Contents/Resources/julia/share/julia/stdlib/v1.4/LinearAlgebra/src/matmul.jl:736",
      " [2] generic_matmatmul!(::Array{Int64,2}, ::Char, ::Char, ::Array{Int64,2}, ::Array{Int64,2}, ::LinearAlgebra.MulAddMul{true,true,Bool,Bool}) at /Users/vagrant/worker/juliapro-release-osx1011-0_6/build/tmp_julia/Julia-1.4.app/Contents/Resources/julia/share/julia/stdlib/v1.4/LinearAlgebra/src/matmul.jl:724",
      " [3] mul! at /Users/vagrant/worker/juliapro-release-osx1011-0_6/build/tmp_julia/Julia-1.4.app/Contents/Resources/julia/share/julia/stdlib/v1.4/LinearAlgebra/src/matmul.jl:411 [inlined]",
      " [4] mul! at /Users/vagrant/worker/juliapro-release-osx1011-0_6/build/tmp_julia/Julia-1.4.app/Contents/Resources/julia/share/julia/stdlib/v1.4/LinearAlgebra/src/matmul.jl:208 [inlined]",
      " [5] *(::Array{Int64,2}, ::Adjoint{Int64,Array{Int64,2}}) at /Users/vagrant/worker/juliapro-release-osx1011-0_6/build/tmp_julia/Julia-1.4.app/Contents/Resources/julia/share/julia/stdlib/v1.4/LinearAlgebra/src/matmul.jl:153",
      " [6] top-level scope at In[908]:1"
     ]
    }
   ],
   "source": [
    "A*x'"
   ]
  },
  {
   "cell_type": "code",
   "execution_count": 909,
   "metadata": {},
   "outputs": [
    {
     "data": {
      "text/plain": [
       "3×1 Adjoint{Int64,Array{Int64,2}}:\n",
       " 1\n",
       " 2\n",
       " 3"
      ]
     },
     "execution_count": 909,
     "metadata": {},
     "output_type": "execute_result"
    }
   ],
   "source": [
    "x'"
   ]
  },
  {
   "cell_type": "code",
   "execution_count": 911,
   "metadata": {},
   "outputs": [
    {
     "data": {
      "text/plain": [
       "false"
      ]
     },
     "execution_count": 911,
     "metadata": {},
     "output_type": "execute_result"
    }
   ],
   "source": [
    "x' === [1,2,3]"
   ]
  },
  {
   "cell_type": "code",
   "execution_count": null,
   "metadata": {},
   "outputs": [],
   "source": []
  }
 ],
 "metadata": {
  "kernelspec": {
   "display_name": "JuliaPro_v1.4.2-1 1.4.2",
   "language": "julia",
   "name": "juliapro_v1.4.2-1-1.4"
  },
  "language_info": {
   "file_extension": ".jl",
   "mimetype": "application/julia",
   "name": "julia",
   "version": "1.4.2"
  }
 },
 "nbformat": 4,
 "nbformat_minor": 4
}
