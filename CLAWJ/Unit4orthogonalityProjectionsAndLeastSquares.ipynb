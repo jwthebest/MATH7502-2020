{
 "cells": [
  {
   "cell_type": "markdown",
   "metadata": {},
   "source": [
    "# Unit 4: Orthogonality, Projections, and Least Squares\n",
    "\n",
    "In this unit:\n",
    "1. Orthogonal and orthonormal vectors\n",
    "1. Orthogonal vector spaces and relations for the fundamental subspaces\n",
    "1. Grahm-Schmidt\n",
    "1. QR factorization.\n",
    "1. Projections\n",
    "1. Least Squares"
   ]
  },
  {
   "cell_type": "markdown",
   "metadata": {},
   "source": [
    "Two vectors $u$ and $v$ are said to be **orthogonal** if $u \\cdot v = 0$."
   ]
  },
  {
   "cell_type": "code",
   "execution_count": 1,
   "metadata": {},
   "outputs": [
    {
     "data": {
      "text/plain": [
       "0"
      ]
     },
     "execution_count": 1,
     "metadata": {},
     "output_type": "execute_result"
    }
   ],
   "source": [
    "using LinearAlgebra\n",
    "u = [1,1];\n",
    "v =[-1,1];\n",
    "u⋅v"
   ]
  },
  {
   "cell_type": "markdown",
   "metadata": {},
   "source": [
    "A collection of vectors $\\{v_1,\\ldots,v_k\\}$ is said to be orthogonal if every pair $v_i$ and $v_j$ for $i \\neq j$ is orthogonal."
   ]
  },
  {
   "cell_type": "markdown",
   "metadata": {},
   "source": [
    "Further the collection is called **orthonormal** if $||v_i|| = 1$ for each $i$."
   ]
  },
  {
   "cell_type": "markdown",
   "metadata": {},
   "source": [
    "Hence for an orthonormal collection of vectors,\n",
    "$$\n",
    "v_i'v_j =\n",
    "\\begin{cases}\n",
    "1 & i=j \\\\\n",
    "0 & i \\neq j \\\\\n",
    "\\end{cases}\n",
    "$$\n"
   ]
  },
  {
   "cell_type": "markdown",
   "metadata": {},
   "source": [
    "Example: The standard $n$-vectors $e_1,\\ldots,e_n$ are orthonormal. But we can also rotate them or flip them and still keep orthonormal vectors."
   ]
  },
  {
   "cell_type": "markdown",
   "metadata": {},
   "source": [
    "**Claim:** Orthonormal vectors are linearly indepednent."
   ]
  },
  {
   "cell_type": "markdown",
   "metadata": {},
   "source": [
    "## Orthogonal Vector Spaces"
   ]
  },
  {
   "cell_type": "markdown",
   "metadata": {},
   "source": [
    "Vector spaces ${\\cal V}$ and ${\\cal W}$ are orthogonal if $v^Tw = 0$ for every $v \\in {\\cal V}$ and $w \\in {\\cal W}$."
   ]
  },
  {
   "cell_type": "markdown",
   "metadata": {},
   "source": [
    "## Projecting onto a line"
   ]
  },
  {
   "cell_type": "markdown",
   "metadata": {},
   "source": [
    "Projecting the vector $u$ onto the vector $v$ we get\n",
    "$$\n",
    "p = \\hat{x} \\, v = \\frac{v^T u}{v^T v} \\, v.\n",
    "$$"
   ]
  },
  {
   "cell_type": "markdown",
   "metadata": {},
   "source": [
    "## Gram - Schmidt"
   ]
  },
  {
   "cell_type": "markdown",
   "metadata": {},
   "source": [
    "(Alg 5.1, pp 97 [VMLS]:\n",
    "\n",
    "Given linearly $n$-vectors $v_1,\\ldots,v_k$, for $i=1,\\ldots,k$:\n",
    "\n",
    "1. Orthogonalization: Set\n",
    "$$\n",
    "\\tilde{q}_i = v_i - (q_1^T v_i) q_1 - \\ldots - (q_{i-1}^T v_i) q_{i-1}\n",
    "$$\n",
    "\n",
    "1. If $\\tilde{q}_i = 0$ quit saying \"linearly dependent\".\n",
    "1. Normalization: Set $q_i = \\tilde{q}_i/||\\tilde{q}_i||$."
   ]
  },
  {
   "cell_type": "markdown",
   "metadata": {},
   "source": [
    "**todo**: Implement Gram-Schmidt"
   ]
  },
  {
   "cell_type": "markdown",
   "metadata": {},
   "source": [
    "A matrix with orthonormal columns $A$ satisfies,\n",
    "\n",
    "$$\n",
    "A^TA = I\n",
    "$$\n",
    "\n",
    "This of $A$ as $n \\times k$ so the $I$ is $k \\times k$.\n",
    "\n",
    "If $A$ is in addition square then it is called an orthogonal matrix and $A^T = A^{-1}$."
   ]
  },
  {
   "cell_type": "markdown",
   "metadata": {},
   "source": [
    "1. $|| A x|| = ||x||$\n",
    "1. $(Ax)^T(Ay) = x^Ty$\n",
    "1. $\\angle (Ax, Ay) = \\angle (x,y)$"
   ]
  },
  {
   "cell_type": "markdown",
   "metadata": {},
   "source": [
    "## QR Factorization"
   ]
  },
  {
   "cell_type": "code",
   "execution_count": 41,
   "metadata": {},
   "outputs": [
    {
     "data": {
      "text/plain": [
       "LinearAlgebra.QRCompactWY{Float64,Array{Float64,2}}\n",
       "Q factor:\n",
       "4×4 LinearAlgebra.QRCompactWYQ{Float64,Array{Float64,2}}:\n",
       " -0.316228  -0.309965   0.642353  -0.625543\n",
       " -0.632456  -0.61993   -0.204385   0.417029\n",
       " -0.316228   0.132842  -0.700749  -0.625543\n",
       " -0.632456   0.708492   0.233583   0.208514\n",
       "R factor:\n",
       "3×3 Array{Float64,2}:\n",
       " -3.16228  -2.21359  -3.79473\n",
       "  0.0       2.25832   2.03691\n",
       "  0.0       0.0       0.671551"
      ]
     },
     "execution_count": 41,
     "metadata": {},
     "output_type": "execute_result"
    }
   ],
   "source": [
    "using LinearAlgebra\n",
    "A =[1 0 1;\n",
    "    2 0 1;\n",
    "    1 1 1;\n",
    "    2 3 4]\n",
    "F = qr(A)"
   ]
  },
  {
   "cell_type": "code",
   "execution_count": 34,
   "metadata": {},
   "outputs": [],
   "source": [
    "Q = F.Q;\n",
    "R = F.R;"
   ]
  },
  {
   "cell_type": "code",
   "execution_count": 35,
   "metadata": {},
   "outputs": [
    {
     "data": {
      "text/plain": [
       "4×4 LinearAlgebra.QRCompactWYQ{Float64,Array{Float64,2}}:\n",
       " -0.316228  -0.309965   0.642353  -0.625543\n",
       " -0.632456  -0.61993   -0.204385   0.417029\n",
       " -0.316228   0.132842  -0.700749  -0.625543\n",
       " -0.632456   0.708492   0.233583   0.208514"
      ]
     },
     "execution_count": 35,
     "metadata": {},
     "output_type": "execute_result"
    }
   ],
   "source": [
    "Q"
   ]
  },
  {
   "cell_type": "code",
   "execution_count": 33,
   "metadata": {},
   "outputs": [
    {
     "data": {
      "text/plain": [
       "3×3 Array{Float64,2}:\n",
       " -3.16228  -2.21359  -3.79473\n",
       "  0.0       2.25832   2.03691\n",
       "  0.0       0.0       0.671551"
      ]
     },
     "execution_count": 33,
     "metadata": {},
     "output_type": "execute_result"
    }
   ],
   "source": [
    "R"
   ]
  },
  {
   "cell_type": "code",
   "execution_count": 38,
   "metadata": {},
   "outputs": [
    {
     "data": {
      "text/plain": [
       "3"
      ]
     },
     "execution_count": 38,
     "metadata": {},
     "output_type": "execute_result"
    }
   ],
   "source": [
    "rank(Q[:,1:3])"
   ]
  },
  {
   "cell_type": "code",
   "execution_count": 36,
   "metadata": {},
   "outputs": [
    {
     "data": {
      "text/plain": [
       "4×4 Array{Float64,2}:\n",
       "  1.0          -5.55112e-17  8.32667e-17  -1.11022e-16\n",
       " -5.55112e-17   1.0          5.55112e-17  -1.66533e-16\n",
       "  8.32667e-17   5.55112e-17  1.0           3.46945e-17\n",
       " -1.11022e-16  -1.66533e-16  3.46945e-17   1.0"
      ]
     },
     "execution_count": 36,
     "metadata": {},
     "output_type": "execute_result"
    }
   ],
   "source": [
    "F.Q'*F.Q"
   ]
  },
  {
   "cell_type": "code",
   "execution_count": null,
   "metadata": {},
   "outputs": [],
   "source": []
  }
 ],
 "metadata": {
  "kernelspec": {
   "display_name": "JuliaPro_v1.4.2-1 1.4.2",
   "language": "julia",
   "name": "juliapro_v1.4.2-1-1.4"
  },
  "language_info": {
   "file_extension": ".jl",
   "mimetype": "application/julia",
   "name": "julia",
   "version": "1.4.2"
  }
 },
 "nbformat": 4,
 "nbformat_minor": 4
}
